{
  "nbformat": 4,
  "nbformat_minor": 0,
  "metadata": {
    "colab": {
      "provenance": [],
      "include_colab_link": true
    },
    "kernelspec": {
      "name": "python3",
      "display_name": "Python 3"
    },
    "language_info": {
      "name": "python"
    },
    "accelerator": "GPU",
    "gpuClass": "standard"
  },
  "cells": [
    {
      "cell_type": "markdown",
      "metadata": {
        "id": "view-in-github",
        "colab_type": "text"
      },
      "source": [
        "<a href=\"https://colab.research.google.com/github/ZenaPoudel/Schiz_Detector/blob/main/mcic_t2.ipynb\" target=\"_parent\"><img src=\"https://colab.research.google.com/assets/colab-badge.svg\" alt=\"Open In Colab\"/></a>"
      ]
    },
    {
      "cell_type": "code",
      "execution_count": 1,
      "metadata": {
        "colab": {
          "base_uri": "https://localhost:8080/"
        },
        "id": "kWXAfYP3Ewa9",
        "outputId": "36181ff6-0456-49e4-dba0-5e7febbd470a"
      },
      "outputs": [
        {
          "output_type": "stream",
          "name": "stdout",
          "text": [
            "Cloning into 'Schiz_Detector'...\n",
            "remote: Enumerating objects: 562, done.\u001b[K\n",
            "remote: Counting objects: 100% (36/36), done.\u001b[K\n",
            "remote: Compressing objects: 100% (35/35), done.\u001b[K\n",
            "remote: Total 562 (delta 24), reused 1 (delta 1), pack-reused 526\u001b[K\n",
            "Receiving objects: 100% (562/562), 459.01 KiB | 25.50 MiB/s, done.\n",
            "Resolving deltas: 100% (385/385), done.\n"
          ]
        }
      ],
      "source": [
        "!git clone https://github.com/ZenaPoudel/Schiz_Detector"
      ]
    },
    {
      "cell_type": "code",
      "source": [
        "pip install monai"
      ],
      "metadata": {
        "colab": {
          "base_uri": "https://localhost:8080/"
        },
        "id": "O58eQzh15QsG",
        "outputId": "65102216-58b4-45af-b7df-fb4d8e10ecb4"
      },
      "execution_count": 2,
      "outputs": [
        {
          "output_type": "stream",
          "name": "stdout",
          "text": [
            "Looking in indexes: https://pypi.org/simple, https://us-python.pkg.dev/colab-wheels/public/simple/\n",
            "Collecting monai\n",
            "  Downloading monai-1.1.0-202212191849-py3-none-any.whl (1.2 MB)\n",
            "\u001b[2K     \u001b[90m━━━━━━━━━━━━━━━━━━━━━━━━━━━━━━━━━━━━━━━━\u001b[0m \u001b[32m1.2/1.2 MB\u001b[0m \u001b[31m48.6 MB/s\u001b[0m eta \u001b[36m0:00:00\u001b[0m\n",
            "\u001b[?25hRequirement already satisfied: numpy>=1.17 in /usr/local/lib/python3.8/dist-packages (from monai) (1.21.6)\n",
            "Requirement already satisfied: torch>=1.8 in /usr/local/lib/python3.8/dist-packages (from monai) (1.13.0+cu116)\n",
            "Requirement already satisfied: typing-extensions in /usr/local/lib/python3.8/dist-packages (from torch>=1.8->monai) (4.4.0)\n",
            "Installing collected packages: monai\n",
            "Successfully installed monai-1.1.0\n"
          ]
        }
      ]
    },
    {
      "cell_type": "code",
      "source": [
        "from google.colab import drive\n",
        "drive.mount('/content/drive')"
      ],
      "metadata": {
        "colab": {
          "base_uri": "https://localhost:8080/"
        },
        "id": "YO7nMIQG47nK",
        "outputId": "6d420eb3-c2b0-48a9-b55a-1a9d639d9eef"
      },
      "execution_count": 3,
      "outputs": [
        {
          "output_type": "stream",
          "name": "stdout",
          "text": [
            "Mounted at /content/drive\n"
          ]
        }
      ]
    },
    {
      "cell_type": "code",
      "source": [
        "pip install nibabel"
      ],
      "metadata": {
        "colab": {
          "base_uri": "https://localhost:8080/"
        },
        "id": "oQ7a5hGcFvtR",
        "outputId": "5eec8a94-6914-418d-b3b0-a97a17196eac"
      },
      "execution_count": 4,
      "outputs": [
        {
          "output_type": "stream",
          "name": "stdout",
          "text": [
            "Looking in indexes: https://pypi.org/simple, https://us-python.pkg.dev/colab-wheels/public/simple/\n",
            "Requirement already satisfied: nibabel in /usr/local/lib/python3.8/dist-packages (3.0.2)\n",
            "Requirement already satisfied: numpy>=1.12 in /usr/local/lib/python3.8/dist-packages (from nibabel) (1.21.6)\n"
          ]
        }
      ]
    },
    {
      "cell_type": "code",
      "source": [
        "pip install pytorch-ignite"
      ],
      "metadata": {
        "colab": {
          "base_uri": "https://localhost:8080/"
        },
        "id": "MpUWv-KDjNxp",
        "outputId": "883400ba-4062-4328-d6d7-16f3c1473ae6"
      },
      "execution_count": 5,
      "outputs": [
        {
          "output_type": "stream",
          "name": "stdout",
          "text": [
            "Looking in indexes: https://pypi.org/simple, https://us-python.pkg.dev/colab-wheels/public/simple/\n",
            "Collecting pytorch-ignite\n",
            "  Downloading pytorch_ignite-0.4.10-py3-none-any.whl (264 kB)\n",
            "\u001b[2K     \u001b[90m━━━━━━━━━━━━━━━━━━━━━━━━━━━━━━━━━━━━━━\u001b[0m \u001b[32m264.1/264.1 KB\u001b[0m \u001b[31m20.4 MB/s\u001b[0m eta \u001b[36m0:00:00\u001b[0m\n",
            "\u001b[?25hRequirement already satisfied: torch<2,>=1.3 in /usr/local/lib/python3.8/dist-packages (from pytorch-ignite) (1.13.0+cu116)\n",
            "Requirement already satisfied: packaging in /usr/local/lib/python3.8/dist-packages (from pytorch-ignite) (21.3)\n",
            "Requirement already satisfied: typing-extensions in /usr/local/lib/python3.8/dist-packages (from torch<2,>=1.3->pytorch-ignite) (4.4.0)\n",
            "Requirement already satisfied: pyparsing!=3.0.5,>=2.0.2 in /usr/local/lib/python3.8/dist-packages (from packaging->pytorch-ignite) (3.0.9)\n",
            "Installing collected packages: pytorch-ignite\n",
            "Successfully installed pytorch-ignite-0.4.10\n"
          ]
        }
      ]
    },
    {
      "cell_type": "code",
      "source": [
        "!python /content/Schiz_Detector/trainer/train.py --epoch=30 --mri_type='T2'"
      ],
      "metadata": {
        "id": "SnzTcDdeJ5Cm",
        "colab": {
          "base_uri": "https://localhost:8080/"
        },
        "outputId": "534ad966-2b3f-4eee-a37b-b39c7672c85c"
      },
      "execution_count": 6,
      "outputs": [
        {
          "output_type": "stream",
          "name": "stdout",
          "text": [
            "----------\n",
            "epoch 1/30\n",
            "epoch 1, training, average loss: 0.6982, accuracy: 0.4947, balanced_Acc:0.4791, precision: 0.5251, recall: 0.6733, F1: 0.5900, specificity: 0.2849, auc score: 0.4790755238314529\n",
            "/usr/local/lib/python3.8/dist-packages/sklearn/metrics/_classification.py:1318: UndefinedMetricWarning: Precision is ill-defined and being set to 0.0 due to no predicted samples. Use `zero_division` parameter to control this behavior.\n",
            "  _warn_prf(average, modifier, msg_start, len(result))\n",
            "/content/Schiz_Detector/trainer/train.py:183: RuntimeWarning: invalid value encountered in double_scalars\n",
            "  val_f1_score = (val_precision * val_recall * 2 )/ (val_precision + val_recall)\n",
            "saved new validation best metric model\n",
            "epoch 1, validation, confusion matrix:(74, 0, 87, 0) accuracy: 0.4596, balanced accuracy:0.5000 precision: 0.0000, recall: 0.0000, F1: 0.0000, specificity: 1.0000, auc score: 0.5\n",
            "----------\n",
            "epoch 2/30\n",
            "epoch 2, training, average loss: 0.6906, accuracy: 0.5561, balanced_Acc:0.5252, precision: 0.5542, recall: 0.9109, F1: 0.6891, specificity: 0.1395, auc score: 0.5252129864149206\n",
            "saved new validation best metric model\n",
            "epoch 2, validation, confusion matrix:(64, 10, 70, 17) accuracy: 0.5031, balanced accuracy:0.5301 precision: 0.6296, recall: 0.1954, F1: 0.2982, specificity: 0.8649, auc score: 0.5301335818577199\n",
            "----------\n",
            "epoch 3/30\n",
            "epoch 3, training, average loss: 0.6791, accuracy: 0.5668, balanced_Acc:0.5515, precision: 0.5769, recall: 0.7426, F1: 0.6494, specificity: 0.3605, auc score: 0.5515196868524062\n",
            "saved new validation best metric model\n",
            "epoch 3, validation, confusion matrix:(35, 39, 31, 56) accuracy: 0.5652, balanced accuracy:0.5583 precision: 0.5895, recall: 0.6437, F1: 0.6154, specificity: 0.4730, auc score: 0.5583255669462567\n",
            "----------\n",
            "epoch 4/30\n",
            "epoch 4, training, average loss: 0.6543, accuracy: 0.6150, balanced_Acc:0.6120, precision: 0.6422, recall: 0.6485, F1: 0.6453, specificity: 0.5756, auc score: 0.6120481234169929\n",
            "saved new validation best metric model\n",
            "epoch 4, validation, confusion matrix:(10, 64, 7, 80) accuracy: 0.5590, balanced accuracy:0.5273 precision: 0.5556, recall: 0.9195, F1: 0.6926, specificity: 0.1351, auc score: 0.5273376825100963\n",
            "----------\n",
            "epoch 5/30\n",
            "epoch 5, training, average loss: 0.6181, accuracy: 0.6417, balanced_Acc:0.6286, precision: 0.6349, recall: 0.7921, F1: 0.7048, specificity: 0.4651, auc score: 0.6285977434952799\n",
            "epoch 5, validation, confusion matrix:(46, 28, 41, 46) accuracy: 0.5714, balanced accuracy:0.5752 precision: 0.6216, recall: 0.5287, F1: 0.5714, specificity: 0.6216, auc score: 0.5751786269027649\n",
            "----------\n",
            "epoch 6/30\n",
            "epoch 6, training, average loss: 0.5751, accuracy: 0.6738, balanced_Acc:0.6717, precision: 0.6980, recall: 0.6980, F1: 0.6980, specificity: 0.6453, auc score: 0.6716843195947502\n",
            "epoch 6, validation, confusion matrix:(31, 43, 21, 66) accuracy: 0.6025, balanced accuracy:0.5888 precision: 0.6055, recall: 0.7586, F1: 0.6735, specificity: 0.4189, auc score: 0.5887698042870457\n",
            "----------\n",
            "epoch 7/30\n",
            "epoch 7, training, average loss: 0.5069, accuracy: 0.7487, balanced_Acc:0.7492, precision: 0.7812, recall: 0.7426, F1: 0.7614, specificity: 0.7558, auc score: 0.7491941054570573\n",
            "saved new validation best metric model\n",
            "epoch 7, validation, confusion matrix:(19, 55, 7, 80) accuracy: 0.6149, balanced accuracy:0.5881 precision: 0.5926, recall: 0.9195, F1: 0.7207, specificity: 0.2568, auc score: 0.5881484933209071\n",
            "----------\n",
            "epoch 8/30\n",
            "epoch 8, training, average loss: 0.5064, accuracy: 0.7674, balanced_Acc:0.7670, precision: 0.7919, recall: 0.7723, F1: 0.7820, specificity: 0.7616, auc score: 0.7669525673497583\n",
            "epoch 8, validation, confusion matrix:(58, 16, 52, 35) accuracy: 0.5776, balanced accuracy:0.5930 precision: 0.6863, recall: 0.4023, F1: 0.5072, specificity: 0.7838, auc score: 0.5930413171792482\n",
            "----------\n",
            "epoch 9/30\n",
            "epoch 9, training, average loss: 0.4167, accuracy: 0.8209, balanced_Acc:0.8216, precision: 0.8497, recall: 0.8119, F1: 0.8304, specificity: 0.8314, auc score: 0.8216382684780106\n",
            "epoch 9, validation, confusion matrix:(45, 29, 34, 53) accuracy: 0.6087, balanced accuracy:0.6087 precision: 0.6463, recall: 0.6092, F1: 0.6272, specificity: 0.6081, auc score: 0.6086517552034794\n",
            "----------\n",
            "epoch 10/30\n",
            "epoch 10, training, average loss: 0.3233, accuracy: 0.8503, balanced_Acc:0.8489, precision: 0.8578, recall: 0.8663, F1: 0.8621, specificity: 0.8314, auc score: 0.8488659912502878\n",
            "epoch 10, validation, confusion matrix:(57, 17, 48, 39) accuracy: 0.5963, balanced accuracy:0.6093 precision: 0.6964, recall: 0.4483, F1: 0.5455, specificity: 0.7703, auc score: 0.609273066169618\n",
            "----------\n",
            "epoch 11/30\n",
            "epoch 11, training, average loss: 0.2676, accuracy: 0.8824, balanced_Acc:0.8829, precision: 0.9031, recall: 0.8762, F1: 0.8894, specificity: 0.8895, auc score: 0.8828862537416532\n",
            "epoch 11, validation, confusion matrix:(42, 32, 35, 52) accuracy: 0.5839, balanced accuracy:0.5826 precision: 0.6190, recall: 0.5977, F1: 0.6082, specificity: 0.5676, auc score: 0.5826343584964275\n",
            "----------\n",
            "epoch 12/30\n",
            "epoch 12, training, average loss: 0.2291, accuracy: 0.9091, balanced_Acc:0.9089, precision: 0.9200, recall: 0.9109, F1: 0.9154, specificity: 0.9070, auc score: 0.9089339166474787\n",
            "epoch 12, validation, confusion matrix:(56, 18, 52, 35) accuracy: 0.5652, balanced accuracy:0.5795 precision: 0.6604, recall: 0.4023, F1: 0.5000, specificity: 0.7568, auc score: 0.5795278036657348\n",
            "----------\n",
            "epoch 13/30\n",
            "epoch 13, training, average loss: 0.2405, accuracy: 0.9064, balanced_Acc:0.9056, precision: 0.9113, recall: 0.9158, F1: 0.9136, specificity: 0.8953, auc score: 0.9055952106838591\n",
            "epoch 13, validation, confusion matrix:(57, 17, 51, 36) accuracy: 0.5776, balanced accuracy:0.5920 precision: 0.6792, recall: 0.4138, F1: 0.5143, specificity: 0.7703, auc score: 0.592031686859273\n",
            "----------\n",
            "epoch 14/30\n",
            "epoch 14, training, average loss: 0.1636, accuracy: 0.9332, balanced_Acc:0.9325, precision: 0.9360, recall: 0.9406, F1: 0.9383, specificity: 0.9244, auc score: 0.9325063320285516\n",
            "epoch 14, validation, confusion matrix:(45, 29, 37, 50) accuracy: 0.5901, balanced accuracy:0.5914 precision: 0.6329, recall: 0.5747, F1: 0.6024, specificity: 0.6081, auc score: 0.5914103758931345\n",
            "----------\n",
            "epoch 15/30\n",
            "epoch 15, training, average loss: 0.1394, accuracy: 0.9412, balanced_Acc:0.9417, precision: 0.9545, recall: 0.9356, F1: 0.9450, specificity: 0.9477, auc score: 0.9416589914805434\n",
            "epoch 15, validation, confusion matrix:(21, 53, 18, 69) accuracy: 0.5590, balanced accuracy:0.5384 precision: 0.5656, recall: 0.7931, F1: 0.6603, specificity: 0.2838, auc score: 0.5384436160298229\n",
            "----------\n",
            "epoch 16/30\n",
            "epoch 16, training, average loss: 0.1188, accuracy: 0.9572, balanced_Acc:0.9561, precision: 0.9515, recall: 0.9703, F1: 0.9608, specificity: 0.9419, auc score: 0.9560787474096247\n",
            "epoch 16, validation, confusion matrix:(22, 52, 11, 76) accuracy: 0.6087, balanced accuracy:0.5854 precision: 0.5938, recall: 0.8736, F1: 0.7070, specificity: 0.2973, auc score: 0.5854302578440509\n",
            "----------\n",
            "epoch 17/30\n",
            "epoch 17, training, average loss: 0.1446, accuracy: 0.9465, balanced_Acc:0.9470, precision: 0.9596, recall: 0.9406, F1: 0.9500, specificity: 0.9535, auc score: 0.9470412157494819\n",
            "epoch 17, validation, confusion matrix:(35, 39, 33, 54) accuracy: 0.5528, balanced accuracy:0.5468 precision: 0.5806, recall: 0.6207, F1: 0.6000, specificity: 0.4730, auc score: 0.5468313140726934\n",
            "----------\n",
            "epoch 18/30\n",
            "epoch 18, training, average loss: 0.1282, accuracy: 0.9492, balanced_Acc:0.9487, precision: 0.9507, recall: 0.9554, F1: 0.9531, specificity: 0.9419, auc score: 0.9486530048353673\n",
            "epoch 18, validation, confusion matrix:(45, 29, 37, 50) accuracy: 0.5901, balanced accuracy:0.5914 precision: 0.6329, recall: 0.5747, F1: 0.6024, specificity: 0.6081, auc score: 0.5914103758931345\n",
            "----------\n",
            "epoch 19/30\n",
            "epoch 19, training, average loss: 0.0631, accuracy: 0.9786, balanced_Acc:0.9785, precision: 0.9802, recall: 0.9802, F1: 0.9802, specificity: 0.9767, auc score: 0.9784711029242459\n",
            "epoch 19, validation, confusion matrix:(40, 34, 31, 56) accuracy: 0.5963, balanced accuracy:0.5921 precision: 0.6222, recall: 0.6437, F1: 0.6328, specificity: 0.5405, auc score: 0.5921093507300405\n",
            "----------\n",
            "epoch 20/30\n",
            "epoch 20, training, average loss: 0.0599, accuracy: 0.9866, balanced_Acc:0.9872, precision: 0.9950, recall: 0.9802, F1: 0.9875, specificity: 0.9942, auc score: 0.987192033156804\n",
            "epoch 20, validation, confusion matrix:(40, 34, 33, 54) accuracy: 0.5839, balanced accuracy:0.5806 precision: 0.6136, recall: 0.6207, F1: 0.6171, specificity: 0.5405, auc score: 0.5806150978564772\n",
            "----------\n",
            "epoch 21/30\n",
            "epoch 21, training, average loss: 0.0468, accuracy: 0.9866, balanced_Acc:0.9863, precision: 0.9852, recall: 0.9901, F1: 0.9877, specificity: 0.9826, auc score: 0.9863285747179368\n",
            "epoch 21, validation, confusion matrix:(40, 34, 29, 58) accuracy: 0.6087, balanced accuracy:0.6036 precision: 0.6304, recall: 0.6667, F1: 0.6480, specificity: 0.5405, auc score: 0.6036036036036037\n",
            "----------\n",
            "epoch 22/30\n",
            "epoch 22, training, average loss: 0.0381, accuracy: 0.9893, balanced_Acc:0.9897, precision: 0.9950, recall: 0.9851, F1: 0.9900, specificity: 0.9942, auc score: 0.9896672806815565\n",
            "epoch 22, validation, confusion matrix:(45, 29, 32, 55) accuracy: 0.6211, balanced accuracy:0.6201 precision: 0.6548, recall: 0.6322, F1: 0.6433, specificity: 0.6081, auc score: 0.6201460080770426\n",
            "----------\n",
            "epoch 23/30\n",
            "epoch 23, training, average loss: 0.0542, accuracy: 0.9840, balanced_Acc:0.9843, precision: 0.9900, recall: 0.9802, F1: 0.9851, specificity: 0.9884, auc score: 0.984285056412618\n",
            "epoch 23, validation, confusion matrix:(61, 13, 59, 28) accuracy: 0.5528, balanced accuracy:0.5731 precision: 0.6829, recall: 0.3218, F1: 0.4375, specificity: 0.8243, auc score: 0.5730817023920473\n",
            "----------\n",
            "epoch 24/30\n",
            "epoch 24, training, average loss: 0.0791, accuracy: 0.9679, balanced_Acc:0.9681, precision: 0.9750, recall: 0.9653, F1: 0.9701, specificity: 0.9709, auc score: 0.9681383836058024\n",
            "epoch 24, validation, confusion matrix:(35, 39, 31, 56) accuracy: 0.5652, balanced accuracy:0.5583 precision: 0.5895, recall: 0.6437, F1: 0.6154, specificity: 0.4730, auc score: 0.5583255669462567\n",
            "----------\n",
            "epoch 25/30\n",
            "epoch 25, training, average loss: 0.0383, accuracy: 0.9866, balanced_Acc:0.9863, precision: 0.9852, recall: 0.9901, F1: 0.9877, specificity: 0.9826, auc score: 0.9863285747179368\n",
            "epoch 25, validation, confusion matrix:(46, 28, 40, 47) accuracy: 0.5776, balanced accuracy:0.5809 precision: 0.6267, recall: 0.5402, F1: 0.5802, specificity: 0.6216, auc score: 0.5809257533395464\n",
            "----------\n",
            "epoch 26/30\n",
            "epoch 26, training, average loss: 0.0634, accuracy: 0.9786, balanced_Acc:0.9785, precision: 0.9802, recall: 0.9802, F1: 0.9802, specificity: 0.9767, auc score: 0.9784711029242459\n",
            "epoch 26, validation, confusion matrix:(47, 27, 36, 51) accuracy: 0.6087, balanced accuracy:0.6107 precision: 0.6538, recall: 0.5862, F1: 0.6182, specificity: 0.6351, auc score: 0.6106710158434295\n",
            "----------\n",
            "epoch 27/30\n",
            "epoch 27, training, average loss: 0.0367, accuracy: 0.9920, balanced_Acc:0.9921, precision: 0.9950, recall: 0.9901, F1: 0.9926, specificity: 0.9942, auc score: 0.9921425282063089\n",
            "epoch 27, validation, confusion matrix:(48, 26, 35, 52) accuracy: 0.6211, balanced accuracy:0.6232 precision: 0.6667, recall: 0.5977, F1: 0.6303, specificity: 0.6486, auc score: 0.6231748990369681\n",
            "----------\n",
            "epoch 28/30\n",
            "epoch 28, training, average loss: 0.0303, accuracy: 0.9893, balanced_Acc:0.9892, precision: 0.9901, recall: 0.9901, F1: 0.9901, specificity: 0.9884, auc score: 0.9892355514621229\n",
            "epoch 28, validation, confusion matrix:(40, 34, 31, 56) accuracy: 0.5963, balanced accuracy:0.5921 precision: 0.6222, recall: 0.6437, F1: 0.6328, specificity: 0.5405, auc score: 0.5921093507300405\n",
            "----------\n",
            "epoch 29/30\n",
            "epoch 29, training, average loss: 0.0375, accuracy: 0.9840, balanced_Acc:0.9839, precision: 0.9851, recall: 0.9851, F1: 0.9851, specificity: 0.9826, auc score: 0.9838533271931844\n",
            "epoch 29, validation, confusion matrix:(33, 41, 25, 62) accuracy: 0.5901, balanced accuracy:0.5793 precision: 0.6019, recall: 0.7126, F1: 0.6526, specificity: 0.4459, auc score: 0.5792948120534327\n",
            "----------\n",
            "epoch 30/30\n",
            "epoch 30, training, average loss: 0.0238, accuracy: 0.9920, balanced_Acc:0.9917, precision: 0.9901, recall: 0.9950, F1: 0.9926, specificity: 0.9884, auc score: 0.9917107989868753\n",
            "epoch 30, validation, confusion matrix:(52, 22, 46, 41) accuracy: 0.5776, balanced accuracy:0.5870 precision: 0.6508, recall: 0.4713, F1: 0.5467, specificity: 0.7027, auc score: 0.5869835352593973\n",
            "Training completed, validation best_metric: 0.7207 at epoch: 7\n"
          ]
        }
      ]
    },
    {
      "cell_type": "code",
      "source": [
        "#!python /content/Schiz_Detector/test/view_heatmap.py --visualize='2d' --view='axial' --image_path='/content/drive/MyDrive/schizophrenia_data/MCIC_/MCICShare/sub-A00036136/ses-20050101/anat/sub-A00036136_ses-20050101_acq-mprage_run-01_T1w.nii' --image_label=0 --state_dict_path='/content/best_metric_model_classification3d_array.pth' "
      ],
      "metadata": {
        "id": "L1IJ-TphjAQ0"
      },
      "execution_count": 7,
      "outputs": []
    }
  ]
}