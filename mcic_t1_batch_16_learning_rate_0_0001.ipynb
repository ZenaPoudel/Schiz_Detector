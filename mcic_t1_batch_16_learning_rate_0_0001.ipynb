{
  "cells": [
    {
      "cell_type": "markdown",
      "metadata": {
        "id": "view-in-github",
        "colab_type": "text"
      },
      "source": [
        "<a href=\"https://colab.research.google.com/github/ZenaPoudel/Schiz_Detector/blob/main/mcic_t1_batch_16_learning_rate_0_0001.ipynb\" target=\"_parent\"><img src=\"https://colab.research.google.com/assets/colab-badge.svg\" alt=\"Open In Colab\"/></a>"
      ]
    },
    {
      "cell_type": "code",
      "execution_count": null,
      "metadata": {
        "colab": {
          "base_uri": "https://localhost:8080/"
        },
        "id": "kWXAfYP3Ewa9",
        "outputId": "ea3e80b0-429c-4bb1-ec27-3750ef0be1c8"
      },
      "outputs": [
        {
          "name": "stdout",
          "output_type": "stream",
          "text": [
            "Cloning into 'Schiz_Detector'...\n",
            "remote: Enumerating objects: 562, done.\u001b[K\n",
            "remote: Counting objects: 100% (36/36), done.\u001b[K\n",
            "remote: Compressing objects: 100% (35/35), done.\u001b[K\n",
            "remote: Total 562 (delta 24), reused 1 (delta 1), pack-reused 526\u001b[K\n",
            "Receiving objects: 100% (562/562), 459.04 KiB | 9.77 MiB/s, done.\n",
            "Resolving deltas: 100% (385/385), done.\n"
          ]
        }
      ],
      "source": [
        "!git clone https://github.com/ZenaPoudel/Schiz_Detector"
      ]
    },
    {
      "cell_type": "code",
      "execution_count": null,
      "metadata": {
        "colab": {
          "base_uri": "https://localhost:8080/"
        },
        "id": "O58eQzh15QsG",
        "outputId": "837e95dd-c2b9-49d3-b225-f06019a3feff"
      },
      "outputs": [
        {
          "name": "stdout",
          "output_type": "stream",
          "text": [
            "Looking in indexes: https://pypi.org/simple, https://us-python.pkg.dev/colab-wheels/public/simple/\n",
            "Collecting monai\n",
            "  Downloading monai-1.1.0-202212191849-py3-none-any.whl (1.2 MB)\n",
            "\u001b[2K     \u001b[90m━━━━━━━━━━━━━━━━━━━━━━━━━━━━━━━━━━━━━━━━\u001b[0m \u001b[32m1.2/1.2 MB\u001b[0m \u001b[31m17.8 MB/s\u001b[0m eta \u001b[36m0:00:00\u001b[0m\n",
            "\u001b[?25hRequirement already satisfied: numpy>=1.17 in /usr/local/lib/python3.8/dist-packages (from monai) (1.21.6)\n",
            "Requirement already satisfied: torch>=1.8 in /usr/local/lib/python3.8/dist-packages (from monai) (1.13.0+cu116)\n",
            "Requirement already satisfied: typing-extensions in /usr/local/lib/python3.8/dist-packages (from torch>=1.8->monai) (4.4.0)\n",
            "Installing collected packages: monai\n",
            "Successfully installed monai-1.1.0\n"
          ]
        }
      ],
      "source": [
        "pip install monai"
      ]
    },
    {
      "cell_type": "code",
      "execution_count": null,
      "metadata": {
        "colab": {
          "base_uri": "https://localhost:8080/"
        },
        "id": "YO7nMIQG47nK",
        "outputId": "47f0159f-cbad-40ff-d893-8133516b38ca"
      },
      "outputs": [
        {
          "name": "stdout",
          "output_type": "stream",
          "text": [
            "Mounted at /content/drive\n"
          ]
        }
      ],
      "source": [
        "from google.colab import drive\n",
        "drive.mount('/content/drive')"
      ]
    },
    {
      "cell_type": "code",
      "execution_count": null,
      "metadata": {
        "colab": {
          "base_uri": "https://localhost:8080/"
        },
        "id": "0cxaQhkcoPNG",
        "outputId": "c8412507-f8ef-4124-a141-fc119b781840"
      },
      "outputs": [
        {
          "name": "stdout",
          "output_type": "stream",
          "text": [
            "Looking in indexes: https://pypi.org/simple, https://us-python.pkg.dev/colab-wheels/public/simple/\n",
            "Requirement already satisfied: numpy in /usr/local/lib/python3.8/dist-packages (1.21.6)\n"
          ]
        }
      ],
      "source": [
        "pip install numpy"
      ]
    },
    {
      "cell_type": "code",
      "execution_count": null,
      "metadata": {
        "colab": {
          "base_uri": "https://localhost:8080/"
        },
        "id": "oQ7a5hGcFvtR",
        "outputId": "8cad8ccc-b994-4c24-d494-5718dd84c557"
      },
      "outputs": [
        {
          "name": "stdout",
          "output_type": "stream",
          "text": [
            "Looking in indexes: https://pypi.org/simple, https://us-python.pkg.dev/colab-wheels/public/simple/\n",
            "Requirement already satisfied: nibabel in /usr/local/lib/python3.8/dist-packages (3.0.2)\n",
            "Requirement already satisfied: numpy>=1.12 in /usr/local/lib/python3.8/dist-packages (from nibabel) (1.21.6)\n"
          ]
        }
      ],
      "source": [
        "pip install nibabel"
      ]
    },
    {
      "cell_type": "code",
      "source": [
        "torch.cuda.empty_cache()"
      ],
      "metadata": {
        "id": "1_fR8lrkm0P6"
      },
      "execution_count": 10,
      "outputs": []
    },
    {
      "cell_type": "code",
      "source": [
        "import torch"
      ],
      "metadata": {
        "id": "xiuWp43Fm1WN"
      },
      "execution_count": 9,
      "outputs": []
    },
    {
      "cell_type": "code",
      "execution_count": 12,
      "metadata": {
        "colab": {
          "base_uri": "https://localhost:8080/"
        },
        "id": "BxfnM6lJekvh",
        "outputId": "4e023120-dee1-4130-9e4b-f3fe49651b80"
      },
      "outputs": [
        {
          "output_type": "stream",
          "name": "stdout",
          "text": [
            "----------\n",
            "epoch 1/30\n",
            "epoch 1, training, average loss: 0.6963, accuracy: 0.5025, balanced_Acc:0.5187, precision: 0.5702, recall: 0.3037, F1: 0.3963, specificity: 0.7337, auc score: 0.5187169849654611\n",
            "/usr/local/lib/python3.8/dist-packages/sklearn/metrics/_classification.py:1318: UndefinedMetricWarning: Precision is ill-defined and being set to 0.0 due to no predicted samples. Use `zero_division` parameter to control this behavior.\n",
            "  _warn_prf(average, modifier, msg_start, len(result))\n",
            "/content/Schiz_Detector/trainer/train.py:183: RuntimeWarning: invalid value encountered in double_scalars\n",
            "  val_f1_score = (val_precision * val_recall * 2 )/ (val_precision + val_recall)\n",
            "saved new validation best metric model\n",
            "epoch 1, validation, confusion matrix:(80, 0, 92, 0) accuracy: 0.4651, balanced accuracy:0.5000 precision: 0.0000, recall: 0.0000, F1: 0.0000, specificity: 1.0000, auc score: 0.5\n",
            "----------\n",
            "epoch 2/30\n",
            "epoch 2, training, average loss: 0.6926, accuracy: 0.5226, balanced_Acc:0.5153, precision: 0.5504, recall: 0.6121, F1: 0.5796, specificity: 0.4185, auc score: 0.5153138967899228\n",
            "saved new validation best metric model\n",
            "epoch 2, validation, confusion matrix:(4, 76, 5, 87) accuracy: 0.5291, balanced accuracy:0.4978 precision: 0.5337, recall: 0.9457, F1: 0.6824, specificity: 0.0500, auc score: 0.49782608695652175\n",
            "----------\n",
            "epoch 3/30\n",
            "epoch 3, training, average loss: 0.6854, accuracy: 0.5327, balanced_Acc:0.5090, precision: 0.5432, recall: 0.8224, F1: 0.6543, specificity: 0.1957, auc score: 0.5090410402275498\n",
            "epoch 3, validation, confusion matrix:(1, 79, 4, 88) accuracy: 0.5174, balanced accuracy:0.4845 precision: 0.5269, recall: 0.9565, F1: 0.6795, specificity: 0.0125, auc score: 0.4845108695652174\n",
            "----------\n",
            "epoch 4/30\n",
            "epoch 4, training, average loss: 0.6660, accuracy: 0.5704, balanced_Acc:0.5498, precision: 0.5696, recall: 0.8224, F1: 0.6730, specificity: 0.2772, auc score: 0.5498019097927671\n",
            "epoch 4, validation, confusion matrix:(56, 24, 34, 58) accuracy: 0.6628, balanced accuracy:0.6652 precision: 0.7073, recall: 0.6304, F1: 0.6667, specificity: 0.7000, auc score: 0.6652173913043478\n",
            "----------\n",
            "epoch 5/30\n",
            "epoch 5, training, average loss: 0.6750, accuracy: 0.5603, balanced_Acc:0.5591, precision: 0.5942, recall: 0.5748, F1: 0.5843, specificity: 0.5435, auc score: 0.5591223080048761\n",
            "epoch 5, validation, confusion matrix:(71, 9, 89, 3) accuracy: 0.4302, balanced accuracy:0.4601 precision: 0.2500, recall: 0.0326, F1: 0.0577, specificity: 0.8875, auc score: 0.4600543478260869\n",
            "----------\n",
            "epoch 6/30\n",
            "epoch 6, training, average loss: 0.6682, accuracy: 0.5754, balanced_Acc:0.5743, precision: 0.6087, recall: 0.5888, F1: 0.5986, specificity: 0.5598, auc score: 0.5742838277123119\n",
            "saved new validation best metric model\n",
            "epoch 6, validation, confusion matrix:(41, 39, 18, 74) accuracy: 0.6686, balanced accuracy:0.6584 precision: 0.6549, recall: 0.8043, F1: 0.7220, specificity: 0.5125, auc score: 0.6584239130434782\n",
            "----------\n",
            "epoch 7/30\n",
            "epoch 7, training, average loss: 0.6554, accuracy: 0.6080, balanced_Acc:0.6020, precision: 0.6239, recall: 0.6822, F1: 0.6518, specificity: 0.5217, auc score: 0.6019910605444941\n",
            "epoch 7, validation, confusion matrix:(36, 44, 17, 75) accuracy: 0.6453, balanced accuracy:0.6326 precision: 0.6303, recall: 0.8152, F1: 0.7109, specificity: 0.4500, auc score: 0.6326086956521738\n",
            "----------\n",
            "epoch 8/30\n",
            "epoch 8, training, average loss: 0.6289, accuracy: 0.6432, balanced_Acc:0.6301, precision: 0.6324, recall: 0.8037, F1: 0.7078, specificity: 0.4565, auc score: 0.630130028443722\n",
            "epoch 8, validation, confusion matrix:(51, 29, 30, 62) accuracy: 0.6570, balanced accuracy:0.6557 precision: 0.6813, recall: 0.6739, F1: 0.6776, specificity: 0.6375, auc score: 0.6557065217391305\n",
            "----------\n",
            "epoch 9/30\n",
            "epoch 9, training, average loss: 0.6237, accuracy: 0.6709, balanced_Acc:0.6680, precision: 0.6895, recall: 0.7056, F1: 0.6975, specificity: 0.6304, auc score: 0.6680211296221049\n",
            "saved new validation best metric model\n",
            "epoch 9, validation, confusion matrix:(51, 29, 22, 70) accuracy: 0.7035, balanced accuracy:0.6992 precision: 0.7071, recall: 0.7609, F1: 0.7330, specificity: 0.6375, auc score: 0.6991847826086957\n",
            "----------\n",
            "epoch 10/30\n",
            "epoch 10, training, average loss: 0.5865, accuracy: 0.7085, balanced_Acc:0.7057, precision: 0.7227, recall: 0.7430, F1: 0.7327, specificity: 0.6685, auc score: 0.7057344575375863\n",
            "epoch 10, validation, confusion matrix:(62, 18, 45, 47) accuracy: 0.6337, balanced accuracy:0.6429 precision: 0.7231, recall: 0.5109, F1: 0.5987, specificity: 0.7750, auc score: 0.6429347826086957\n",
            "----------\n",
            "epoch 11/30\n",
            "epoch 11, training, average loss: 0.5898, accuracy: 0.6910, balanced_Acc:0.6898, precision: 0.7156, recall: 0.7056, F1: 0.7106, specificity: 0.6739, auc score: 0.6897602600568874\n",
            "saved new validation best metric model\n",
            "epoch 11, validation, confusion matrix:(39, 41, 14, 78) accuracy: 0.6802, balanced accuracy:0.6677 precision: 0.6555, recall: 0.8478, F1: 0.7393, specificity: 0.4875, auc score: 0.6676630434782609\n",
            "----------\n",
            "epoch 12/30\n",
            "epoch 12, training, average loss: 0.5663, accuracy: 0.7437, balanced_Acc:0.7381, precision: 0.7373, recall: 0.8131, F1: 0.7733, specificity: 0.6630, auc score: 0.7380637952052012\n",
            "epoch 12, validation, confusion matrix:(60, 20, 39, 53) accuracy: 0.6570, balanced accuracy:0.6630 precision: 0.7260, recall: 0.5761, F1: 0.6424, specificity: 0.7500, auc score: 0.6630434782608696\n",
            "----------\n",
            "epoch 13/30\n",
            "epoch 13, training, average loss: 0.5393, accuracy: 0.7387, balanced_Acc:0.7395, precision: 0.7723, recall: 0.7290, F1: 0.7500, specificity: 0.7500, auc score: 0.7394859813084111\n",
            "epoch 13, validation, confusion matrix:(66, 14, 49, 43) accuracy: 0.6337, balanced accuracy:0.6462 precision: 0.7544, recall: 0.4674, F1: 0.5772, specificity: 0.8250, auc score: 0.6461956521739131\n",
            "----------\n",
            "epoch 14/30\n",
            "epoch 14, training, average loss: 0.4786, accuracy: 0.7638, balanced_Acc:0.7663, precision: 0.8093, recall: 0.7336, F1: 0.7696, specificity: 0.7989, auc score: 0.7662789516456725\n",
            "epoch 14, validation, confusion matrix:(55, 25, 40, 52) accuracy: 0.6221, balanced accuracy:0.6264 precision: 0.6753, recall: 0.5652, F1: 0.6154, specificity: 0.6875, auc score: 0.6263586956521738\n",
            "----------\n",
            "epoch 15/30\n",
            "epoch 15, training, average loss: 0.4202, accuracy: 0.7940, balanced_Acc:0.7958, precision: 0.8333, recall: 0.7710, F1: 0.8010, specificity: 0.8207, auc score: 0.7958401056481106\n",
            "epoch 15, validation, confusion matrix:(50, 30, 29, 63) accuracy: 0.6570, balanced accuracy:0.6549 precision: 0.6774, recall: 0.6848, F1: 0.6811, specificity: 0.6250, auc score: 0.6548913043478262\n",
            "----------\n",
            "epoch 16/30\n",
            "epoch 16, training, average loss: 0.3501, accuracy: 0.8241, balanced_Acc:0.8235, precision: 0.8396, recall: 0.8318, F1: 0.8357, specificity: 0.8152, auc score: 0.8234965461194637\n",
            "epoch 16, validation, confusion matrix:(54, 26, 38, 54) accuracy: 0.6279, balanced accuracy:0.6310 precision: 0.6750, recall: 0.5870, F1: 0.6279, specificity: 0.6750, auc score: 0.6309782608695652\n",
            "----------\n",
            "epoch 17/30\n",
            "epoch 17, training, average loss: 0.2719, accuracy: 0.8945, balanced_Acc:0.8939, precision: 0.9019, recall: 0.9019, F1: 0.9019, specificity: 0.8859, auc score: 0.8938693620479481\n",
            "epoch 17, validation, confusion matrix:(69, 11, 62, 30) accuracy: 0.5756, balanced accuracy:0.5943 precision: 0.7317, recall: 0.3261, F1: 0.4511, specificity: 0.8625, auc score: 0.5942934782608698\n",
            "----------\n",
            "epoch 18/30\n",
            "epoch 18, training, average loss: 0.2158, accuracy: 0.9296, balanced_Acc:0.9308, precision: 0.9515, recall: 0.9159, F1: 0.9333, specificity: 0.9457, auc score: 0.9307700121901665\n",
            "epoch 18, validation, confusion matrix:(48, 32, 37, 55) accuracy: 0.5988, balanced accuracy:0.5989 precision: 0.6322, recall: 0.5978, F1: 0.6145, specificity: 0.6000, auc score: 0.5989130434782608\n",
            "----------\n",
            "epoch 19/30\n",
            "epoch 19, training, average loss: 0.1724, accuracy: 0.9296, balanced_Acc:0.9296, precision: 0.9387, recall: 0.9299, F1: 0.9343, specificity: 0.9293, auc score: 0.9296271840715157\n",
            "epoch 19, validation, confusion matrix:(60, 20, 59, 33) accuracy: 0.5407, balanced accuracy:0.5543 precision: 0.6226, recall: 0.3587, F1: 0.4552, specificity: 0.7500, auc score: 0.5543478260869565\n",
            "----------\n",
            "epoch 20/30\n",
            "epoch 20, training, average loss: 0.1527, accuracy: 0.9347, balanced_Acc:0.9339, precision: 0.9352, recall: 0.9439, F1: 0.9395, specificity: 0.9239, auc score: 0.9339191385615603\n",
            "epoch 20, validation, confusion matrix:(59, 21, 47, 45) accuracy: 0.6047, balanced accuracy:0.6133 precision: 0.6818, recall: 0.4891, F1: 0.5696, specificity: 0.7375, auc score: 0.6133152173913043\n",
            "----------\n",
            "epoch 21/30\n",
            "epoch 21, training, average loss: 0.1004, accuracy: 0.9698, balanced_Acc:0.9689, precision: 0.9633, recall: 0.9813, F1: 0.9722, specificity: 0.9565, auc score: 0.968915075172694\n",
            "epoch 21, validation, confusion matrix:(56, 24, 49, 43) accuracy: 0.5756, balanced accuracy:0.5837 precision: 0.6418, recall: 0.4674, F1: 0.5409, specificity: 0.7000, auc score: 0.5836956521739131\n",
            "----------\n",
            "epoch 22/30\n",
            "epoch 22, training, average loss: 0.1052, accuracy: 0.9548, balanced_Acc:0.9541, precision: 0.9537, recall: 0.9626, F1: 0.9581, specificity: 0.9457, auc score: 0.954134498171475\n",
            "epoch 22, validation, confusion matrix:(39, 41, 21, 71) accuracy: 0.6395, balanced accuracy:0.6296 precision: 0.6339, recall: 0.7717, F1: 0.6961, specificity: 0.4875, auc score: 0.6296195652173913\n",
            "----------\n",
            "epoch 23/30\n",
            "epoch 23, training, average loss: 0.0420, accuracy: 0.9899, balanced_Acc:0.9895, precision: 0.9861, recall: 0.9953, F1: 0.9907, specificity: 0.9837, auc score: 0.9895113774888259\n",
            "epoch 23, validation, confusion matrix:(51, 29, 39, 53) accuracy: 0.6047, balanced accuracy:0.6068 precision: 0.6463, recall: 0.5761, F1: 0.6092, specificity: 0.6375, auc score: 0.6067934782608695\n",
            "----------\n",
            "epoch 24/30\n",
            "epoch 24, training, average loss: 0.0300, accuracy: 0.9899, balanced_Acc:0.9903, precision: 0.9953, recall: 0.9860, F1: 0.9906, specificity: 0.9946, auc score: 0.9902732629012597\n",
            "epoch 24, validation, confusion matrix:(48, 32, 40, 52) accuracy: 0.5814, balanced accuracy:0.5826 precision: 0.6190, recall: 0.5652, F1: 0.5909, specificity: 0.6000, auc score: 0.5826086956521739\n",
            "----------\n",
            "epoch 25/30\n",
            "epoch 25, training, average loss: 0.0406, accuracy: 0.9849, balanced_Acc:0.9845, precision: 0.9815, recall: 0.9907, F1: 0.9860, specificity: 0.9783, auc score: 0.984457537586347\n",
            "epoch 25, validation, confusion matrix:(54, 26, 43, 49) accuracy: 0.5988, balanced accuracy:0.6038 precision: 0.6533, recall: 0.5326, F1: 0.5868, specificity: 0.6750, auc score: 0.6038043478260869\n",
            "----------\n",
            "epoch 26/30\n",
            "epoch 26, training, average loss: 0.0444, accuracy: 0.9799, balanced_Acc:0.9794, precision: 0.9769, recall: 0.9860, F1: 0.9814, specificity: 0.9728, auc score: 0.9794036976838684\n",
            "epoch 26, validation, confusion matrix:(45, 35, 26, 66) accuracy: 0.6453, balanced accuracy:0.6399 precision: 0.6535, recall: 0.7174, F1: 0.6839, specificity: 0.5625, auc score: 0.6399456521739131\n",
            "----------\n",
            "epoch 27/30\n",
            "epoch 27, training, average loss: 0.0313, accuracy: 0.9925, balanced_Acc:0.9926, precision: 0.9953, recall: 0.9907, F1: 0.9930, specificity: 0.9946, auc score: 0.9926097114993904\n",
            "epoch 27, validation, confusion matrix:(40, 40, 23, 69) accuracy: 0.6337, balanced accuracy:0.6250 precision: 0.6330, recall: 0.7500, F1: 0.6866, specificity: 0.5000, auc score: 0.625\n",
            "----------\n",
            "epoch 28/30\n",
            "epoch 28, training, average loss: 0.0321, accuracy: 0.9874, balanced_Acc:0.9876, precision: 0.9906, recall: 0.9860, F1: 0.9883, specificity: 0.9891, auc score: 0.9875558715969117\n",
            "epoch 28, validation, confusion matrix:(54, 26, 41, 51) accuracy: 0.6105, balanced accuracy:0.6147 precision: 0.6623, recall: 0.5543, F1: 0.6036, specificity: 0.6750, auc score: 0.6146739130434783\n",
            "----------\n",
            "epoch 29/30\n",
            "epoch 29, training, average loss: 0.0170, accuracy: 0.9950, balanced_Acc:0.9946, precision: 0.9907, recall: 1.0000, F1: 0.9953, specificity: 0.9891, auc score: 0.9945652173913043\n",
            "epoch 29, validation, confusion matrix:(50, 30, 42, 50) accuracy: 0.5814, balanced accuracy:0.5842 precision: 0.6250, recall: 0.5435, F1: 0.5814, specificity: 0.6250, auc score: 0.5842391304347826\n",
            "----------\n",
            "epoch 30/30\n",
            "epoch 30, training, average loss: 0.0184, accuracy: 0.9925, balanced_Acc:0.9926, precision: 0.9953, recall: 0.9907, F1: 0.9930, specificity: 0.9946, auc score: 0.9926097114993904\n",
            "epoch 30, validation, confusion matrix:(42, 38, 40, 52) accuracy: 0.5465, balanced accuracy:0.5451 precision: 0.5778, recall: 0.5652, F1: 0.5714, specificity: 0.5250, auc score: 0.5451086956521738\n",
            "Training completed, validation best_metric: 0.7393 at epoch: 11\n"
          ]
        }
      ],
      "source": [
        "!python /content/Schiz_Detector/trainer/train.py --epoch=30 --batch_size=16"
      ]
    },
    {
      "cell_type": "code",
      "execution_count": null,
      "metadata": {
        "colab": {
          "background_save": true
        },
        "id": "L1IJ-TphjAQ0"
      },
      "outputs": [],
      "source": [
        "# !python /content/Schiz_Detector/test/view_heatmap.py --visualize='3d' --view='axial' --image_path='/content/drive/MyDrive/schizophrenia_data/MCIC_/MCICShare/sub-A00036136/ses-20050101/anat/sub-A00036136_ses-20050101_acq-mprage_run-01_T1w.nii' --image_label=0 --state_dict_path='/content/best_metric_model_classification3d_array_t1.pth' "
      ]
    }
  ],
  "metadata": {
    "accelerator": "GPU",
    "colab": {
      "provenance": [],
      "include_colab_link": true
    },
    "gpuClass": "standard",
    "kernelspec": {
      "display_name": "Python 3",
      "name": "python3"
    },
    "language_info": {
      "name": "python"
    }
  },
  "nbformat": 4,
  "nbformat_minor": 0
}