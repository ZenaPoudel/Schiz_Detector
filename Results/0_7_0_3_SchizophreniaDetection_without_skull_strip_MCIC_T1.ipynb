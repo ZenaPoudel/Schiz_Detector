{
  "nbformat": 4,
  "nbformat_minor": 0,
  "metadata": {
    "colab": {
      "provenance": [],
      "include_colab_link": true
    },
    "kernelspec": {
      "name": "python3",
      "display_name": "Python 3"
    },
    "language_info": {
      "name": "python"
    },
    "accelerator": "GPU",
    "gpuClass": "standard"
  },
  "cells": [
    {
      "cell_type": "markdown",
      "metadata": {
        "id": "view-in-github",
        "colab_type": "text"
      },
      "source": [
        "<a href=\"https://colab.research.google.com/github/ZenaPoudel/Schiz_Detector/blob/main/Results/0_7_0_3_SchizophreniaDetection_without_skull_strip_MCIC_T1.ipynb\" target=\"_parent\"><img src=\"https://colab.research.google.com/assets/colab-badge.svg\" alt=\"Open In Colab\"/></a>"
      ]
    },
    {
      "cell_type": "markdown",
      "source": [
        "#Mount GDrive"
      ],
      "metadata": {
        "id": "Lnm2obSdSY_a"
      }
    },
    {
      "cell_type": "code",
      "source": [
        "from google.colab import drive\n",
        "drive.mount('/content/drive')"
      ],
      "metadata": {
        "colab": {
          "base_uri": "https://localhost:8080/"
        },
        "id": "e6h7yR4QSYTZ",
        "outputId": "c82d6687-f976-4678-f518-b3c4e4a5b38f"
      },
      "execution_count": 1,
      "outputs": [
        {
          "output_type": "stream",
          "name": "stdout",
          "text": [
            "Mounted at /content/drive\n"
          ]
        }
      ]
    },
    {
      "cell_type": "markdown",
      "source": [
        "# install libraries\n",
        "\n"
      ],
      "metadata": {
        "id": "ZyXmZP-eIUGd"
      }
    },
    {
      "cell_type": "code",
      "execution_count": 2,
      "metadata": {
        "colab": {
          "base_uri": "https://localhost:8080/"
        },
        "id": "fGf78xx5HVu5",
        "outputId": "0be5b067-a7e8-41ed-a44e-283b4465ecdb"
      },
      "outputs": [
        {
          "output_type": "stream",
          "name": "stdout",
          "text": [
            "Looking in indexes: https://pypi.org/simple, https://us-python.pkg.dev/colab-wheels/public/simple/\n",
            "Collecting monai\n",
            "  Downloading monai-1.1.0-202212191849-py3-none-any.whl (1.2 MB)\n",
            "\u001b[2K     \u001b[90m━━━━━━━━━━━━━━━━━━━━━━━━━━━━━━━━━━━━━━━━\u001b[0m \u001b[32m1.2/1.2 MB\u001b[0m \u001b[31m61.8 MB/s\u001b[0m eta \u001b[36m0:00:00\u001b[0m\n",
            "\u001b[?25hRequirement already satisfied: torch>=1.8 in /usr/local/lib/python3.8/dist-packages (from monai) (1.13.1+cu116)\n",
            "Requirement already satisfied: numpy>=1.17 in /usr/local/lib/python3.8/dist-packages (from monai) (1.21.6)\n",
            "Requirement already satisfied: typing-extensions in /usr/local/lib/python3.8/dist-packages (from torch>=1.8->monai) (4.4.0)\n",
            "Installing collected packages: monai\n",
            "Successfully installed monai-1.1.0\n"
          ]
        }
      ],
      "source": [
        "pip install monai"
      ]
    },
    {
      "cell_type": "code",
      "source": [
        "pip install nibabel"
      ],
      "metadata": {
        "colab": {
          "base_uri": "https://localhost:8080/"
        },
        "id": "2y0EfMpdIevy",
        "outputId": "8f288cf0-f907-4121-ef61-9c307fa546a9"
      },
      "execution_count": 3,
      "outputs": [
        {
          "output_type": "stream",
          "name": "stdout",
          "text": [
            "Looking in indexes: https://pypi.org/simple, https://us-python.pkg.dev/colab-wheels/public/simple/\n",
            "Requirement already satisfied: nibabel in /usr/local/lib/python3.8/dist-packages (3.0.2)\n",
            "Requirement already satisfied: numpy>=1.12 in /usr/local/lib/python3.8/dist-packages (from nibabel) (1.21.6)\n"
          ]
        }
      ]
    },
    {
      "cell_type": "code",
      "source": [
        "pip install pytorch-ignite"
      ],
      "metadata": {
        "colab": {
          "base_uri": "https://localhost:8080/"
        },
        "id": "10jjZ3D3Ipzr",
        "outputId": "1ca6b639-e709-4a09-95d2-70e48d9c0117"
      },
      "execution_count": 4,
      "outputs": [
        {
          "output_type": "stream",
          "name": "stdout",
          "text": [
            "Looking in indexes: https://pypi.org/simple, https://us-python.pkg.dev/colab-wheels/public/simple/\n",
            "Collecting pytorch-ignite\n",
            "  Downloading pytorch_ignite-0.4.10-py3-none-any.whl (264 kB)\n",
            "\u001b[2K     \u001b[90m━━━━━━━━━━━━━━━━━━━━━━━━━━━━━━━━━━━━━━\u001b[0m \u001b[32m264.1/264.1 KB\u001b[0m \u001b[31m11.1 MB/s\u001b[0m eta \u001b[36m0:00:00\u001b[0m\n",
            "\u001b[?25hRequirement already satisfied: packaging in /usr/local/lib/python3.8/dist-packages (from pytorch-ignite) (21.3)\n",
            "Requirement already satisfied: torch<2,>=1.3 in /usr/local/lib/python3.8/dist-packages (from pytorch-ignite) (1.13.1+cu116)\n",
            "Requirement already satisfied: typing-extensions in /usr/local/lib/python3.8/dist-packages (from torch<2,>=1.3->pytorch-ignite) (4.4.0)\n",
            "Requirement already satisfied: pyparsing!=3.0.5,>=2.0.2 in /usr/local/lib/python3.8/dist-packages (from packaging->pytorch-ignite) (3.0.9)\n",
            "Installing collected packages: pytorch-ignite\n",
            "Successfully installed pytorch-ignite-0.4.10\n"
          ]
        }
      ]
    },
    {
      "cell_type": "markdown",
      "source": [
        "# import libraries"
      ],
      "metadata": {
        "id": "r5C_IKq-ItiZ"
      }
    },
    {
      "cell_type": "code",
      "source": [
        "import numpy as np\n",
        "import pandas as pd\n",
        "import random\n",
        "import glob2\n",
        "# import matplotlib.pyplot as plt \n",
        "# import nibabel.processing as nib_processing\n",
        "# import nibabel.affines as nib_affines\n",
        "import matplotlib.pyplot as plt\n",
        "import torch\n",
        "import monai\n",
        "from monai.apps import download_and_extract\n",
        "from monai.config import print_config\n",
        "from monai.data import DataLoader, ImageDataset, ArrayDataset\n",
        "from monai.transforms import (\n",
        "    EnsureChannelFirst,\n",
        "    Compose,\n",
        "    RandRotate90,\n",
        "    Resize,\n",
        "    ResizeWithPadOrCrop,\n",
        "    Spacing,\n",
        "    ScaleIntensity,\n",
        "    NormalizeIntensity,\n",
        "    Orientation, \n",
        "    LoadImage,\n",
        "    SpatialResample,\n",
        "    Lambda,\n",
        "    AffineGrid,\n",
        "    Resample,\n",
        "    EnsureType\n",
        ")"
      ],
      "metadata": {
        "id": "UlFVkU3yIwzB"
      },
      "execution_count": 5,
      "outputs": []
    },
    {
      "cell_type": "code",
      "source": [
        "import torch\n",
        "import torch.nn as nn\n",
        "import torch.nn.functional as F\n",
        "import torch"
      ],
      "metadata": {
        "id": "KOSJjchMI-1x"
      },
      "execution_count": 6,
      "outputs": []
    },
    {
      "cell_type": "code",
      "source": [
        "from sklearn.metrics import confusion_matrix, precision_score, recall_score, f1_score, roc_auc_score, accuracy_score, balanced_accuracy_score\n",
        "from torch.nn.modules.loss import NLLLoss\n",
        "import matplotlib.pyplot as plt"
      ],
      "metadata": {
        "id": "O9TdOOOcJHsJ"
      },
      "execution_count": 7,
      "outputs": []
    },
    {
      "cell_type": "markdown",
      "source": [
        "# memory, device and random seed\n"
      ],
      "metadata": {
        "id": "rMXXNXUfJXRK"
      }
    },
    {
      "cell_type": "code",
      "source": [
        "pin_memory = torch.cuda.is_available()\n",
        "device = torch.device(\"cuda\" ) if torch.cuda.is_available() else \"cpu\""
      ],
      "metadata": {
        "id": "2ZDHnyxNJ3-D"
      },
      "execution_count": 8,
      "outputs": []
    },
    {
      "cell_type": "code",
      "source": [
        "def seed_worker(worker_id):\n",
        "    worker_seed = torch.initial_seed() % 2**32\n",
        "    np.random.seed(worker_seed)\n",
        "    random.seed(worker_seed)\n",
        "\n",
        "g = torch.Generator()\n",
        "g.manual_seed(0)"
      ],
      "metadata": {
        "colab": {
          "base_uri": "https://localhost:8080/"
        },
        "id": "cSzPxcwKJqsH",
        "outputId": "130f3979-bcec-45e0-d4ce-dff447881252"
      },
      "execution_count": 9,
      "outputs": [
        {
          "output_type": "execute_result",
          "data": {
            "text/plain": [
              "<torch._C.Generator at 0x7f26adabf9d0>"
            ]
          },
          "metadata": {},
          "execution_count": 9
        }
      ]
    },
    {
      "cell_type": "code",
      "source": [
        "random_seed = 1 "
      ],
      "metadata": {
        "id": "S-iP4QavJyis"
      },
      "execution_count": 10,
      "outputs": []
    },
    {
      "cell_type": "code",
      "source": [
        "torch.manual_seed(random_seed)\n",
        "torch.cuda.manual_seed(random_seed)\n",
        "torch.backends.cudnn.deterministic = True\n",
        "torch.backends.cudnn.benchmark = False\n",
        "np.random.seed(random_seed)"
      ],
      "metadata": {
        "id": "COZRtPnoJdWB"
      },
      "execution_count": 11,
      "outputs": []
    },
    {
      "cell_type": "markdown",
      "source": [
        "# Hyperparameter"
      ],
      "metadata": {
        "id": "w1pETQzKZ8m_"
      }
    },
    {
      "cell_type": "code",
      "source": [
        "batch_size = 8\n",
        "dropout = 0.3\n",
        "max_epochs= 30\n",
        "learning_rate = 0.0001\n"
      ],
      "metadata": {
        "id": "EvuNHyfYZ_O0"
      },
      "execution_count": 12,
      "outputs": []
    },
    {
      "cell_type": "markdown",
      "source": [
        "#Data Load"
      ],
      "metadata": {
        "id": "KmOsG2hQLxdQ"
      }
    },
    {
      "cell_type": "markdown",
      "source": [
        "**#COBRE**"
      ],
      "metadata": {
        "id": "6y6DTFQgL4Pt"
      }
    },
    {
      "cell_type": "code",
      "source": [
        "# cobre_T1 = glob2.glob('/content/drive/MyDrive/schizophrenia_data/COBRE/schizconnect_COBRE_images_16224/COBRE/**/anat/**/*_T1w.nii.gz', recursive = True)\n",
        "# # cobre_T2 = glob2.glob('/content/drive/MyDrive/schizophrenia_data/COBRE/schizconnect_COBRE_images_16224/COBRE/**/anat/**/*_T2w.nii.gz', recursive = True)"
      ],
      "metadata": {
        "id": "E81aD8_NL15M"
      },
      "execution_count": 13,
      "outputs": []
    },
    {
      "cell_type": "code",
      "source": [
        "# cobre_tsv_path = '/content/drive/MyDrive/schizophrenia_data/COBRE/schizconnect_COBRE_images_16224/COBRE/participants.tsv'"
      ],
      "metadata": {
        "id": "W63n1kwsRwXy"
      },
      "execution_count": 14,
      "outputs": []
    },
    {
      "cell_type": "code",
      "source": [
        "# cobre_participants = pd.read_csv(cobre_tsv_path,sep='\\t')"
      ],
      "metadata": {
        "id": "YoqEr7foSIVq"
      },
      "execution_count": 15,
      "outputs": []
    },
    {
      "cell_type": "code",
      "source": [
        "# diagnosis = []\n",
        "# for index, row in cobre_participants.iterrows():\n",
        "#   if (row['dx'] == 'No_Known_Disorder'):\n",
        "#     diagnosis.append(0)\n",
        "#   elif (row['dx'] == 'Bipolar_Disorder'):\n",
        "#     diagnosis.append(2)\n",
        "#   else:\n",
        "#     diagnosis.append(1)\n",
        "\n",
        "# cobre_participants = pd.concat([cobre_participants, pd.DataFrame(diagnosis)], axis=1)\n",
        "# cobre_participants.columns = ['study', 'participant_id','age', 'sex','dx','diagnosis']"
      ],
      "metadata": {
        "id": "XrGzc6uWSmP4"
      },
      "execution_count": 16,
      "outputs": []
    },
    {
      "cell_type": "code",
      "source": [
        "# COBRE_healthy_subjects = []\n",
        "# COBRE_schiz_subjects = []"
      ],
      "metadata": {
        "id": "t8pfPt-YTIpl"
      },
      "execution_count": 17,
      "outputs": []
    },
    {
      "cell_type": "code",
      "source": [
        "# for index, row in cobre_participants.iterrows():\n",
        "#     if (row['diagnosis'] == 1):\n",
        "#         COBRE_schiz_subjects.append(row['participant_id'])\n",
        "#     elif (row['diagnosis'] == 0):\n",
        "#         COBRE_healthy_subjects.append(row['participant_id'])"
      ],
      "metadata": {
        "id": "zMFsLb3YTRf9"
      },
      "execution_count": 18,
      "outputs": []
    },
    {
      "cell_type": "code",
      "source": [
        "# COBRE_healthy = []\n",
        "# COBRE_schiz = []\n",
        "# COBRE_healthy_labels = []\n",
        "# COBRE_schiz_labels = []\n",
        "\n",
        "# for C in cobre_T1:\n",
        "#   if (any(ele in C for ele in COBRE_healthy_subjects)):\n",
        "#       COBRE_healthy.append(C)\n",
        "#       COBRE_healthy_labels.append(0)\n",
        "#   elif (any(ele in C for ele in COBRE_schiz_subjects)):\n",
        "#       COBRE_schiz.append(C)\n",
        "#       COBRE_schiz_labels.append(1)"
      ],
      "metadata": {
        "id": "OYJcAdRuTVj0"
      },
      "execution_count": 19,
      "outputs": []
    },
    {
      "cell_type": "code",
      "source": [
        "# print(len(COBRE_healthy))\n",
        "# print(len(COBRE_schiz))"
      ],
      "metadata": {
        "id": "KPlo_A8PmNdx"
      },
      "execution_count": 20,
      "outputs": []
    },
    {
      "cell_type": "code",
      "source": [
        "# COBRE_healthy_split = int(len(COBRE_healthy) * (1 - 0.3))\n",
        "# COBRE_schiz_split = int(len(COBRE_schiz) * (1 - 0.3))"
      ],
      "metadata": {
        "id": "Kyz8B-Aynume"
      },
      "execution_count": 21,
      "outputs": []
    },
    {
      "cell_type": "code",
      "source": [
        "# print(COBRE_healthy_split)\n",
        "# print(COBRE_schiz_split)"
      ],
      "metadata": {
        "id": "WulNRVROsb4D"
      },
      "execution_count": 22,
      "outputs": []
    },
    {
      "cell_type": "markdown",
      "source": [
        "**#MCIC**"
      ],
      "metadata": {
        "id": "eXb9mvI-MCnR"
      }
    },
    {
      "cell_type": "code",
      "source": [
        "mcic_T1 = glob2.glob('/content/drive/MyDrive/schizophrenia_data/MCIC_/MCICShare/**/anat/*_T1w.nii', recursive = True)\n",
        "# mcic_T2 = glob2.glob('/content/drive/MyDrive/schizophrenia_data/MCIC_/MCICShare/**/anat/*_T2w.nii', recursive = True)"
      ],
      "metadata": {
        "id": "QmB9K56dMDuS"
      },
      "execution_count": 23,
      "outputs": []
    },
    {
      "cell_type": "code",
      "source": [
        "mcic_tsv_path = '/content/drive/MyDrive/schizophrenia_data/MCIC_/MCICShare/participants.tsv'"
      ],
      "metadata": {
        "id": "iVAoxIJDR5Ld"
      },
      "execution_count": 24,
      "outputs": []
    },
    {
      "cell_type": "code",
      "source": [
        "mcic_participants = pd.read_csv(mcic_tsv_path,sep='\\t')"
      ],
      "metadata": {
        "id": "Tvpzu8_ySQ0j"
      },
      "execution_count": 25,
      "outputs": []
    },
    {
      "cell_type": "code",
      "source": [
        "mcic_participants['diagnosis'] = np.where(mcic_participants['dx']== 'No_Known_Disorder', 0, 1)"
      ],
      "metadata": {
        "id": "l5Qr4CZOSwhR"
      },
      "execution_count": 26,
      "outputs": []
    },
    {
      "cell_type": "code",
      "source": [
        "MCIC_healthy_subjects = []\n",
        "MCIC_schiz_subjects = []"
      ],
      "metadata": {
        "id": "BJOBznomTfnu"
      },
      "execution_count": 27,
      "outputs": []
    },
    {
      "cell_type": "code",
      "source": [
        "for index, row in mcic_participants.iterrows():\n",
        "  if (row['diagnosis'] == 1):\n",
        "      MCIC_schiz_subjects.append(row['participant_id'])\n",
        "  else:\n",
        "      MCIC_healthy_subjects.append(row['participant_id'])"
      ],
      "metadata": {
        "id": "-9i-EQszT2wW"
      },
      "execution_count": 28,
      "outputs": []
    },
    {
      "cell_type": "code",
      "source": [
        "MCIC_healthy = []\n",
        "MCIC_schiz = []\n",
        "MCIC_healthy_labels = []\n",
        "MCIC_schiz_labels = []"
      ],
      "metadata": {
        "id": "JivNV9OwUDta"
      },
      "execution_count": 29,
      "outputs": []
    },
    {
      "cell_type": "code",
      "source": [
        "for M in mcic_T1:\n",
        "  if (any(ele in M for ele in MCIC_healthy_subjects)):\n",
        "      MCIC_healthy.append(M)\n",
        "      MCIC_healthy_labels.append(0)\n",
        "  else:  \n",
        "      MCIC_schiz.append(M)\n",
        "      MCIC_schiz_labels.append(1)"
      ],
      "metadata": {
        "id": "111_jIEoUIH-"
      },
      "execution_count": 30,
      "outputs": []
    },
    {
      "cell_type": "code",
      "source": [
        "print(len(MCIC_healthy))\n",
        "print(len(MCIC_schiz))"
      ],
      "metadata": {
        "colab": {
          "base_uri": "https://localhost:8080/"
        },
        "id": "CfnoEE3asVXd",
        "outputId": "3e1b2e42-976e-4232-a6a5-742fcaa3e508"
      },
      "execution_count": 31,
      "outputs": [
        {
          "output_type": "stream",
          "name": "stdout",
          "text": [
            "264\n",
            "306\n"
          ]
        }
      ]
    },
    {
      "cell_type": "code",
      "source": [
        "MCIC_healthy_split = int(len(MCIC_healthy) * (1 - 0.3))\n",
        "MCIC_schiz_split = int(len(MCIC_schiz) * (1 - 0.3))"
      ],
      "metadata": {
        "id": "ggrYYm_Nn-Ow"
      },
      "execution_count": 32,
      "outputs": []
    },
    {
      "cell_type": "code",
      "source": [
        "print(MCIC_healthy_split)\n",
        "print(MCIC_schiz_split)"
      ],
      "metadata": {
        "colab": {
          "base_uri": "https://localhost:8080/"
        },
        "id": "0ZfsmSdesa7Y",
        "outputId": "78ddf95f-1b98-4d5f-d8c0-b6b4782267ef"
      },
      "execution_count": 33,
      "outputs": [
        {
          "output_type": "stream",
          "name": "stdout",
          "text": [
            "184\n",
            "214\n"
          ]
        }
      ]
    },
    {
      "cell_type": "markdown",
      "source": [
        "**#BrainGluSchi**"
      ],
      "metadata": {
        "id": "rV0J02h8MF2w"
      }
    },
    {
      "cell_type": "code",
      "source": [
        "# bgsc= glob2.glob('/content/drive/MyDrive/schizophrenia_data/unrepeated_bgsc_t1/**/*.nii.gz', recursive = True)"
      ],
      "metadata": {
        "id": "TgGox_NcMdsV"
      },
      "execution_count": 34,
      "outputs": []
    },
    {
      "cell_type": "code",
      "source": [
        "# bgsc_tsv_path = '/content/drive/MyDrive/schizophrenia_data/unrepeated_bgsc_t1/assessment_data/2079_Demographics_20220620.csv'"
      ],
      "metadata": {
        "id": "rYfAmL98HyCP"
      },
      "execution_count": 35,
      "outputs": []
    },
    {
      "cell_type": "code",
      "source": [
        "# bgsc_participants = pd.read_csv(bgsc_tsv_path,sep=',')"
      ],
      "metadata": {
        "id": "iDs5h1IqH1_I"
      },
      "execution_count": 36,
      "outputs": []
    },
    {
      "cell_type": "code",
      "source": [
        "# diagnosis=[]"
      ],
      "metadata": {
        "id": "t-608oYxH4yh"
      },
      "execution_count": 37,
      "outputs": []
    },
    {
      "cell_type": "code",
      "source": [
        "# for index, row in bgsc_participants.iterrows():\n",
        "#   if (row['Subject Type'] == 'Old Control'):\n",
        "#     diagnosis.append(0)\n",
        "#   elif (row['Subject Type'] == 'Young Control'):\n",
        "#     diagnosis.append(0)\n",
        "#   elif (row['Subject Type'] == 'Control'):\n",
        "#     diagnosis.append(0)\n",
        "#   else:\n",
        "#     diagnosis.append(1)"
      ],
      "metadata": {
        "id": "cBvV80VHICpH"
      },
      "execution_count": 38,
      "outputs": []
    },
    {
      "cell_type": "code",
      "source": [
        "# bgsc_participants = pd.concat([bgsc_participants, pd.DataFrame(diagnosis)], axis=1)"
      ],
      "metadata": {
        "id": "Ly8uAT6zIHU_"
      },
      "execution_count": 39,
      "outputs": []
    },
    {
      "cell_type": "code",
      "source": [
        "# bgsc_healthy_subjects = []\n",
        "# bgsc_schiz_subjects = []"
      ],
      "metadata": {
        "id": "R0tpDDb-IKDF"
      },
      "execution_count": 40,
      "outputs": []
    },
    {
      "cell_type": "code",
      "source": [
        "# for index, row in bgsc_participants.iterrows():\n",
        "#   if (row[0] == 1):\n",
        "#     bgsc_schiz_subjects.append(row['Anonymized ID'])\n",
        "#   elif(row[0] == 0):\n",
        "#     bgsc_healthy_subjects.append(row['Anonymized ID'])"
      ],
      "metadata": {
        "id": "tb_pzxNaItw_"
      },
      "execution_count": 41,
      "outputs": []
    },
    {
      "cell_type": "code",
      "source": [
        "# bgsc_healthy = []\n",
        "# bgsc_schiz = []\n",
        "# bgsc_healthy_labels = []\n",
        "# bgsc_schiz_labels = []"
      ],
      "metadata": {
        "id": "AOW9ybFDIxby"
      },
      "execution_count": 42,
      "outputs": []
    },
    {
      "cell_type": "code",
      "source": [
        "# for b in bgsc:\n",
        "#   if (any(ele in b for ele in bgsc_healthy_subjects)):\n",
        "#     bgsc_healthy.append(b)\n",
        "#     bgsc_healthy_labels.append(0)\n",
        "#   elif(any(ele in b for ele in bgsc_schiz_subjects)):    \n",
        "#     bgsc_schiz.append(b)\n",
        "#     bgsc_schiz_labels.append(1)"
      ],
      "metadata": {
        "id": "UwcU-vkZIyKV"
      },
      "execution_count": 43,
      "outputs": []
    },
    {
      "cell_type": "code",
      "source": [
        "# print(len(bgsc_healthy))\n",
        "# print(len(bgsc_schiz))"
      ],
      "metadata": {
        "id": "x67RW3XkJijs"
      },
      "execution_count": 44,
      "outputs": []
    },
    {
      "cell_type": "code",
      "source": [
        "# bgsc_healthy_split = int(len(bgsc_healthy) * (1 - 0.3))\n",
        "# bgsc_schiz_split = int(len(bgsc_schiz) * (1 - 0.3))"
      ],
      "metadata": {
        "id": "lfE1vGnPKtbU"
      },
      "execution_count": 45,
      "outputs": []
    },
    {
      "cell_type": "code",
      "source": [
        "# print(bgsc_healthy_split)\n",
        "# print(bgsc_schiz_split)"
      ],
      "metadata": {
        "id": "LVayZSIqK0sr"
      },
      "execution_count": 46,
      "outputs": []
    },
    {
      "cell_type": "markdown",
      "source": [
        "\n",
        "**#SRPBS** "
      ],
      "metadata": {
        "id": "zzEzrtn0MEKe"
      }
    },
    {
      "cell_type": "code",
      "source": [
        "# srpbs_healthy = glob2.glob('/content/drive/MyDrive/schizophrenia_data/SRPBS_/srpbs_healthy/**/t1/*.nii', recursive = True)\n",
        "# srpbs_schiz = glob2.glob('/content/drive/MyDrive/schizophrenia_data/SRPBS_/srpbs_schiz/**/t1/*.nii', recursive = True)\n"
      ],
      "metadata": {
        "id": "3nYN8XcjMFgX"
      },
      "execution_count": 47,
      "outputs": []
    },
    {
      "cell_type": "code",
      "source": [
        "# srpbs_healthy_labels = []\n",
        "# srpbs_schiz_labels = []"
      ],
      "metadata": {
        "id": "ClMnaW-UVEUu"
      },
      "execution_count": 48,
      "outputs": []
    },
    {
      "cell_type": "code",
      "source": [
        "# for s in srpbs_healthy:\n",
        "#   srpbs_healthy_labels.append(0)\n",
        "\n",
        "# for s in srpbs_schiz:\n",
        "#   srpbs_schiz_labels.append(1)"
      ],
      "metadata": {
        "id": "pwbTy3OBUrNz"
      },
      "execution_count": 49,
      "outputs": []
    },
    {
      "cell_type": "code",
      "source": [
        "# print(len(srpbs_healthy))\n",
        "# print(len(srpbs_schiz))"
      ],
      "metadata": {
        "id": "2EkWaCxcvaas"
      },
      "execution_count": 50,
      "outputs": []
    },
    {
      "cell_type": "code",
      "source": [
        "# srpbs_healthy_split = int(len(srpbs_healthy) * (1 - 0.3))\n",
        "# srpbs_schiz_split = int(len(srpbs_schiz) * (1 - 0.3))"
      ],
      "metadata": {
        "id": "qKiCfi3mwUkF"
      },
      "execution_count": 51,
      "outputs": []
    },
    {
      "cell_type": "code",
      "source": [
        "# print(srpbs_healthy_split)\n",
        "# print(srpbs_schiz_split)"
      ],
      "metadata": {
        "id": "ETR52wKgwcxW"
      },
      "execution_count": 52,
      "outputs": []
    },
    {
      "cell_type": "markdown",
      "source": [
        "`\n",
        "\n",
        "**#UCLA** {For Testing}"
      ],
      "metadata": {
        "id": "C059YMVsMOms"
      }
    },
    {
      "cell_type": "code",
      "source": [
        "# ucla_healthy = glob2.glob('/content/drive/MyDrive/schizophrenia_data/UCLA/HEALTHY/**/anat/*_T1w.nii.gz', recursive = True)\n",
        "# ucla_schiz = glob2.glob('/content/drive/MyDrive/schizophrenia_data/UCLA/SCHZ/**/anat/*_T1w.nii.gz', recursive = True)"
      ],
      "metadata": {
        "id": "dZUuM6NlMgJM"
      },
      "execution_count": 53,
      "outputs": []
    },
    {
      "cell_type": "code",
      "source": [
        "# ucla_healthy_labels = []\n",
        "# ucla_schiz_labels = []"
      ],
      "metadata": {
        "id": "M86zPfacVZLi"
      },
      "execution_count": 54,
      "outputs": []
    },
    {
      "cell_type": "code",
      "source": [
        "# for u in ucla_healthy:\n",
        "#   ucla_healthy_labels.append(0)\n",
        "\n",
        "# for u in ucla_schiz:\n",
        "#   ucla_schiz_labels.append(1)"
      ],
      "metadata": {
        "id": "T-b1p-GoMPq6"
      },
      "execution_count": 55,
      "outputs": []
    },
    {
      "cell_type": "code",
      "source": [
        "# print(len(ucla_healthy))\n",
        "# print(len(ucla_schiz))"
      ],
      "metadata": {
        "id": "EJCNtP9hpVG2"
      },
      "execution_count": 56,
      "outputs": []
    },
    {
      "cell_type": "markdown",
      "source": [
        "# Transform"
      ],
      "metadata": {
        "id": "crI0eWoyYH4E"
      }
    },
    {
      "cell_type": "code",
      "source": [
        "transforms = Compose([NormalizeIntensity(), EnsureChannelFirst(), Orientation(axcodes='RAS'), Spacing(pixdim=(2,2,2)), ResizeWithPadOrCrop(spatial_size=(99,99,99))])"
      ],
      "metadata": {
        "id": "e9jtKZZeYN0P"
      },
      "execution_count": 57,
      "outputs": []
    },
    {
      "cell_type": "markdown",
      "source": [
        "\n",
        "# Training and validation Dataset and Dataloader"
      ],
      "metadata": {
        "id": "EZd8u5VC3k3_"
      }
    },
    {
      "cell_type": "markdown",
      "source": [
        "Images"
      ],
      "metadata": {
        "id": "CkRvibRPVZAZ"
      }
    },
    {
      "cell_type": "code",
      "source": [
        "# healthy_train = np.concatenate((MCIC_healthy[:MCIC_healthy_split], COBRE_healthy[:COBRE_healthy_split], bgsc_healthy[:bgsc_healthy_split], srpbs_healthy[:srpbs_healthy_split]))\n",
        "# schiz_train = np.concatenate((MCIC_schiz[:MCIC_schiz_split], COBRE_schiz[:COBRE_schiz_split], bgsc_schiz[:bgsc_schiz_split], srpbs_schiz[:srpbs_schiz_split]))\n",
        "\n",
        "# healthy_val = np.concatenate((MCIC_healthy[MCIC_healthy_split:], COBRE_healthy[COBRE_healthy_split:], bgsc_healthy[bgsc_healthy_split:], srpbs_healthy[srpbs_healthy_split:]))\n",
        "# schiz_val = np.concatenate((MCIC_schiz[MCIC_schiz_split:], COBRE_schiz[COBRE_schiz_split:], bgsc_schiz[bgsc_schiz_split:], srpbs_schiz[srpbs_schiz_split:]))))"
      ],
      "metadata": {
        "id": "fzJIIKd43_HT"
      },
      "execution_count": 58,
      "outputs": []
    },
    {
      "cell_type": "code",
      "source": [
        "# healthy_train = np.concatenate((MCIC_healthy[:100], COBRE_healthy[:100], bgsc_healthy[:100], srpbs_healthy[:100]))\n",
        "# schiz_train = np.concatenate((MCIC_schiz[:100], COBRE_schiz[:100], bgsc_schiz[:100], srpbs_schiz[:100]))\n",
        "\n",
        "# healthy_val = np.concatenate((MCIC_healthy[100:140], COBRE_healthy[100:140], bgsc_healthy[100:140], srpbs_healthy[100:140]))\n",
        "# schiz_val = np.concatenate((MCIC_schiz[100:140], COBRE_schiz[100:140], bgsc_schiz[100:140], srpbs_schiz[100:140]))"
      ],
      "metadata": {
        "id": "ZnMdDCxzky6l"
      },
      "execution_count": 59,
      "outputs": []
    },
    {
      "cell_type": "markdown",
      "source": [
        "Labels"
      ],
      "metadata": {
        "id": "ODE_9E2QVaw5"
      }
    },
    {
      "cell_type": "code",
      "source": [
        "# healthy_train_labels = np.concatenate((MCIC_healthy_labels[:MCIC_healthy_split], COBRE_healthy_labels[:COBRE_healthy_split], bgsc_healthy_labels[:bgsc_healthy_split], srpbs_healthy_labels[:srpbs_healthy_split]))\n",
        "# schiz_train_labels = np.concatenate((MCIC_schiz_labels[:MCIC_schiz_split], COBRE_schiz_labels[:COBRE_schiz_split], bgsc_schiz_labels[:bgsc_schiz_split], srpbs_schiz_labels[:srpbs_schiz_split]))\n",
        "\n",
        "# healthy_val_labels = np.concatenate((MCIC_healthy_labels[MCIC_healthy_split:], COBRE_healthy_labels[COBRE_healthy_split:], bgsc_healthy_labels[bgsc_healthy_split:], srpbs_healthy_labels[srpbs_healthy_split:]))\n",
        "# schiz_val_labels = np.concatenate((MCIC_schiz_labels[MCIC_schiz_split:], COBRE_schiz_labels[COBRE_schiz_split:], bgsc_schiz_labels[bgsc_schiz_split:], srpbs_schiz_labels[srpbs_schiz_split:]))))"
      ],
      "metadata": {
        "id": "hRoOEAxrVcaC"
      },
      "execution_count": 60,
      "outputs": []
    },
    {
      "cell_type": "code",
      "source": [
        "# healthy_train_labels = np.concatenate((MCIC_healthy_labels[:100], COBRE_healthy_labels[:100], bgsc_healthy_labels[:100], srpbs_healthy_labels[:100]))\n",
        "# schiz_train_labels = np.concatenate((MCIC_schiz_labels[:100], COBRE_schiz_labels[:100], bgsc_schiz_labels[:100], srpbs_schiz_labels[:100]))\n",
        "\n",
        "# healthy_val_labels = np.concatenate((MCIC_healthy_labels[100:140], COBRE_healthy_labels[100:140], bgsc_healthy_labels[100:140], srpbs_healthy_labels[100:140]))\n",
        "# schiz_val_labels = np.concatenate((MCIC_schiz_labels[100:140], COBRE_schiz_labels[100:140], bgsc_schiz_labels[100:140], srpbs_schiz_labels[100:140]))"
      ],
      "metadata": {
        "id": "naGI8vMXlpqe"
      },
      "execution_count": 61,
      "outputs": []
    },
    {
      "cell_type": "markdown",
      "source": [
        "Training dataset"
      ],
      "metadata": {
        "id": "6-pXwuXyWxDB"
      }
    },
    {
      "cell_type": "code",
      "source": [
        "train_healthy_ds = ImageDataset(image_files= MCIC_healthy[:MCIC_healthy_split], labels=MCIC_healthy_labels[:MCIC_healthy_split], image_only=True, transform=transforms)\n",
        "train_schiz_ds = ImageDataset(image_files=MCIC_schiz[:MCIC_schiz_split], labels=MCIC_schiz_labels[:MCIC_schiz_split], image_only=True, transform=transforms)\n",
        "train_ds = train_healthy_ds + train_schiz_ds "
      ],
      "metadata": {
        "id": "bSqKSALAWbKO"
      },
      "execution_count": 62,
      "outputs": []
    },
    {
      "cell_type": "markdown",
      "source": [
        "Training Data Loader"
      ],
      "metadata": {
        "id": "c7mClXkRW6ks"
      }
    },
    {
      "cell_type": "code",
      "source": [
        "train_loader = DataLoader(train_ds, batch_size=batch_size, shuffle=True, num_workers=2,worker_init_fn=seed_worker, generator=g, pin_memory=pin_memory)"
      ],
      "metadata": {
        "id": "CIpub5l7W6EF"
      },
      "execution_count": 63,
      "outputs": []
    },
    {
      "cell_type": "markdown",
      "source": [
        "Vlidation dataset"
      ],
      "metadata": {
        "id": "n6EdH41RXEDp"
      }
    },
    {
      "cell_type": "code",
      "source": [
        "val_healthy_ds = ImageDataset(image_files=MCIC_healthy[MCIC_healthy_split:], labels=MCIC_healthy_labels[MCIC_healthy_split:], image_only=True, transform=transforms)\n",
        "val_schiz_ds = ImageDataset(image_files=MCIC_schiz[MCIC_schiz_split:], labels=MCIC_schiz_labels[MCIC_schiz_split:], image_only=True,  transform=transforms)\n",
        "val_ds = val_healthy_ds + val_schiz_ds "
      ],
      "metadata": {
        "id": "_R4IclKgW0Mo"
      },
      "execution_count": 64,
      "outputs": []
    },
    {
      "cell_type": "markdown",
      "source": [
        "Validation Data Loader"
      ],
      "metadata": {
        "id": "2glRdx3AXTlQ"
      }
    },
    {
      "cell_type": "code",
      "source": [
        "val_loader = DataLoader(val_ds, batch_size=batch_size, num_workers=2, pin_memory=pin_memory)"
      ],
      "metadata": {
        "id": "VE0bFhQTXOvP"
      },
      "execution_count": 65,
      "outputs": []
    },
    {
      "cell_type": "markdown",
      "source": [
        "# Testing Dataset and Dataloader"
      ],
      "metadata": {
        "id": "1g1aEmHNWM-o"
      }
    },
    {
      "cell_type": "markdown",
      "source": [
        "Testing Dataset"
      ],
      "metadata": {
        "id": "XVIotcPwXhLc"
      }
    },
    {
      "cell_type": "code",
      "source": [
        "# test_healthy_ds = ImageDataset(image_files= ucla_healthy, labels=ucla_healthy_labels, image_only=True, transform=transforms)\n",
        "# test_schiz_ds = ImageDataset(image_files=ucla_schiz , labels=ucla_schiz_labels, image_only=True, transform=transforms)\n",
        "# test_ds = test_healthy_ds + test_schiz_ds "
      ],
      "metadata": {
        "id": "5VmoYnj8XjDk"
      },
      "execution_count": 66,
      "outputs": []
    },
    {
      "cell_type": "markdown",
      "source": [
        "Test Loader"
      ],
      "metadata": {
        "id": "LDYDb8XEZD2v"
      }
    },
    {
      "cell_type": "code",
      "source": [
        "# test_loader = DataLoader(test_ds, pin_memory=pin_memory)"
      ],
      "metadata": {
        "id": "p3H_rYZRZFzG"
      },
      "execution_count": 67,
      "outputs": []
    },
    {
      "cell_type": "markdown",
      "source": [
        "#Define Model"
      ],
      "metadata": {
        "id": "TCSB9G2ZZRqG"
      }
    },
    {
      "cell_type": "code",
      "source": [
        "model = nn.Sequential(\n",
        "        nn.Conv3d(1, 32, [3,3,3], stride=1, padding=0, dilation=1, groups=1, bias=True, padding_mode='zeros', device=None, dtype=None),\n",
        "        nn.ReLU(inplace=False),\n",
        "        nn.Conv3d(32, 32, [3,3,3], stride=1, padding=0, dilation=1, groups=1, bias=True, padding_mode='zeros', device=None, dtype=None),\n",
        "        torch.nn.ReLU(inplace=False),\n",
        "        nn.MaxPool3d([3,3,3], stride=None, padding=0, dilation=1, return_indices=False, ceil_mode=False),\n",
        "        nn.Dropout(p=dropout, inplace=False),\n",
        "        nn.Conv3d(32, 64, [3,3,3], stride=1, padding=0, dilation=1, groups=1, bias=True, padding_mode='zeros', device=None, dtype=None),\n",
        "        nn.ReLU(inplace=False),\n",
        "        nn.Conv3d(64, 64, [3,3,3], stride=1, padding=0, dilation=1, groups=1, bias=True, padding_mode='zeros', device=None, dtype=None),\n",
        "        torch.nn.ReLU(inplace=False),\n",
        "        nn.MaxPool3d([3,3,3], stride=None, padding=0, dilation=1, return_indices=False, ceil_mode=False),\n",
        "        nn.Dropout(p=dropout, inplace=False),\n",
        "        nn.Flatten(start_dim=1, end_dim=- 1),\n",
        "        nn.Linear(46656, 512, bias=True, device=None, dtype=None),\n",
        "        nn.Dropout(p=dropout, inplace=False),\n",
        "        nn.Linear(512, 2, bias=True, device=None, dtype=None),\n",
        "        nn.Softmax(dim=1)\n",
        "    )\n",
        "\n",
        "if torch.cuda.is_available():\n",
        "  model.cuda()"
      ],
      "metadata": {
        "id": "TlvJk1byZXvQ"
      },
      "execution_count": 68,
      "outputs": []
    },
    {
      "cell_type": "markdown",
      "source": [
        "# Training and validation of model"
      ],
      "metadata": {
        "id": "CCPfatj8aNSQ"
      }
    },
    {
      "cell_type": "code",
      "source": [
        "loss_function = torch.nn.BCELoss()\n",
        "optimizer = torch.optim.Adam(model.parameters(), learning_rate)\n",
        "val_interval = 1\n",
        "best_metric = -1\n",
        "best_metric_epoch = -1\n",
        "train_best_metric = -1\n",
        "train_best_metric_epoch = -1\n",
        "train_accuracy = -1\n",
        "epoch_loss_values = []\n",
        "epoch_train_accuracy_values = []\n",
        "epoch_train_balace_accuracy_values=[]\n",
        "epoch_train_precision_values = []\n",
        "epoch_train_recall_values = []\n",
        "epoch_train_specificity_values = []\n",
        "epoch_train_F1_values = []\n",
        "epoch_val_accuracy_values = []\n",
        "epoch_val_balace_accuracy_values=[]\n",
        "epoch_val_precision_values = []\n",
        "epoch_val_recall_values = []\n",
        "epoch_val_specificity_values = []\n",
        "epoch_val_F1_values = []\n",
        "# writer = SummaryWriter()\n",
        "for epoch in range(max_epochs):\n",
        "  y_pred = []\n",
        "  y_true = []\n",
        "  val_y_pred = []\n",
        "  val_y_true = []\n",
        "  print(\"-\" * 10)\n",
        "  print(f\"epoch {epoch + 1}/{max_epochs}\")\n",
        "  model.train()\n",
        "  epoch_loss = 0\n",
        "  epoch_val_accuracy = 0\n",
        "  epoch_val_precision = 0\n",
        "  epoch_val_recall= 0\n",
        "  epoch_val_F1 = 0\n",
        "  step = 0\n",
        "  for batch_data in train_loader:\n",
        "    step += 1\n",
        "    inputs, labe = batch_data[0].to(device), batch_data[1].to(device)\n",
        "    optimizer.zero_grad()\n",
        "    outputs = model(inputs)\n",
        "    labels = []\n",
        "    for i in labe:\n",
        "      if i == 0:\n",
        "        i=[1,0]\n",
        "        labels.append(i)\n",
        "      elif i == 1:\n",
        "        i=[0,1]\n",
        "        labels.append(i)\n",
        "    label = np.array(labels)\n",
        "    labels = torch.from_numpy(label)\n",
        "    labels = labels.float().to(device)\n",
        "    \n",
        "    loss = loss_function(outputs, labels)\n",
        "    loss.backward()\n",
        "    optimizer.step()\n",
        "    epoch_loss += loss.item()\n",
        "    epoch_len = len(train_ds) // train_loader.batch_size\n",
        "    \n",
        "    output = (torch.max(torch.exp(outputs), 1)[1]).data.cpu().numpy()\n",
        "    y_pred.extend(output) # Save Prediction\n",
        "\n",
        "\n",
        "    labels = labe.data.cpu().numpy()\n",
        "    y_true.extend(labels)\n",
        "    \n",
        "  epoch_loss /= step\n",
        "  epoch_loss_values.append(epoch_loss)\n",
        "\n",
        "  tn, fp, fn, tp = confusion_matrix(y_true, y_pred).ravel()\n",
        "\n",
        "  acc = accuracy_score(y_true, y_pred)\n",
        "  epoch_train_accuracy_values.append(acc)\n",
        "\n",
        "\n",
        "  bal_acc= balanced_accuracy_score(y_true, y_pred)\n",
        "  epoch_train_balace_accuracy_values.append(bal_acc)\n",
        "\n",
        "  precision = precision_score(y_true, y_pred)\n",
        "  epoch_train_precision_values.append(precision)\n",
        "\n",
        "  recall= recall_score(y_true, y_pred)\n",
        "  epoch_train_precision_values.append(recall)\n",
        "\n",
        "  specificity = tn / (tn+fp)\n",
        "  epoch_train_specificity_values.append(specificity)\n",
        "\n",
        "  f1_score = (precision * recall * 2 )/ (precision +recall)\n",
        "\n",
        "  if f1_score!=f1_score:\n",
        "    f1_score = 0\n",
        "  else: \n",
        "    f1_score =f1_score\n",
        "\n",
        "  epoch_train_F1_values.append(f1_score)\n",
        "\n",
        "  print(f\"epoch {epoch + 1}, training, average loss: {epoch_loss:.4f}, accuracy: {acc:.4f}, balanced_Acc:{bal_acc:.4f}, precision: { precision:.4f}, recall: {recall:.4f}, F1: {f1_score:.4f}, specificity: {specificity:.4f}, auc score: {roc_auc_score(y_true, y_pred)}\")\n",
        "\n",
        "  if (epoch + 1) % val_interval == 0:\n",
        "    model.eval()\n",
        "    with torch.no_grad():\n",
        "      num_correct = 0.0\n",
        "      metric_count = 0\n",
        "      val_step = 0\n",
        "      for val_data in val_loader:\n",
        "        val_step +=1\n",
        "        val_images, val_labels = val_data[0].to(device), val_data[1].to(device)\n",
        "        val_outputs = model(val_images)\n",
        "\n",
        "        val_output = (torch.max(torch.exp(val_outputs), 1)[1]).data.cpu().numpy()\n",
        "        val_y_pred.extend(val_output) # Save Prediction\n",
        "\n",
        "\n",
        "        val_labels = val_labels.data.cpu().numpy()\n",
        "        val_y_true.extend(val_labels) # Save Truth\n",
        "        \n",
        "    vtn, vfp, vfn, vtp = confusion_matrix(val_y_true, val_y_pred).ravel()\n",
        "\n",
        "    val_acc = accuracy_score(val_y_true, val_y_pred)\n",
        "    epoch_val_accuracy_values.append(val_acc)\n",
        "\n",
        "\n",
        "    val_bal_acc= balanced_accuracy_score(val_y_true, val_y_pred)\n",
        "    epoch_val_balace_accuracy_values.append(val_bal_acc)\n",
        "\n",
        "    val_precision = precision_score(val_y_true, val_y_pred)\n",
        "    epoch_val_precision_values.append(val_precision)\n",
        "\n",
        "    val_recall= recall_score(val_y_true, val_y_pred)\n",
        "    epoch_val_precision_values.append(val_recall)\n",
        "\n",
        "    val_specificity = vtn / (vtn+vfp)\n",
        "    epoch_val_specificity_values.append(val_specificity)\n",
        "\n",
        "    val_f1_score = (val_precision * val_recall * 2 )/ (val_precision + val_recall)\n",
        "\n",
        "    if val_f1_score!=val_f1_score:\n",
        "      val_f1_score = 0\n",
        "    else: \n",
        "      val_f1_score =val_f1_score\n",
        "\n",
        "    epoch_val_F1_values.append(val_f1_score)\n",
        "\n",
        "    if val_f1_score > best_metric:\n",
        "      best_metric = val_f1_score\n",
        "      best_metric_epoch = epoch + 1\n",
        "      torch.save(model.state_dict(), \"best_metric_model_classification3d_array.pth\")\n",
        "      print(\"saved new validation best metric model\")\n",
        "\n",
        "    print(f\"epoch {epoch + 1}, validation, confusion matrix:{(vtn, vfp, vfn, vtp)} accuracy: {val_acc:.4f}, balanced accuracy:{val_bal_acc:.4f} precision: { val_precision:.4f}, recall: {val_recall:.4f}, F1: {val_f1_score:.4f}, specificity: {val_specificity:.4f}, auc score: {roc_auc_score(val_y_true, val_y_pred)}\")\n",
        "  \n",
        "print(f\"Training completed, validation best_metric: {best_metric:.4f} at epoch: {best_metric_epoch}\")"
      ],
      "metadata": {
        "colab": {
          "base_uri": "https://localhost:8080/"
        },
        "id": "_vQLoRSbhKOz",
        "outputId": "5f66e408-7a12-4c07-b0a9-32b0a358091a"
      },
      "execution_count": 69,
      "outputs": [
        {
          "output_type": "stream",
          "name": "stdout",
          "text": [
            "----------\n",
            "epoch 1/30\n",
            "epoch 1, training, average loss: 0.7215, accuracy: 0.4925, balanced_Acc:0.5086, precision: 0.5526, recall: 0.2944, F1: 0.3841, specificity: 0.7228, auc score: 0.5086093051605038\n"
          ]
        },
        {
          "output_type": "stream",
          "name": "stderr",
          "text": [
            "/usr/local/lib/python3.8/dist-packages/sklearn/metrics/_classification.py:1318: UndefinedMetricWarning: Precision is ill-defined and being set to 0.0 due to no predicted samples. Use `zero_division` parameter to control this behavior.\n",
            "  _warn_prf(average, modifier, msg_start, len(result))\n",
            "<ipython-input-69-ece0b1317bdd>:135: RuntimeWarning: invalid value encountered in double_scalars\n",
            "  val_f1_score = (val_precision * val_recall * 2 )/ (val_precision + val_recall)\n"
          ]
        },
        {
          "output_type": "stream",
          "name": "stdout",
          "text": [
            "saved new validation best metric model\n",
            "epoch 1, validation, confusion matrix:(80, 0, 92, 0) accuracy: 0.4651, balanced accuracy:0.5000 precision: 0.0000, recall: 0.0000, F1: 0.0000, specificity: 1.0000, auc score: 0.5\n",
            "----------\n",
            "epoch 2/30\n",
            "epoch 2, training, average loss: 0.6951, accuracy: 0.5000, balanced_Acc:0.5171, precision: 0.5688, recall: 0.2897, F1: 0.3839, specificity: 0.7446, auc score: 0.5171424217797642\n",
            "saved new validation best metric model\n",
            "epoch 2, validation, confusion matrix:(71, 9, 83, 9) accuracy: 0.4651, balanced accuracy:0.4927 precision: 0.5000, recall: 0.0978, F1: 0.1636, specificity: 0.8875, auc score: 0.49266304347826084\n",
            "----------\n",
            "epoch 3/30\n",
            "epoch 3, training, average loss: 0.6828, accuracy: 0.6131, balanced_Acc:0.6002, precision: 0.6111, recall: 0.7710, F1: 0.6818, specificity: 0.4293, auc score: 0.6001879317350671\n",
            "saved new validation best metric model\n",
            "epoch 3, validation, confusion matrix:(54, 26, 31, 61) accuracy: 0.6686, balanced accuracy:0.6690 precision: 0.7011, recall: 0.6630, F1: 0.6816, specificity: 0.6750, auc score: 0.6690217391304348\n",
            "----------\n",
            "epoch 4/30\n",
            "epoch 4, training, average loss: 0.6564, accuracy: 0.6281, balanced_Acc:0.6180, precision: 0.6289, recall: 0.7523, F1: 0.6851, specificity: 0.4837, auc score: 0.6180160503860219\n",
            "epoch 4, validation, confusion matrix:(56, 24, 43, 49) accuracy: 0.6105, balanced accuracy:0.6163 precision: 0.6712, recall: 0.5326, F1: 0.5939, specificity: 0.7000, auc score: 0.6163043478260869\n",
            "----------\n",
            "epoch 5/30\n",
            "epoch 5, training, average loss: 0.5930, accuracy: 0.6784, balanced_Acc:0.6758, precision: 0.6972, recall: 0.7103, F1: 0.7037, specificity: 0.6413, auc score: 0.6757923608289313\n",
            "saved new validation best metric model\n",
            "epoch 5, validation, confusion matrix:(51, 29, 21, 71) accuracy: 0.7093, balanced accuracy:0.7046 precision: 0.7100, recall: 0.7717, F1: 0.7396, specificity: 0.6375, auc score: 0.7046195652173912\n",
            "----------\n",
            "epoch 6/30\n",
            "epoch 6, training, average loss: 0.5788, accuracy: 0.6759, balanced_Acc:0.6735, precision: 0.6959, recall: 0.7056, F1: 0.7007, specificity: 0.6413, auc score: 0.6734559122308005\n",
            "epoch 6, validation, confusion matrix:(68, 12, 58, 34) accuracy: 0.5930, balanced accuracy:0.6098 precision: 0.7391, recall: 0.3696, F1: 0.4928, specificity: 0.8500, auc score: 0.609782608695652\n",
            "----------\n",
            "epoch 7/30\n",
            "epoch 7, training, average loss: 0.4513, accuracy: 0.7889, balanced_Acc:0.7904, precision: 0.8250, recall: 0.7710, F1: 0.7971, specificity: 0.8098, auc score: 0.7904053230394149\n",
            "epoch 7, validation, confusion matrix:(52, 28, 39, 53) accuracy: 0.6105, balanced accuracy:0.6130 precision: 0.6543, recall: 0.5761, F1: 0.6127, specificity: 0.6500, auc score: 0.6130434782608697\n",
            "----------\n",
            "epoch 8/30\n",
            "epoch 8, training, average loss: 0.3999, accuracy: 0.8065, balanced_Acc:0.8056, precision: 0.8216, recall: 0.8178, F1: 0.8197, specificity: 0.7935, auc score: 0.8056176351076798\n",
            "epoch 8, validation, confusion matrix:(66, 14, 60, 32) accuracy: 0.5698, balanced accuracy:0.5864 precision: 0.6957, recall: 0.3478, F1: 0.4638, specificity: 0.8250, auc score: 0.5864130434782608\n",
            "----------\n",
            "epoch 9/30\n",
            "epoch 9, training, average loss: 0.2934, accuracy: 0.8744, balanced_Acc:0.8725, precision: 0.8727, recall: 0.8972, F1: 0.8848, specificity: 0.8478, auc score: 0.8725111743193824\n",
            "epoch 9, validation, confusion matrix:(55, 25, 42, 50) accuracy: 0.6105, balanced accuracy:0.6155 precision: 0.6667, recall: 0.5435, F1: 0.5988, specificity: 0.6875, auc score: 0.6154891304347827\n",
            "----------\n",
            "epoch 10/30\n",
            "epoch 10, training, average loss: 0.2236, accuracy: 0.9095, balanced_Acc:0.9094, precision: 0.9198, recall: 0.9112, F1: 0.9155, specificity: 0.9076, auc score: 0.909411824461601\n",
            "epoch 10, validation, confusion matrix:(42, 38, 29, 63) accuracy: 0.6105, balanced accuracy:0.6049 precision: 0.6238, recall: 0.6848, F1: 0.6528, specificity: 0.5250, auc score: 0.6048913043478261\n",
            "----------\n",
            "epoch 11/30\n",
            "epoch 11, training, average loss: 0.1723, accuracy: 0.9296, balanced_Acc:0.9296, precision: 0.9387, recall: 0.9299, F1: 0.9343, specificity: 0.9293, auc score: 0.9296271840715157\n",
            "epoch 11, validation, confusion matrix:(67, 13, 55, 37) accuracy: 0.6047, balanced accuracy:0.6198 precision: 0.7400, recall: 0.4022, F1: 0.5211, specificity: 0.8375, auc score: 0.6198369565217392\n",
            "----------\n",
            "epoch 12/30\n",
            "epoch 12, training, average loss: 0.0937, accuracy: 0.9698, balanced_Acc:0.9704, precision: 0.9810, recall: 0.9626, F1: 0.9717, specificity: 0.9783, auc score: 0.9704388459975619\n",
            "epoch 12, validation, confusion matrix:(32, 48, 14, 78) accuracy: 0.6395, balanced accuracy:0.6239 precision: 0.6190, recall: 0.8478, F1: 0.7156, specificity: 0.4000, auc score: 0.6239130434782609\n",
            "----------\n",
            "epoch 13/30\n",
            "epoch 13, training, average loss: 0.0984, accuracy: 0.9623, balanced_Acc:0.9615, precision: 0.9585, recall: 0.9720, F1: 0.9652, specificity: 0.9511, auc score: 0.9615247866720846\n",
            "epoch 13, validation, confusion matrix:(66, 14, 56, 36) accuracy: 0.5930, balanced accuracy:0.6082 precision: 0.7200, recall: 0.3913, F1: 0.5070, specificity: 0.8250, auc score: 0.6081521739130433\n",
            "----------\n",
            "epoch 14/30\n",
            "epoch 14, training, average loss: 0.0812, accuracy: 0.9598, balanced_Acc:0.9596, precision: 0.9626, recall: 0.9626, F1: 0.9626, specificity: 0.9565, auc score: 0.9595692807801707\n",
            "epoch 14, validation, confusion matrix:(52, 28, 37, 55) accuracy: 0.6221, balanced accuracy:0.6239 precision: 0.6627, recall: 0.5978, F1: 0.6286, specificity: 0.6500, auc score: 0.6239130434782609\n",
            "----------\n",
            "epoch 15/30\n",
            "epoch 15, training, average loss: 0.1564, accuracy: 0.9397, balanced_Acc:0.9401, precision: 0.9524, recall: 0.9346, F1: 0.9434, specificity: 0.9457, auc score: 0.94011580658269\n",
            "epoch 15, validation, confusion matrix:(36, 44, 27, 65) accuracy: 0.5872, balanced accuracy:0.5783 precision: 0.5963, recall: 0.7065, F1: 0.6468, specificity: 0.4500, auc score: 0.5782608695652174\n",
            "----------\n",
            "epoch 16/30\n",
            "epoch 16, training, average loss: 0.0515, accuracy: 0.9874, balanced_Acc:0.9876, precision: 0.9906, recall: 0.9860, F1: 0.9883, specificity: 0.9891, auc score: 0.9875558715969117\n",
            "epoch 16, validation, confusion matrix:(57, 23, 45, 47) accuracy: 0.6047, balanced accuracy:0.6117 precision: 0.6714, recall: 0.5109, F1: 0.5802, specificity: 0.7125, auc score: 0.6116847826086957\n",
            "----------\n",
            "epoch 17/30\n",
            "epoch 17, training, average loss: 0.0227, accuracy: 0.9925, balanced_Acc:0.9922, precision: 0.9907, recall: 0.9953, F1: 0.9930, specificity: 0.9891, auc score: 0.9922287687931735\n",
            "epoch 17, validation, confusion matrix:(56, 24, 46, 46) accuracy: 0.5930, balanced accuracy:0.6000 precision: 0.6571, recall: 0.5000, F1: 0.5679, specificity: 0.7000, auc score: 0.5999999999999999\n",
            "----------\n",
            "epoch 18/30\n",
            "epoch 18, training, average loss: 0.0139, accuracy: 1.0000, balanced_Acc:1.0000, precision: 1.0000, recall: 1.0000, F1: 1.0000, specificity: 1.0000, auc score: 1.0\n",
            "epoch 18, validation, confusion matrix:(46, 34, 36, 56) accuracy: 0.5930, balanced accuracy:0.5918 precision: 0.6222, recall: 0.6087, F1: 0.6154, specificity: 0.5750, auc score: 0.5918478260869565\n",
            "----------\n",
            "epoch 19/30\n",
            "epoch 19, training, average loss: 0.0213, accuracy: 0.9899, balanced_Acc:0.9899, precision: 0.9907, recall: 0.9907, F1: 0.9907, specificity: 0.9891, auc score: 0.9898923201950426\n",
            "epoch 19, validation, confusion matrix:(44, 36, 29, 63) accuracy: 0.6221, balanced accuracy:0.6174 precision: 0.6364, recall: 0.6848, F1: 0.6597, specificity: 0.5500, auc score: 0.6173913043478262\n",
            "----------\n",
            "epoch 20/30\n",
            "epoch 20, training, average loss: 0.0392, accuracy: 0.9849, balanced_Acc:0.9852, precision: 0.9906, recall: 0.9813, F1: 0.9859, specificity: 0.9891, auc score: 0.985219422998781\n",
            "epoch 20, validation, confusion matrix:(53, 27, 43, 49) accuracy: 0.5930, balanced accuracy:0.5976 precision: 0.6447, recall: 0.5326, F1: 0.5833, specificity: 0.6625, auc score: 0.597554347826087\n",
            "----------\n",
            "epoch 21/30\n",
            "epoch 21, training, average loss: 0.0261, accuracy: 0.9925, balanced_Acc:0.9930, precision: 1.0000, recall: 0.9860, F1: 0.9929, specificity: 1.0000, auc score: 0.9929906542056075\n",
            "epoch 21, validation, confusion matrix:(51, 29, 36, 56) accuracy: 0.6221, balanced accuracy:0.6231 precision: 0.6588, recall: 0.6087, F1: 0.6328, specificity: 0.6375, auc score: 0.6230978260869564\n",
            "----------\n",
            "epoch 22/30\n",
            "epoch 22, training, average loss: 0.0122, accuracy: 0.9950, balanced_Acc:0.9946, precision: 0.9907, recall: 1.0000, F1: 0.9953, specificity: 0.9891, auc score: 0.9945652173913043\n",
            "epoch 22, validation, confusion matrix:(56, 24, 43, 49) accuracy: 0.6105, balanced accuracy:0.6163 precision: 0.6712, recall: 0.5326, F1: 0.5939, specificity: 0.7000, auc score: 0.6163043478260869\n",
            "----------\n",
            "epoch 23/30\n",
            "epoch 23, training, average loss: 0.0199, accuracy: 0.9899, balanced_Acc:0.9895, precision: 0.9861, recall: 0.9953, F1: 0.9907, specificity: 0.9837, auc score: 0.9895113774888259\n",
            "epoch 23, validation, confusion matrix:(48, 32, 40, 52) accuracy: 0.5814, balanced accuracy:0.5826 precision: 0.6190, recall: 0.5652, F1: 0.5909, specificity: 0.6000, auc score: 0.5826086956521739\n",
            "----------\n",
            "epoch 24/30\n",
            "epoch 24, training, average loss: 0.0253, accuracy: 0.9849, balanced_Acc:0.9845, precision: 0.9815, recall: 0.9907, F1: 0.9860, specificity: 0.9783, auc score: 0.984457537586347\n",
            "epoch 24, validation, confusion matrix:(49, 31, 39, 53) accuracy: 0.5930, balanced accuracy:0.5943 precision: 0.6310, recall: 0.5761, F1: 0.6023, specificity: 0.6125, auc score: 0.5942934782608696\n",
            "----------\n",
            "epoch 25/30\n",
            "epoch 25, training, average loss: 0.0146, accuracy: 0.9950, balanced_Acc:0.9953, precision: 1.0000, recall: 0.9907, F1: 0.9953, specificity: 1.0000, auc score: 0.9953271028037383\n",
            "epoch 25, validation, confusion matrix:(44, 36, 31, 61) accuracy: 0.6105, balanced accuracy:0.6065 precision: 0.6289, recall: 0.6630, F1: 0.6455, specificity: 0.5500, auc score: 0.6065217391304348\n",
            "----------\n",
            "epoch 26/30\n",
            "epoch 26, training, average loss: 0.0094, accuracy: 0.9975, balanced_Acc:0.9973, precision: 0.9953, recall: 1.0000, F1: 0.9977, specificity: 0.9946, auc score: 0.9972826086956521\n",
            "epoch 26, validation, confusion matrix:(51, 29, 47, 45) accuracy: 0.5581, balanced accuracy:0.5633 precision: 0.6081, recall: 0.4891, F1: 0.5422, specificity: 0.6375, auc score: 0.5633152173913043\n",
            "----------\n",
            "epoch 27/30\n",
            "epoch 27, training, average loss: 0.0088, accuracy: 1.0000, balanced_Acc:1.0000, precision: 1.0000, recall: 1.0000, F1: 1.0000, specificity: 1.0000, auc score: 1.0\n",
            "epoch 27, validation, confusion matrix:(46, 34, 43, 49) accuracy: 0.5523, balanced accuracy:0.5538 precision: 0.5904, recall: 0.5326, F1: 0.5600, specificity: 0.5750, auc score: 0.5538043478260869\n",
            "----------\n",
            "epoch 28/30\n",
            "epoch 28, training, average loss: 0.0144, accuracy: 0.9950, balanced_Acc:0.9949, precision: 0.9953, recall: 0.9953, F1: 0.9953, specificity: 0.9946, auc score: 0.9949461600975213\n",
            "epoch 28, validation, confusion matrix:(50, 30, 37, 55) accuracy: 0.6105, balanced accuracy:0.6114 precision: 0.6471, recall: 0.5978, F1: 0.6215, specificity: 0.6250, auc score: 0.6114130434782609\n",
            "----------\n",
            "epoch 29/30\n",
            "epoch 29, training, average loss: 0.0501, accuracy: 0.9824, balanced_Acc:0.9821, precision: 0.9814, recall: 0.9860, F1: 0.9837, specificity: 0.9783, auc score: 0.9821210889882163\n",
            "epoch 29, validation, confusion matrix:(66, 14, 64, 28) accuracy: 0.5465, balanced accuracy:0.5647 precision: 0.6667, recall: 0.3043, F1: 0.4179, specificity: 0.8250, auc score: 0.5646739130434782\n",
            "----------\n",
            "epoch 30/30\n",
            "epoch 30, training, average loss: 0.0437, accuracy: 0.9824, balanced_Acc:0.9817, precision: 0.9770, recall: 0.9907, F1: 0.9838, specificity: 0.9728, auc score: 0.9817401462819991\n",
            "epoch 30, validation, confusion matrix:(45, 35, 24, 68) accuracy: 0.6570, balanced accuracy:0.6508 precision: 0.6602, recall: 0.7391, F1: 0.6974, specificity: 0.5625, auc score: 0.6508152173913043\n",
            "Training completed, validation best_metric: 0.7396 at epoch: 5\n"
          ]
        }
      ]
    },
    {
      "cell_type": "markdown",
      "source": [
        "# Plot Curve"
      ],
      "metadata": {
        "id": "6d5X6n3XiSr5"
      }
    },
    {
      "cell_type": "code",
      "source": [
        "plt.rcParams[\"figure.figsize\"] = [7.00, 3.50]\n",
        "plt.rcParams[\"figure.autolayout\"] = True\n",
        "\n",
        "train_loss_acc = plt.figure('loss_acc', (12,6))\n",
        "plt.subplot(1,2,1)\n",
        "plt.title(\"Epoch Average Loss and accuracy\")\n",
        "x = [i+1 for i in range(len(epoch_loss_values))]\n",
        "y = epoch_loss_values\n",
        "x1 = [i+1 for i in range(len(epoch_train_accuracy_values))]\n",
        "y1 = epoch_train_accuracy_values\n",
        "x3 = [(i+1) for i in range(len(epoch_val_accuracy_values))]\n",
        "y3 = epoch_val_accuracy_values\n",
        "plt.plot(x, y, label='Training Loss')\n",
        "plt.plot(x1,y1, label='Training Accuracy')\n",
        "plt.plot(x3, y3, label='Validation Accuracy')\n",
        "plt.title('Training loss, Training and Validation Accurccy')\n",
        "\n",
        "plt.legend(loc='upper left')\n",
        "plt.savefig('TrainingandValidationAccurccy.png')\n",
        "\n",
        "F1_score = plt.figure('F1', (12,6))\n",
        "plt.subplot(1,2,1)\n",
        "\n",
        "plt.title(\"Epoch Average f1\")\n",
        "\n",
        "x2 = [i+1 for i in range(len(epoch_train_F1_values))]\n",
        "y2 = epoch_train_F1_values\n",
        "\n",
        "x4 = [i+1 for i in range(len(epoch_val_F1_values))]\n",
        "y4 = epoch_val_F1_values\n",
        "\n",
        "\n",
        "plt.plot(x2, y2, label='Training F1 score')\n",
        "plt.plot(x4, y4, label='validation_F1_score')\n",
        "\n",
        "plt.title('Training and Validation F1 score')\n",
        "\n",
        "plt.legend(loc='upper left')\n",
        "plt.savefig('TrainingandValidationF1.png')"
      ],
      "metadata": {
        "id": "Wnc1GKypiVpm",
        "colab": {
          "base_uri": "https://localhost:8080/",
          "height": 865
        },
        "outputId": "4246f379-b9d4-4d70-df1d-e9c21867e2df"
      },
      "execution_count": 70,
      "outputs": [
        {
          "output_type": "display_data",
          "data": {
            "text/plain": [
              "<Figure size 864x432 with 1 Axes>"
            ],
            "image/png": "[encoded data removed]"
          },
          "metadata": {
            "needs_background": "light"
          }
        },
        {
          "output_type": "display_data",
          "data": {
            "text/plain": [
              "<Figure size 864x432 with 1 Axes>"
            ],
            "image/png": "[encoded data removed]"
          },
          "metadata": {
            "needs_background": "light"
          }
        }
      ]
    },
    {
      "cell_type": "markdown",
      "source": [
        "#Testing"
      ],
      "metadata": {
        "id": "KVMZe_W3jzYW"
      }
    },
    {
      "cell_type": "code",
      "source": [
        "# state_dict_path='/content/best_metric_model_classification3d_array.pth'"
      ],
      "metadata": {
        "id": "sb8UIzQ2j2l9"
      },
      "execution_count": 71,
      "outputs": []
    },
    {
      "cell_type": "code",
      "source": [
        "# model.load_state_dict(torch.load(state_dict_path))"
      ],
      "metadata": {
        "id": "sK_wnsCpkK9V"
      },
      "execution_count": 72,
      "outputs": []
    },
    {
      "cell_type": "code",
      "source": [
        "# test_y_pred = []\n",
        "# test_y_true = []"
      ],
      "metadata": {
        "id": "Crh4WOBzkWo2"
      },
      "execution_count": 73,
      "outputs": []
    },
    {
      "cell_type": "code",
      "source": [
        "# model.eval()\n",
        "# with torch.no_grad():\n",
        "#   num_correct = 0.0\n",
        "#   metric_count = 0\n",
        "#   val_step = 0\n",
        "#   for test_data in test_loader:\n",
        "#     test_images, test_labels = test_data[0].to(device), test_data[1].to(device)\n",
        "#     test_outputs = model(test_images)\n",
        "\n",
        "#     test_output = (torch.max(torch.exp(test_outputs), 1)[1]).data.cpu().numpy()\n",
        "#     test_y_pred.extend(test_output) # Save Prediction\n",
        "\n",
        "\n",
        "#     test_labels = test_labels.data.cpu().numpy()\n",
        "#     test_y_true.extend(test_labels) # Save Truth\n",
        "    \n",
        "# tn, fp, fn, tp = confusion_matrix(test_y_true, test_y_pred).ravel()\n",
        "\n",
        "# test_acc = accuracy_score(test_y_true, test_y_pred)\n",
        "\n",
        "# test_bal_acc= balanced_accuracy_score(test_y_true, test_y_pred)\n",
        "\n",
        "# test_precision = precision_score(test_y_true, test_y_pred)\n",
        "\n",
        "# test_recall= recall_score(test_y_true, test_y_pred)\n",
        "\n",
        "# test_specificity = tn / (tn+fp)\n",
        "\n",
        "# test_f1_score = (test_precision * test_recall * 2 )/ (test_precision + test_recall)\n",
        "\n",
        "# if test_f1_score!=test_f1_score:\n",
        "#   test_f1_score = 0\n",
        "# else: \n",
        "#   test_f1_score =test_f1_score\n",
        "\n",
        "# print(f\"Testing, confusion matrix:{(tn, fp, fn, tp)} accuracy: {test_acc:.4f}, balanced accuracy:{test_bal_acc:.4f} precision: { test_precision:.4f}, recall: {test_recall:.4f}, F1: {test_f1_score:.4f}, specificity: {test_specificity:.4f}, auc score: {roc_auc_score(test_y_true, test_y_pred)}\")"
      ],
      "metadata": {
        "id": "CQCULPnRketM"
      },
      "execution_count": 74,
      "outputs": []
    }
  ]
}