{
  "nbformat": 4,
  "nbformat_minor": 0,
  "metadata": {
    "colab": {
      "provenance": [],
      "collapsed_sections": [
        "1oQpseE_n6A1"
      ],
      "include_colab_link": true
    },
    "kernelspec": {
      "name": "python3",
      "display_name": "Python 3"
    },
    "language_info": {
      "name": "python"
    },
    "gpuClass": "standard",
    "accelerator": "GPU"
  },
  "cells": [
    {
      "cell_type": "markdown",
      "metadata": {
        "id": "view-in-github",
        "colab_type": "text"
      },
      "source": [
        "<a href=\"https://colab.research.google.com/github/ZenaPoudel/Schiz_Detector/blob/main/Testing_ON_MCICtrainedDataSet(Normalised)_with_COBRE.ipynb\" target=\"_parent\"><img src=\"https://colab.research.google.com/assets/colab-badge.svg\" alt=\"Open In Colab\"/></a>"
      ]
    },
    {
      "cell_type": "code",
      "source": [
        "pip install monai\n"
      ],
      "metadata": {
        "colab": {
          "base_uri": "https://localhost:8080/"
        },
        "id": "u1fHD_GRIK1l",
        "outputId": "1371ed12-712e-4fc1-9b4c-e03027b63374"
      },
      "execution_count": 1,
      "outputs": [
        {
          "output_type": "stream",
          "name": "stdout",
          "text": [
            "Looking in indexes: https://pypi.org/simple, https://us-python.pkg.dev/colab-wheels/public/simple/\n",
            "Collecting monai\n",
            "  Downloading monai-1.1.0-202212191849-py3-none-any.whl (1.2 MB)\n",
            "\u001b[2K     \u001b[90m━━━━━━━━━━━━━━━━━━━━━━━━━━━━━━━━━━━━━━━━\u001b[0m \u001b[32m1.2/1.2 MB\u001b[0m \u001b[31m18.6 MB/s\u001b[0m eta \u001b[36m0:00:00\u001b[0m\n",
            "\u001b[?25hRequirement already satisfied: torch>=1.8 in /usr/local/lib/python3.8/dist-packages (from monai) (1.13.0+cu116)\n",
            "Requirement already satisfied: numpy>=1.17 in /usr/local/lib/python3.8/dist-packages (from monai) (1.21.6)\n",
            "Requirement already satisfied: typing-extensions in /usr/local/lib/python3.8/dist-packages (from torch>=1.8->monai) (4.4.0)\n",
            "Installing collected packages: monai\n",
            "Successfully installed monai-1.1.0\n"
          ]
        }
      ]
    },
    {
      "cell_type": "code",
      "source": [
        "from google.colab import drive\n",
        "drive.mount('/content/drive')"
      ],
      "metadata": {
        "colab": {
          "base_uri": "https://localhost:8080/"
        },
        "id": "Uc8AFxdnIZOR",
        "outputId": "45274a0c-1931-4542-95d6-5ccff7a16909"
      },
      "execution_count": 2,
      "outputs": [
        {
          "output_type": "stream",
          "name": "stdout",
          "text": [
            "Mounted at /content/drive\n"
          ]
        }
      ]
    },
    {
      "cell_type": "code",
      "source": [
        "pip install pytorch-ignite"
      ],
      "metadata": {
        "colab": {
          "base_uri": "https://localhost:8080/"
        },
        "id": "ZKrqG6RQIfAJ",
        "outputId": "ebf05900-f0a3-4444-eb24-0d408c07800d"
      },
      "execution_count": 3,
      "outputs": [
        {
          "output_type": "stream",
          "name": "stdout",
          "text": [
            "Looking in indexes: https://pypi.org/simple, https://us-python.pkg.dev/colab-wheels/public/simple/\n",
            "Collecting pytorch-ignite\n",
            "  Downloading pytorch_ignite-0.4.10-py3-none-any.whl (264 kB)\n",
            "\u001b[2K     \u001b[90m━━━━━━━━━━━━━━━━━━━━━━━━━━━━━━━━━━━━━━━\u001b[0m \u001b[32m264.1/264.1 KB\u001b[0m \u001b[31m6.1 MB/s\u001b[0m eta \u001b[36m0:00:00\u001b[0m\n",
            "\u001b[?25hRequirement already satisfied: packaging in /usr/local/lib/python3.8/dist-packages (from pytorch-ignite) (21.3)\n",
            "Requirement already satisfied: torch<2,>=1.3 in /usr/local/lib/python3.8/dist-packages (from pytorch-ignite) (1.13.0+cu116)\n",
            "Requirement already satisfied: typing-extensions in /usr/local/lib/python3.8/dist-packages (from torch<2,>=1.3->pytorch-ignite) (4.4.0)\n",
            "Requirement already satisfied: pyparsing!=3.0.5,>=2.0.2 in /usr/local/lib/python3.8/dist-packages (from packaging->pytorch-ignite) (3.0.9)\n",
            "Installing collected packages: pytorch-ignite\n",
            "Successfully installed pytorch-ignite-0.4.10\n"
          ]
        }
      ]
    },
    {
      "cell_type": "code",
      "source": [
        "import numpy as np\n",
        "import pandas as pd\n",
        "import glob2\n",
        "# import matplotlib.pyplot as plt \n",
        "# import nibabel.processing as nib_processing\n",
        "# import nibabel.affines as nib_affines\n",
        "import matplotlib.pyplot as plt\n",
        "import torch\n",
        "import monai\n",
        "from monai.apps import download_and_extract\n",
        "from monai.config import print_config\n",
        "from monai.data import DataLoader, ImageDataset\n",
        "from monai.transforms import (\n",
        "    EnsureChannelFirst,\n",
        "    Compose,\n",
        "    RandRotate90,\n",
        "    Resize,\n",
        "    ResizeWithPadOrCrop,\n",
        "    Spacing,\n",
        "    ScaleIntensity,\n",
        "    Orientation, \n",
        "    LoadImage,\n",
        "    SpatialResample,\n",
        "    Lambda,\n",
        "    AffineGrid,\n",
        "    Resample,\n",
        "    NormalizeIntensity\n",
        ")\n",
        "\n",
        "\n",
        "pin_memory = torch.cuda.is_available() #MAIN"
      ],
      "metadata": {
        "id": "V4UE3Opz1KEL"
      },
      "execution_count": 4,
      "outputs": []
    },
    {
      "cell_type": "code",
      "source": [
        "\n",
        "cobre_t1_file = glob2.glob('/content/drive/MyDrive/schizophrenia_data/COBRE/schizconnect_COBRE_images_16224/COBRE/**/anat/**/*_T1w.nii.gz', recursive = True)\n",
        "\n",
        "\n",
        "cobre_tsv_path = '/content/drive/MyDrive/schizophrenia_data/COBRE/schizconnect_COBRE_images_16224/COBRE/participants.tsv'\n",
        "\n",
        "cobre_participants = pd.read_csv(cobre_tsv_path,sep='\\t')   "
      ],
      "metadata": {
        "id": "YWIpxrPw1I8K"
      },
      "execution_count": 5,
      "outputs": []
    },
    {
      "cell_type": "markdown",
      "source": [
        "# COBRE T1"
      ],
      "metadata": {
        "id": "1oQpseE_n6A1"
      }
    },
    {
      "cell_type": "code",
      "source": [
        "cobre_t1_participants = []\n",
        "cobre_t1_path = []\n",
        "\n",
        "for path in cobre_t1_file:\n",
        "  cobre_t1_participants.append(path.split('/')[8][4:])\n",
        "  cobre_t1_path.append(path)\n",
        "\n",
        "cobre_t1_all_df = pd.DataFrame({\n",
        "    'participant_id': cobre_t1_participants, \n",
        "    'path': cobre_t1_path\n",
        "})\n",
        "\n",
        "cobre_t1_unique_df = cobre_t1_all_df.drop_duplicates('participant_id', keep='first')\n",
        "cobre_t1_unique = cobre_t1_unique_df['path'].tolist()"
      ],
      "metadata": {
        "id": "TVZcsKEUnxp4"
      },
      "execution_count": 6,
      "outputs": []
    },
    {
      "cell_type": "code",
      "source": [
        "# cobre_participants.dx.unique()"
      ],
      "metadata": {
        "id": "DlQeR-cIjlT7"
      },
      "execution_count": null,
      "outputs": []
    },
    {
      "cell_type": "code",
      "source": [
        "# MCIC_healthy_subjects = []\n",
        "# MCIC_schiz_subjects = []\n",
        "\n",
        "# COBRE_healthy_subjects = []\n",
        "# COBRE_schiz_subjects = []\n",
        "# COBRE_bipolar_subjects = []\n",
        "# COBRE_schizoaffective_subjects = []\n",
        "\n",
        "# mcic_participants['diagnosis'] = np.where(mcic_participants['dx'] == 'No_Known_Disorder', 0, 1)\n",
        "\n",
        "\n",
        "# \"\"\"\n",
        "# COBRE\n",
        "# -------------------------\n",
        "# 0  =>  No_Known_Disorder\n",
        "# 1  =>  Schizophrenia_Strict\n",
        "# 2  =>  Bipolar_Disorder\n",
        "# 3  =>  Schizoaffective\n",
        "# \"\"\"\n",
        "\n",
        "# cobre_participants['diagnosis'] = np.where(cobre_participants['dx'] == 'No_Known_Disorder', 0, \n",
        "#                                     np.where(cobre_participants['dx'] == 'Schizophrenia_Strict', 1,\n",
        "#                                       np.where(cobre_participants['dx'] == 'Bipolar_Disorder', 2, 3)\n",
        "#                                   ))\n",
        "\n",
        "# for index, row in mcic_participants.iterrows():\n",
        "#     if (row['diagnosis'] == 1):\n",
        "#         MCIC_schiz_subjects.append(row['participant_id'])\n",
        "#     else:\n",
        "#         MCIC_healthy_subjects.append(row['participant_id'])\n",
        "\n",
        "# for index, row in cobre_participants.iterrows():\n",
        "#     if (row['diagnosis'] == 1):\n",
        "#         COBRE_schiz_subjects.append(row['participant_id'])\n",
        "#     elif (row['diagnosis'] == 2):\n",
        "#         COBRE_bipolar_subjects.append(row['participant_id'])\n",
        "#     elif (row['diagnosis'] == 3):\n",
        "#         COBRE_schizoaffective_subjects.append(row['participant_id'])\n",
        "#     else:\n",
        "#         COBRE_healthy_subjects.append(row['participant_id'])\n",
        "\n",
        "# MCIC_t1_healthy = []\n",
        "# MCIC_t1_schiz = []\n",
        "# MCIC_t2_healthy = []\n",
        "# MCIC_t2_schiz = []\n",
        "\n",
        "# COBRE_t1_healthy = []\n",
        "# COBRE_t1_schiz = []\n",
        "# COBRE_t2_healthy = []\n",
        "# COBRE_t2_schiz = []\n",
        "# COBRE_healthy_labels = []\n",
        "# COBRE_schiz_labels = []\n",
        "\n",
        "# for M in mcic_t1_file:\n",
        "#   if (any(ele in M for ele in MCIC_healthy_subjects)):\n",
        "#     MCIC_t1_healthy.append(M)\n",
        "#   else:  \n",
        "#     MCIC_t1_schiz.append(M)\n",
        "              \n",
        "# for M in mcic_t2_file:\n",
        "#   if (any(ele in M for ele in MCIC_healthy_subjects)):\n",
        "#     MCIC_t2_healthy.append(M)\n",
        "#   else:  \n",
        "#     MCIC_t2_schiz.append(M)\n",
        "      \n",
        "# for C in cobre_t1_file:\n",
        "#   if (any(ele in C for ele in COBRE_healthy_subjects)):\n",
        "#     COBRE_t1_healthy.append(C)\n",
        "#   else:  \n",
        "#     COBRE_t1_schiz.append(C)\n",
        "            \n",
        "# for C in cobre_t2_file:\n",
        "#   if (any(ele in C for ele in COBRE_healthy_subjects)):\n",
        "#     COBRE_t2_healthy.append(C)\n",
        "#   else:  \n",
        "#     COBRE_t2_schiz.append(C)"
      ],
      "metadata": {
        "id": "tGeGCbxq1Wgt"
      },
      "execution_count": null,
      "outputs": []
    },
    {
      "cell_type": "code",
      "source": [
        "# cobre_participants.diagnosis.unique()"
      ],
      "metadata": {
        "id": "eJCJi9qejyRI"
      },
      "execution_count": null,
      "outputs": []
    },
    {
      "cell_type": "code",
      "source": [
        "# print('Cobre Healthy:\\t\\t\\t', len(COBRE_healthy_subjects))\n",
        "# print('Cobre Schiz:\\t\\t\\t', len(COBRE_schiz_subjects))\n",
        "# print('Cobre Bipolar:\\t\\t\\t', len(COBRE_bipolar_subjects))\n",
        "# print('Cobre Schizoaffective:\\t\\t', len(COBRE_schizoaffective_subjects))"
      ],
      "metadata": {
        "id": "QJSajxy6k2ER"
      },
      "execution_count": null,
      "outputs": []
    },
    {
      "cell_type": "code",
      "source": [
        "#testing"
      ],
      "metadata": {
        "id": "30jwB8ZSlfrN"
      },
      "execution_count": null,
      "outputs": []
    },
    {
      "cell_type": "markdown",
      "source": [
        "#testing\n"
      ],
      "metadata": {
        "id": "5y8uTh2ibAzb"
      }
    },
    {
      "cell_type": "code",
      "source": [
        "import numpy as np\n",
        "import pandas as pd\n",
        "import random\n",
        "import glob2\n",
        "# import matplotlib.pyplot as plt \n",
        "# import nibabel.processing as nib_processing\n",
        "# import nibabel.affines as nib_affines\n",
        "import matplotlib.pyplot as plt\n",
        "import torch\n",
        "import monai\n",
        "from monai.apps import download_and_extract\n",
        "from monai.config import print_config\n",
        "from monai.data import DataLoader, ImageDataset\n",
        "from monai.transforms import (\n",
        "    EnsureChannelFirst,\n",
        "    Compose,\n",
        "    RandRotate90,\n",
        "    Resize,\n",
        "    ResizeWithPadOrCrop,\n",
        "    Spacing,\n",
        "    ScaleIntensity,\n",
        "    Orientation, \n",
        "    LoadImage,\n",
        "    SpatialResample,\n",
        "    Lambda,\n",
        "    AffineGrid,\n",
        "    Resample,\n",
        "    EnsureType,\n",
        "    NormalizeIntensity\n",
        ")"
      ],
      "metadata": {
        "id": "yiCQLq34a8-L"
      },
      "execution_count": 7,
      "outputs": []
    },
    {
      "cell_type": "code",
      "source": [
        "\n",
        "COBRE_healthy_subjects = []\n",
        "COBRE_schiz_subjects = []\n",
        "\n",
        "diagnosis = []\n",
        "for index, row in cobre_participants.iterrows():\n",
        "  if (row['dx'] == 'No_Known_Disorder'):\n",
        "    diagnosis.append(0)\n",
        "  elif (row['dx'] == 'Bipolar_Disorder'):\n",
        "    diagnosis.append(2)\n",
        "  else:\n",
        "    diagnosis.append(1)\n",
        "\n",
        "cobre_participants = pd.concat([cobre_participants, pd.DataFrame(diagnosis)], axis=1)\n",
        "cobre_participants.columns = ['study', 'participant_id','age', 'sex','dx','diagnosis']"
      ],
      "metadata": {
        "id": "NJclZhpXvA8R"
      },
      "execution_count": 9,
      "outputs": []
    },
    {
      "cell_type": "code",
      "source": [
        "for index, row in cobre_participants.iterrows():\n",
        "    if (row['diagnosis'] == 1):\n",
        "        COBRE_schiz_subjects.append(row['participant_id'])\n",
        "    elif (row['diagnosis'] == 0):\n",
        "        COBRE_healthy_subjects.append(row['participant_id'])"
      ],
      "metadata": {
        "id": "TTErxRsKumkX"
      },
      "execution_count": 10,
      "outputs": []
    },
    {
      "cell_type": "code",
      "source": [
        "COBRE_healthy = []\n",
        "COBRE_schiz = []\n",
        "COBRE_healthy_labels = []\n",
        "COBRE_schiz_labels = []\n",
        "\n",
        "for C in cobre_t1_unique:\n",
        "    if (any(ele in C for ele in COBRE_healthy_subjects)):\n",
        "        COBRE_healthy.append(C)\n",
        "        COBRE_healthy_labels.append(0)\n",
        "    elif (any(ele in C for ele in COBRE_schiz_subjects)):\n",
        "        COBRE_schiz.append(C)\n",
        "        COBRE_schiz_labels.append(1)"
      ],
      "metadata": {
        "id": "pkuhzcs7vLSc"
      },
      "execution_count": 11,
      "outputs": []
    },
    {
      "cell_type": "code",
      "source": [
        "import random"
      ],
      "metadata": {
        "id": "BW8l1dZWv1Cb"
      },
      "execution_count": 12,
      "outputs": []
    },
    {
      "cell_type": "code",
      "source": [
        "def seed_worker(worker_id):\n",
        "    worker_seed = torch.initial_seed() % 2**32\n",
        "    np.random.seed(worker_seed)\n",
        "    random.seed(worker_seed)\n",
        "\n",
        "g = torch.Generator()\n",
        "g.manual_seed(0)"
      ],
      "metadata": {
        "colab": {
          "base_uri": "https://localhost:8080/"
        },
        "id": "iR327_w-wBPs",
        "outputId": "a521ae09-4632-42ef-a72c-021771c83705"
      },
      "execution_count": 13,
      "outputs": [
        {
          "output_type": "execute_result",
          "data": {
            "text/plain": [
              "<torch._C.Generator at 0x7f74a419de90>"
            ]
          },
          "metadata": {},
          "execution_count": 13
        }
      ]
    },
    {
      "cell_type": "code",
      "source": [
        "transforms = Compose([NormalizeIntensity(), EnsureChannelFirst(), Orientation(axcodes='RAS'), Spacing(pixdim=(2,2,2)), ResizeWithPadOrCrop(spatial_size=(99,99,99))])\n"
      ],
      "metadata": {
        "id": "g5mepSpiwGXm"
      },
      "execution_count": 14,
      "outputs": []
    },
    {
      "cell_type": "code",
      "source": [
        "test_healthy_ds = ImageDataset(image_files= COBRE_healthy, labels=COBRE_healthy_labels, image_only=True, transform=transforms)\n",
        "test_schiz_ds = ImageDataset(image_files=COBRE_schiz , labels=COBRE_schiz_labels, image_only=True, transform=transforms)\n",
        "test_ds = test_healthy_ds + test_schiz_ds "
      ],
      "metadata": {
        "id": "74OtQv2iwPH9"
      },
      "execution_count": 15,
      "outputs": []
    },
    {
      "cell_type": "code",
      "source": [
        "test_loader = DataLoader(test_ds, pin_memory=pin_memory)"
      ],
      "metadata": {
        "id": "5VrGvCVrxNCN"
      },
      "execution_count": 16,
      "outputs": []
    },
    {
      "cell_type": "code",
      "source": [
        "import torch\n",
        "import torch.nn as nn\n",
        "import torch.nn.functional as F\n",
        "import torch\n",
        "random_seed = 1 # or any of your favorite number \n",
        "torch.manual_seed(random_seed)\n",
        "torch.cuda.manual_seed(random_seed)\n",
        "torch.backends.cudnn.deterministic = True\n",
        "torch.backends.cudnn.benchmark = False\n",
        "import numpy as np\n",
        "np.random.seed(random_seed)\n",
        "from sklearn.metrics import confusion_matrix, precision_score, recall_score, f1_score, roc_auc_score, accuracy_score, balanced_accuracy_score\n",
        "from torch.nn.modules.loss import NLLLoss\n",
        "import numpy as np\n",
        "import pandas as pd\n",
        "import matplotlib.pyplot as plt\n",
        "from matplotlib.backends.backend_pdf import PdfPages\n",
        "import json\n",
        "import sys"
      ],
      "metadata": {
        "id": "NKzpW2YqyBTD"
      },
      "execution_count": 17,
      "outputs": []
    },
    {
      "cell_type": "code",
      "source": [
        "model = nn.Sequential(\n",
        "        nn.Conv3d(1, 32, [3,3,3], stride=1, padding=0, dilation=1, groups=1, bias=True, padding_mode='zeros', device=None, dtype=None),\n",
        "        nn.ReLU(inplace=False),\n",
        "        nn.Conv3d(32, 32, [3,3,3], stride=1, padding=0, dilation=1, groups=1, bias=True, padding_mode='zeros', device=None, dtype=None),\n",
        "        torch.nn.ReLU(inplace=False),\n",
        "        nn.MaxPool3d([3,3,3], stride=None, padding=0, dilation=1, return_indices=False, ceil_mode=False),\n",
        "        nn.Dropout(p=0.3, inplace=False),\n",
        "        nn.Conv3d(32, 64, [3,3,3], stride=1, padding=0, dilation=1, groups=1, bias=True, padding_mode='zeros', device=None, dtype=None),\n",
        "        nn.ReLU(inplace=False),\n",
        "        nn.Conv3d(64, 64, [3,3,3], stride=1, padding=0, dilation=1, groups=1, bias=True, padding_mode='zeros', device=None, dtype=None),\n",
        "        torch.nn.ReLU(inplace=False),\n",
        "        nn.MaxPool3d([3,3,3], stride=None, padding=0, dilation=1, return_indices=False, ceil_mode=False),\n",
        "        nn.Dropout(p=0.3, inplace=False),\n",
        "        nn.Flatten(start_dim=1, end_dim=- 1),\n",
        "        nn.Linear(46656, 512, bias=True, device=None, dtype=None),\n",
        "        nn.Dropout(p=0.3, inplace=False),\n",
        "        nn.Linear(512, 2, bias=True, device=None, dtype=None),\n",
        "        nn.Softmax(dim=1)\n",
        "    )\n",
        "\n",
        "if torch.cuda.is_available():\n",
        "    model.cuda()"
      ],
      "metadata": {
        "id": "PZptSpm3yEL4"
      },
      "execution_count": 18,
      "outputs": []
    },
    {
      "cell_type": "code",
      "source": [
        "state_dict_path='/content/best_metric_model_classification3d_array.pth'"
      ],
      "metadata": {
        "id": "jyBrD00FyWYW"
      },
      "execution_count": 19,
      "outputs": []
    },
    {
      "cell_type": "code",
      "source": [
        "model.load_state_dict(torch.load(state_dict_path))\n"
      ],
      "metadata": {
        "colab": {
          "base_uri": "https://localhost:8080/"
        },
        "id": "pEM9E9SPyQx-",
        "outputId": "7beefb25-77e6-4d1c-d680-55599d3533ce"
      },
      "execution_count": 20,
      "outputs": [
        {
          "output_type": "execute_result",
          "data": {
            "text/plain": [
              "<All keys matched successfully>"
            ]
          },
          "metadata": {},
          "execution_count": 20
        }
      ]
    },
    {
      "cell_type": "code",
      "source": [
        "test_y_pred = []\n",
        "test_y_true = []"
      ],
      "metadata": {
        "id": "bVK-8cqQ6ee5"
      },
      "execution_count": 21,
      "outputs": []
    },
    {
      "cell_type": "code",
      "source": [
        "device = torch.device(\"cuda\" ) if torch.cuda.is_available() else \"cpu\"\n"
      ],
      "metadata": {
        "id": "7TqlqN2F7TRH"
      },
      "execution_count": 22,
      "outputs": []
    },
    {
      "cell_type": "code",
      "source": [
        "model.eval()\n",
        "with torch.no_grad():\n",
        "  num_correct = 0.0\n",
        "  metric_count = 0\n",
        "  val_step = 0\n",
        "  for test_data in test_loader:\n",
        "    test_images, test_labels = test_data[0].to(device), test_data[1].to(device)\n",
        "    test_outputs = model(test_images)\n",
        "\n",
        "    test_output = (torch.max(torch.exp(test_outputs), 1)[1]).data.cpu().numpy()\n",
        "    test_y_pred.extend(test_output) # Save Prediction\n",
        "\n",
        "\n",
        "    test_labels = test_labels.data.cpu().numpy()\n",
        "    test_y_true.extend(test_labels) # Save Truth\n",
        "    \n",
        "tn, fp, fn, tp = confusion_matrix(test_y_true, test_y_pred).ravel()\n",
        "\n",
        "test_acc = accuracy_score(test_y_true, test_y_pred)\n",
        "\n",
        "test_bal_acc= balanced_accuracy_score(test_y_true, test_y_pred)\n",
        "\n",
        "test_precision = precision_score(test_y_true, test_y_pred)\n",
        "\n",
        "test_recall= recall_score(test_y_true, test_y_pred)\n",
        "\n",
        "test_specificity = tn / (tn+fp)\n",
        "\n",
        "test_f1_score = (test_precision * test_recall * 2 )/ (test_precision + test_recall)\n",
        "\n",
        "if test_f1_score!=test_f1_score:\n",
        "  test_f1_score = 0\n",
        "else: \n",
        "  test_f1_score =test_f1_score\n",
        "\n",
        "print(f\"Testing, confusion matrix:{(tn, fp, fn, tp)} accuracy: {test_acc:.4f}, balanced accuracy:{test_bal_acc:.4f} precision: { test_precision:.4f}, recall: {test_recall:.4f}, F1: {test_f1_score:.4f}, specificity: {test_specificity:.4f}, auc score: {roc_auc_score(test_y_true, test_y_pred)}\")\n"
      ],
      "metadata": {
        "colab": {
          "base_uri": "https://localhost:8080/"
        },
        "id": "XT_EBK-65IV8",
        "outputId": "eb9184a5-0237-4866-b67e-41150d2f3fc0"
      },
      "execution_count": 23,
      "outputs": [
        {
          "output_type": "stream",
          "name": "stdout",
          "text": [
            "Testing, confusion matrix:(59, 35, 47, 43) accuracy: 0.5543, balanced accuracy:0.5527 precision: 0.5513, recall: 0.4778, F1: 0.5119, specificity: 0.6277, auc score: 0.5527186761229315\n"
          ]
        }
      ]
    }
  ]
}