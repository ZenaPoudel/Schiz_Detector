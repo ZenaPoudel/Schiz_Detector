{
  "nbformat": 4,
  "nbformat_minor": 0,
  "metadata": {
    "colab": {
      "provenance": [],
      "include_colab_link": true
    },
    "kernelspec": {
      "name": "python3",
      "display_name": "Python 3"
    },
    "language_info": {
      "name": "python"
    },
    "accelerator": "GPU",
    "gpuClass": "standard"
  },
  "cells": [
    {
      "cell_type": "markdown",
      "metadata": {
        "id": "view-in-github",
        "colab_type": "text"
      },
      "source": [
        "<a href=\"https://colab.research.google.com/github/ZenaPoudel/Schiz_Detector/blob/main/mcic_t1_batch16_LR0_001.ipynb\" target=\"_parent\"><img src=\"https://colab.research.google.com/assets/colab-badge.svg\" alt=\"Open In Colab\"/></a>"
      ]
    },
    {
      "cell_type": "code",
      "execution_count": 1,
      "metadata": {
        "colab": {
          "base_uri": "https://localhost:8080/"
        },
        "id": "kWXAfYP3Ewa9",
        "outputId": "6123bf8a-5469-48bb-976c-133937ff2e9b"
      },
      "outputs": [
        {
          "output_type": "stream",
          "name": "stdout",
          "text": [
            "Cloning into 'Schiz_Detector'...\n",
            "remote: Enumerating objects: 585, done.\u001b[K\n",
            "remote: Counting objects: 100% (59/59), done.\u001b[K\n",
            "remote: Compressing objects: 100% (58/58), done.\u001b[K\n",
            "remote: Total 585 (delta 38), reused 1 (delta 1), pack-reused 526\u001b[K\n",
            "Receiving objects: 100% (585/585), 475.23 KiB | 22.63 MiB/s, done.\n",
            "Resolving deltas: 100% (399/399), done.\n"
          ]
        }
      ],
      "source": [
        "!git clone https://github.com/ZenaPoudel/Schiz_Detector"
      ]
    },
    {
      "cell_type": "code",
      "source": [
        "pip install monai"
      ],
      "metadata": {
        "colab": {
          "base_uri": "https://localhost:8080/"
        },
        "id": "O58eQzh15QsG",
        "outputId": "a2de0b09-2c86-45d0-9c4b-343d95743e33"
      },
      "execution_count": 2,
      "outputs": [
        {
          "output_type": "stream",
          "name": "stdout",
          "text": [
            "Looking in indexes: https://pypi.org/simple, https://us-python.pkg.dev/colab-wheels/public/simple/\n",
            "Collecting monai\n",
            "  Downloading monai-1.1.0-202212191849-py3-none-any.whl (1.2 MB)\n",
            "\u001b[2K     \u001b[90m━━━━━━━━━━━━━━━━━━━━━━━━━━━━━━━━━━━━━━━━\u001b[0m \u001b[32m1.2/1.2 MB\u001b[0m \u001b[31m23.4 MB/s\u001b[0m eta \u001b[36m0:00:00\u001b[0m\n",
            "\u001b[?25hRequirement already satisfied: torch>=1.8 in /usr/local/lib/python3.8/dist-packages (from monai) (1.13.0+cu116)\n",
            "Requirement already satisfied: numpy>=1.17 in /usr/local/lib/python3.8/dist-packages (from monai) (1.21.6)\n",
            "Requirement already satisfied: typing-extensions in /usr/local/lib/python3.8/dist-packages (from torch>=1.8->monai) (4.4.0)\n",
            "Installing collected packages: monai\n",
            "Successfully installed monai-1.1.0\n"
          ]
        }
      ]
    },
    {
      "cell_type": "code",
      "source": [
        "from google.colab import drive\n",
        "drive.mount('/content/drive')"
      ],
      "metadata": {
        "colab": {
          "base_uri": "https://localhost:8080/"
        },
        "id": "YO7nMIQG47nK",
        "outputId": "8aa10d00-326c-4314-a07d-949f78088421"
      },
      "execution_count": 3,
      "outputs": [
        {
          "output_type": "stream",
          "name": "stdout",
          "text": [
            "Mounted at /content/drive\n"
          ]
        }
      ]
    },
    {
      "cell_type": "code",
      "source": [
        "pip install nibabel"
      ],
      "metadata": {
        "colab": {
          "base_uri": "https://localhost:8080/"
        },
        "id": "oQ7a5hGcFvtR",
        "outputId": "074287e0-e97d-4a6d-a4b5-a3e7504b5300"
      },
      "execution_count": 4,
      "outputs": [
        {
          "output_type": "stream",
          "name": "stdout",
          "text": [
            "Looking in indexes: https://pypi.org/simple, https://us-python.pkg.dev/colab-wheels/public/simple/\n",
            "Requirement already satisfied: nibabel in /usr/local/lib/python3.8/dist-packages (3.0.2)\n",
            "Requirement already satisfied: numpy>=1.12 in /usr/local/lib/python3.8/dist-packages (from nibabel) (1.21.6)\n"
          ]
        }
      ]
    },
    {
      "cell_type": "code",
      "source": [
        "pip install pytorch-ignite"
      ],
      "metadata": {
        "colab": {
          "base_uri": "https://localhost:8080/"
        },
        "id": "MpUWv-KDjNxp",
        "outputId": "41f4894e-408d-4ff8-91bf-8cc069f6dfdc"
      },
      "execution_count": 5,
      "outputs": [
        {
          "output_type": "stream",
          "name": "stdout",
          "text": [
            "Looking in indexes: https://pypi.org/simple, https://us-python.pkg.dev/colab-wheels/public/simple/\n",
            "Collecting pytorch-ignite\n",
            "  Downloading pytorch_ignite-0.4.10-py3-none-any.whl (264 kB)\n",
            "\u001b[2K     \u001b[90m━━━━━━━━━━━━━━━━━━━━━━━━━━━━━━━━━━━━━━━\u001b[0m \u001b[32m264.1/264.1 KB\u001b[0m \u001b[31m7.7 MB/s\u001b[0m eta \u001b[36m0:00:00\u001b[0m\n",
            "\u001b[?25hRequirement already satisfied: packaging in /usr/local/lib/python3.8/dist-packages (from pytorch-ignite) (21.3)\n",
            "Requirement already satisfied: torch<2,>=1.3 in /usr/local/lib/python3.8/dist-packages (from pytorch-ignite) (1.13.0+cu116)\n",
            "Requirement already satisfied: typing-extensions in /usr/local/lib/python3.8/dist-packages (from torch<2,>=1.3->pytorch-ignite) (4.4.0)\n",
            "Requirement already satisfied: pyparsing!=3.0.5,>=2.0.2 in /usr/local/lib/python3.8/dist-packages (from packaging->pytorch-ignite) (3.0.9)\n",
            "Installing collected packages: pytorch-ignite\n",
            "Successfully installed pytorch-ignite-0.4.10\n"
          ]
        }
      ]
    },
    {
      "cell_type": "code",
      "source": [
        "!python /content/Schiz_Detector/trainer/train.py --epoch=30 --batch_size=16 --learning_rate=0.001"
      ],
      "metadata": {
        "id": "SnzTcDdeJ5Cm",
        "colab": {
          "base_uri": "https://localhost:8080/"
        },
        "outputId": "f7ea7646-bf82-4e8c-cfda-1dbe28b6d5e1"
      },
      "execution_count": 6,
      "outputs": [
        {
          "output_type": "stream",
          "name": "stdout",
          "text": [
            "----------\n",
            "epoch 1/30\n",
            "epoch 1, training, average loss: 1.0206, accuracy: 0.4874, balanced_Acc:0.4799, precision: 0.5210, recall: 0.5794, F1: 0.5487, specificity: 0.3804, auc score: 0.4799370174725721\n",
            "/usr/local/lib/python3.8/dist-packages/sklearn/metrics/_classification.py:1318: UndefinedMetricWarning: Precision is ill-defined and being set to 0.0 due to no predicted samples. Use `zero_division` parameter to control this behavior.\n",
            "  _warn_prf(average, modifier, msg_start, len(result))\n",
            "/content/Schiz_Detector/trainer/train.py:183: RuntimeWarning: invalid value encountered in double_scalars\n",
            "  val_f1_score = (val_precision * val_recall * 2 )/ (val_precision + val_recall)\n",
            "saved new validation best metric model\n",
            "epoch 1, validation, confusion matrix:(80, 0, 92, 0) accuracy: 0.4651, balanced accuracy:0.5000 precision: 0.0000, recall: 0.0000, F1: 0.0000, specificity: 1.0000, auc score: 0.5\n",
            "----------\n",
            "epoch 2/30\n",
            "epoch 2, training, average loss: 0.6985, accuracy: 0.5050, balanced_Acc:0.4910, precision: 0.5311, recall: 0.6776, F1: 0.5955, specificity: 0.3043, auc score: 0.4909589597724502\n",
            "saved new validation best metric model\n",
            "epoch 2, validation, confusion matrix:(0, 80, 0, 92) accuracy: 0.5349, balanced accuracy:0.5000 precision: 0.5349, recall: 1.0000, F1: 0.6970, specificity: 0.0000, auc score: 0.5\n",
            "----------\n",
            "epoch 3/30\n",
            "epoch 3, training, average loss: 0.6832, accuracy: 0.5553, balanced_Acc:0.5388, precision: 0.5645, recall: 0.7570, F1: 0.6467, specificity: 0.3207, auc score: 0.538830759853718\n",
            "/content/Schiz_Detector/trainer/train.py:183: RuntimeWarning: invalid value encountered in double_scalars\n",
            "  val_f1_score = (val_precision * val_recall * 2 )/ (val_precision + val_recall)\n",
            "epoch 3, validation, confusion matrix:(77, 3, 92, 0) accuracy: 0.4477, balanced accuracy:0.4813 precision: 0.0000, recall: 0.0000, F1: 0.0000, specificity: 0.9625, auc score: 0.48125\n",
            "----------\n",
            "epoch 4/30\n",
            "epoch 4, training, average loss: 0.6796, accuracy: 0.5678, balanced_Acc:0.5627, precision: 0.5921, recall: 0.6308, F1: 0.6109, specificity: 0.4946, auc score: 0.5627031694433158\n",
            "epoch 4, validation, confusion matrix:(56, 24, 41, 51) accuracy: 0.6221, balanced accuracy:0.6272 precision: 0.6800, recall: 0.5543, F1: 0.6108, specificity: 0.7000, auc score: 0.6271739130434782\n",
            "----------\n",
            "epoch 5/30\n",
            "epoch 5, training, average loss: 0.6666, accuracy: 0.5829, balanced_Acc:0.5790, precision: 0.6081, recall: 0.6308, F1: 0.6193, specificity: 0.5272, auc score: 0.5790075172694027\n",
            "saved new validation best metric model\n",
            "epoch 5, validation, confusion matrix:(1, 79, 0, 92) accuracy: 0.5407, balanced accuracy:0.5062 precision: 0.5380, recall: 1.0000, F1: 0.6996, specificity: 0.0125, auc score: 0.50625\n",
            "----------\n",
            "epoch 6/30\n",
            "epoch 6, training, average loss: 0.6737, accuracy: 0.5678, balanced_Acc:0.5578, precision: 0.5827, recall: 0.6916, F1: 0.6325, specificity: 0.4239, auc score: 0.5577509142624948\n",
            "epoch 6, validation, confusion matrix:(36, 44, 19, 73) accuracy: 0.6337, balanced accuracy:0.6217 precision: 0.6239, recall: 0.7935, F1: 0.6986, specificity: 0.4500, auc score: 0.6217391304347826\n",
            "----------\n",
            "epoch 7/30\n",
            "epoch 7, training, average loss: 0.6695, accuracy: 0.5905, balanced_Acc:0.5959, precision: 0.6474, recall: 0.5234, F1: 0.5788, specificity: 0.6685, auc score: 0.5959213734254368\n",
            "epoch 7, validation, confusion matrix:(62, 18, 73, 19) accuracy: 0.4709, balanced accuracy:0.4908 precision: 0.5135, recall: 0.2065, F1: 0.2946, specificity: 0.7750, auc score: 0.4907608695652174\n",
            "----------\n",
            "epoch 8/30\n",
            "epoch 8, training, average loss: 0.6446, accuracy: 0.6231, balanced_Acc:0.6069, precision: 0.6111, recall: 0.8224, F1: 0.7012, specificity: 0.3913, auc score: 0.6068671271840715\n",
            "epoch 8, validation, confusion matrix:(60, 20, 54, 38) accuracy: 0.5698, balanced accuracy:0.5815 precision: 0.6552, recall: 0.4130, F1: 0.5067, specificity: 0.7500, auc score: 0.5815217391304348\n",
            "----------\n",
            "epoch 9/30\n",
            "epoch 9, training, average loss: 0.6413, accuracy: 0.6131, balanced_Acc:0.6067, precision: 0.6271, recall: 0.6916, F1: 0.6578, specificity: 0.5217, auc score: 0.6066639577407558\n",
            "epoch 9, validation, confusion matrix:(60, 20, 46, 46) accuracy: 0.6163, balanced accuracy:0.6250 precision: 0.6970, recall: 0.5000, F1: 0.5823, specificity: 0.7500, auc score: 0.625\n",
            "----------\n",
            "epoch 10/30\n",
            "epoch 10, training, average loss: 0.6253, accuracy: 0.6407, balanced_Acc:0.6373, precision: 0.6606, recall: 0.6822, F1: 0.6713, specificity: 0.5924, auc score: 0.6373171475010159\n",
            "saved new validation best metric model\n",
            "epoch 10, validation, confusion matrix:(44, 36, 19, 73) accuracy: 0.6802, balanced accuracy:0.6717 precision: 0.6697, recall: 0.7935, F1: 0.7264, specificity: 0.5500, auc score: 0.6717391304347826\n",
            "----------\n",
            "epoch 11/30\n",
            "epoch 11, training, average loss: 0.6344, accuracy: 0.6307, balanced_Acc:0.6329, precision: 0.6754, recall: 0.6028, F1: 0.6370, specificity: 0.6630, auc score: 0.6329236082893133\n",
            "/content/Schiz_Detector/trainer/train.py:183: RuntimeWarning: invalid value encountered in double_scalars\n",
            "  val_f1_score = (val_precision * val_recall * 2 )/ (val_precision + val_recall)\n",
            "epoch 11, validation, confusion matrix:(73, 7, 92, 0) accuracy: 0.4244, balanced accuracy:0.4562 precision: 0.0000, recall: 0.0000, F1: 0.0000, specificity: 0.9125, auc score: 0.45625\n",
            "----------\n",
            "epoch 12/30\n",
            "epoch 12, training, average loss: 0.6343, accuracy: 0.6533, balanced_Acc:0.6509, precision: 0.6759, recall: 0.6822, F1: 0.6791, specificity: 0.6196, auc score: 0.6509041040227549\n",
            "epoch 12, validation, confusion matrix:(60, 20, 38, 54) accuracy: 0.6628, balanced accuracy:0.6685 precision: 0.7297, recall: 0.5870, F1: 0.6506, specificity: 0.7500, auc score: 0.6684782608695652\n",
            "----------\n",
            "epoch 13/30\n",
            "epoch 13, training, average loss: 0.6523, accuracy: 0.5779, balanced_Acc:0.5835, precision: 0.6337, recall: 0.5093, F1: 0.5648, specificity: 0.6576, auc score: 0.5834772450223487\n",
            "epoch 13, validation, confusion matrix:(63, 17, 46, 46) accuracy: 0.6337, balanced accuracy:0.6438 precision: 0.7302, recall: 0.5000, F1: 0.5935, specificity: 0.7875, auc score: 0.6437499999999999\n",
            "----------\n",
            "epoch 14/30\n",
            "epoch 14, training, average loss: 0.6071, accuracy: 0.6809, balanced_Acc:0.6804, precision: 0.7101, recall: 0.6869, F1: 0.6983, specificity: 0.6739, auc score: 0.680414465664364\n",
            "epoch 14, validation, confusion matrix:(42, 38, 27, 65) accuracy: 0.6221, balanced accuracy:0.6158 precision: 0.6311, recall: 0.7065, F1: 0.6667, specificity: 0.5250, auc score: 0.6157608695652175\n",
            "----------\n",
            "epoch 15/30\n",
            "epoch 15, training, average loss: 0.6152, accuracy: 0.6683, balanced_Acc:0.6744, precision: 0.7384, recall: 0.5935, F1: 0.6580, specificity: 0.7554, auc score: 0.6744463632669647\n",
            "epoch 15, validation, confusion matrix:(66, 14, 58, 34) accuracy: 0.5814, balanced accuracy:0.5973 precision: 0.7083, recall: 0.3696, F1: 0.4857, specificity: 0.8250, auc score: 0.597282608695652\n",
            "----------\n",
            "epoch 16/30\n",
            "epoch 16, training, average loss: 0.6103, accuracy: 0.6482, balanced_Acc:0.6413, precision: 0.6542, recall: 0.7336, F1: 0.6916, specificity: 0.5489, auc score: 0.6412789516456725\n",
            "epoch 16, validation, confusion matrix:(65, 15, 41, 51) accuracy: 0.6744, balanced accuracy:0.6834 precision: 0.7727, recall: 0.5543, F1: 0.6456, specificity: 0.8125, auc score: 0.6834239130434783\n",
            "----------\n",
            "epoch 17/30\n",
            "epoch 17, training, average loss: 0.5648, accuracy: 0.7060, balanced_Acc:0.7034, precision: 0.7215, recall: 0.7383, F1: 0.7298, specificity: 0.6685, auc score: 0.7033980089394555\n",
            "epoch 17, validation, confusion matrix:(65, 15, 44, 48) accuracy: 0.6570, balanced accuracy:0.6671 precision: 0.7619, recall: 0.5217, F1: 0.6194, specificity: 0.8125, auc score: 0.6671195652173914\n",
            "----------\n",
            "epoch 18/30\n",
            "epoch 18, training, average loss: 0.5174, accuracy: 0.7186, balanced_Acc:0.7208, precision: 0.7629, recall: 0.6916, F1: 0.7255, specificity: 0.7500, auc score: 0.7207943925233644\n",
            "epoch 18, validation, confusion matrix:(58, 22, 40, 52) accuracy: 0.6395, balanced accuracy:0.6451 precision: 0.7027, recall: 0.5652, F1: 0.6265, specificity: 0.7250, auc score: 0.6451086956521739\n",
            "----------\n",
            "epoch 19/30\n",
            "epoch 19, training, average loss: 0.5000, accuracy: 0.7387, balanced_Acc:0.7395, precision: 0.7723, recall: 0.7290, F1: 0.7500, specificity: 0.7500, auc score: 0.7394859813084111\n",
            "epoch 19, validation, confusion matrix:(54, 26, 36, 56) accuracy: 0.6395, balanced accuracy:0.6418 precision: 0.6829, recall: 0.6087, F1: 0.6437, specificity: 0.6750, auc score: 0.6418478260869566\n",
            "----------\n",
            "epoch 20/30\n",
            "epoch 20, training, average loss: 0.4897, accuracy: 0.7312, balanced_Acc:0.7287, precision: 0.7443, recall: 0.7617, F1: 0.7529, specificity: 0.6957, auc score: 0.7286672084518488\n",
            "epoch 20, validation, confusion matrix:(58, 22, 51, 41) accuracy: 0.5756, balanced accuracy:0.5853 precision: 0.6508, recall: 0.4457, F1: 0.5290, specificity: 0.7250, auc score: 0.5853260869565217\n",
            "----------\n",
            "epoch 21/30\n",
            "epoch 21, training, average loss: 0.5163, accuracy: 0.7362, balanced_Acc:0.7425, precision: 0.8150, recall: 0.6589, F1: 0.7287, specificity: 0.8261, auc score: 0.7424827305973182\n",
            "epoch 21, validation, confusion matrix:(36, 44, 20, 72) accuracy: 0.6279, balanced accuracy:0.6163 precision: 0.6207, recall: 0.7826, F1: 0.6923, specificity: 0.4500, auc score: 0.616304347826087\n",
            "----------\n",
            "epoch 22/30\n",
            "epoch 22, training, average loss: 0.4508, accuracy: 0.7638, balanced_Acc:0.7640, precision: 0.7913, recall: 0.7617, F1: 0.7762, specificity: 0.7663, auc score: 0.7639932954083706\n",
            "epoch 22, validation, confusion matrix:(51, 29, 36, 56) accuracy: 0.6221, balanced accuracy:0.6231 precision: 0.6588, recall: 0.6087, F1: 0.6328, specificity: 0.6375, auc score: 0.6230978260869564\n",
            "----------\n",
            "epoch 23/30\n",
            "epoch 23, training, average loss: 0.4544, accuracy: 0.7789, balanced_Acc:0.7803, precision: 0.8150, recall: 0.7617, F1: 0.7874, specificity: 0.7989, auc score: 0.7802976432344576\n",
            "epoch 23, validation, confusion matrix:(51, 29, 34, 58) accuracy: 0.6337, balanced accuracy:0.6340 precision: 0.6667, recall: 0.6304, F1: 0.6480, specificity: 0.6375, auc score: 0.6339673913043478\n",
            "----------\n",
            "epoch 24/30\n",
            "epoch 24, training, average loss: 0.4373, accuracy: 0.7940, balanced_Acc:0.7913, precision: 0.7973, recall: 0.8271, F1: 0.8119, specificity: 0.7554, auc score: 0.7912687931735067\n",
            "epoch 24, validation, confusion matrix:(59, 21, 51, 41) accuracy: 0.5814, balanced accuracy:0.5916 precision: 0.6613, recall: 0.4457, F1: 0.5325, specificity: 0.7375, auc score: 0.5915760869565218\n",
            "----------\n",
            "epoch 25/30\n",
            "epoch 25, training, average loss: 0.4119, accuracy: 0.8090, balanced_Acc:0.8087, precision: 0.8286, recall: 0.8131, F1: 0.8208, specificity: 0.8043, auc score: 0.8087159691182446\n",
            "epoch 25, validation, confusion matrix:(41, 39, 32, 60) accuracy: 0.5872, balanced accuracy:0.5823 precision: 0.6061, recall: 0.6522, F1: 0.6283, specificity: 0.5125, auc score: 0.5823369565217391\n",
            "----------\n",
            "epoch 26/30\n",
            "epoch 26, training, average loss: 0.4454, accuracy: 0.7864, balanced_Acc:0.7850, precision: 0.8000, recall: 0.8037, F1: 0.8019, specificity: 0.7663, auc score: 0.7850213327915481\n",
            "epoch 26, validation, confusion matrix:(49, 31, 40, 52) accuracy: 0.5872, balanced accuracy:0.5889 precision: 0.6265, recall: 0.5652, F1: 0.5943, specificity: 0.6125, auc score: 0.588858695652174\n",
            "----------\n",
            "epoch 27/30\n",
            "epoch 27, training, average loss: 0.3466, accuracy: 0.8191, balanced_Acc:0.8196, precision: 0.8447, recall: 0.8131, F1: 0.8286, specificity: 0.8261, auc score: 0.8195855343356359\n",
            "epoch 27, validation, confusion matrix:(42, 38, 30, 62) accuracy: 0.6047, balanced accuracy:0.5995 precision: 0.6200, recall: 0.6739, F1: 0.6458, specificity: 0.5250, auc score: 0.5994565217391304\n",
            "----------\n",
            "epoch 28/30\n",
            "epoch 28, training, average loss: 0.3422, accuracy: 0.8593, balanced_Acc:0.8593, precision: 0.8762, recall: 0.8598, F1: 0.8679, specificity: 0.8587, auc score: 0.8592543681430314\n",
            "epoch 28, validation, confusion matrix:(39, 41, 41, 51) accuracy: 0.5233, balanced accuracy:0.5209 precision: 0.5543, recall: 0.5543, F1: 0.5543, specificity: 0.4875, auc score: 0.5209239130434783\n",
            "----------\n",
            "epoch 29/30\n",
            "epoch 29, training, average loss: 0.2874, accuracy: 0.8643, balanced_Acc:0.8632, precision: 0.8704, recall: 0.8785, F1: 0.8744, specificity: 0.8478, auc score: 0.8631653799268589\n",
            "epoch 29, validation, confusion matrix:(34, 46, 18, 74) accuracy: 0.6279, balanced accuracy:0.6147 precision: 0.6167, recall: 0.8043, F1: 0.6981, specificity: 0.4250, auc score: 0.6146739130434783\n",
            "----------\n",
            "epoch 30/30\n",
            "epoch 30, training, average loss: 0.3056, accuracy: 0.8518, balanced_Acc:0.8507, precision: 0.8605, recall: 0.8645, F1: 0.8625, specificity: 0.8370, auc score: 0.8507212515237708\n",
            "epoch 30, validation, confusion matrix:(44, 36, 43, 49) accuracy: 0.5407, balanced accuracy:0.5413 precision: 0.5765, recall: 0.5326, F1: 0.5537, specificity: 0.5500, auc score: 0.541304347826087\n",
            "Training completed, validation best_metric: 0.7264 at epoch: 10\n"
          ]
        }
      ]
    },
    {
      "cell_type": "code",
      "source": [
        "#!python /content/Schiz_Detector/test/view_heatmap.py --visualize='2d' --view='axial' --image_path='/content/drive/MyDrive/schizophrenia_data/MCIC_/MCICShare/sub-A00036136/ses-20050101/anat/sub-A00036136_ses-20050101_acq-mprage_run-01_T1w.nii' --image_label=0 --state_dict_path='/content/best_metric_model_classification3d_array.pth' "
      ],
      "metadata": {
        "id": "L1IJ-TphjAQ0"
      },
      "execution_count": 7,
      "outputs": []
    }
  ]
}