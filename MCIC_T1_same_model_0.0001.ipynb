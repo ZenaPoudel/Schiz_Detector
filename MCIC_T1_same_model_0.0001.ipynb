{
  "nbformat": 4,
  "nbformat_minor": 0,
  "metadata": {
    "colab": {
      "provenance": [],
      "include_colab_link": true
    },
    "kernelspec": {
      "name": "python3",
      "display_name": "Python 3"
    },
    "language_info": {
      "name": "python"
    },
    "accelerator": "GPU",
    "gpuClass": "standard"
  },
  "cells": [
    {
      "cell_type": "markdown",
      "metadata": {
        "id": "view-in-github",
        "colab_type": "text"
      },
      "source": [
        "<a href=\"https://colab.research.google.com/github/ZenaPoudel/Schiz_Detector/blob/main/MCIC_T1_same_model_0.0001.ipynb\" target=\"_parent\"><img src=\"https://colab.research.google.com/assets/colab-badge.svg\" alt=\"Open In Colab\"/></a>"
      ]
    },
    {
      "cell_type": "code",
      "execution_count": 1,
      "metadata": {
        "colab": {
          "base_uri": "https://localhost:8080/"
        },
        "id": "kWXAfYP3Ewa9",
        "outputId": "229e45d4-d219-4d1f-c0da-586c80e28acf"
      },
      "outputs": [
        {
          "output_type": "stream",
          "name": "stdout",
          "text": [
            "Cloning into 'Schiz_Detector'...\n",
            "remote: Enumerating objects: 572, done.\u001b[K\n",
            "remote: Counting objects: 100% (46/46), done.\u001b[K\n",
            "remote: Compressing objects: 100% (45/45), done.\u001b[K\n",
            "remote: Total 572 (delta 29), reused 1 (delta 1), pack-reused 526\u001b[K\n",
            "Receiving objects: 100% (572/572), 468.68 KiB | 16.74 MiB/s, done.\n",
            "Resolving deltas: 100% (390/390), done.\n"
          ]
        }
      ],
      "source": [
        "!git clone https://github.com/ZenaPoudel/Schiz_Detector"
      ]
    },
    {
      "cell_type": "code",
      "source": [
        "pip install monai"
      ],
      "metadata": {
        "colab": {
          "base_uri": "https://localhost:8080/"
        },
        "id": "O58eQzh15QsG",
        "outputId": "27a09b32-80f9-4bd6-f7ae-995bdebf57d3"
      },
      "execution_count": 2,
      "outputs": [
        {
          "output_type": "stream",
          "name": "stdout",
          "text": [
            "Looking in indexes: https://pypi.org/simple, https://us-python.pkg.dev/colab-wheels/public/simple/\n",
            "Collecting monai\n",
            "  Downloading monai-1.1.0-202212191849-py3-none-any.whl (1.2 MB)\n",
            "\u001b[2K     \u001b[90m━━━━━━━━━━━━━━━━━━━━━━━━━━━━━━━━━━━━━━━━\u001b[0m \u001b[32m1.2/1.2 MB\u001b[0m \u001b[31m54.0 MB/s\u001b[0m eta \u001b[36m0:00:00\u001b[0m\n",
            "\u001b[?25hRequirement already satisfied: numpy>=1.17 in /usr/local/lib/python3.8/dist-packages (from monai) (1.21.6)\n",
            "Requirement already satisfied: torch>=1.8 in /usr/local/lib/python3.8/dist-packages (from monai) (1.13.0+cu116)\n",
            "Requirement already satisfied: typing-extensions in /usr/local/lib/python3.8/dist-packages (from torch>=1.8->monai) (4.4.0)\n",
            "Installing collected packages: monai\n",
            "Successfully installed monai-1.1.0\n"
          ]
        }
      ]
    },
    {
      "cell_type": "code",
      "source": [
        "from google.colab import drive\n",
        "drive.mount('/content/drive')"
      ],
      "metadata": {
        "id": "YO7nMIQG47nK",
        "colab": {
          "base_uri": "https://localhost:8080/"
        },
        "outputId": "ec601fe3-9664-40aa-a5bf-bb7241d18ea5"
      },
      "execution_count": 3,
      "outputs": [
        {
          "output_type": "stream",
          "name": "stdout",
          "text": [
            "Mounted at /content/drive\n"
          ]
        }
      ]
    },
    {
      "cell_type": "code",
      "source": [
        "pip install nibabel"
      ],
      "metadata": {
        "id": "oQ7a5hGcFvtR",
        "colab": {
          "base_uri": "https://localhost:8080/"
        },
        "outputId": "c99ec57f-162d-477c-d8c0-6592057f6094"
      },
      "execution_count": 4,
      "outputs": [
        {
          "output_type": "stream",
          "name": "stdout",
          "text": [
            "Looking in indexes: https://pypi.org/simple, https://us-python.pkg.dev/colab-wheels/public/simple/\n",
            "Requirement already satisfied: nibabel in /usr/local/lib/python3.8/dist-packages (3.0.2)\n",
            "Requirement already satisfied: numpy>=1.12 in /usr/local/lib/python3.8/dist-packages (from nibabel) (1.21.6)\n"
          ]
        }
      ]
    },
    {
      "cell_type": "code",
      "source": [
        "pip install pytorch-ignite"
      ],
      "metadata": {
        "colab": {
          "base_uri": "https://localhost:8080/"
        },
        "id": "MpUWv-KDjNxp",
        "outputId": "623f1589-cb21-4eb9-e727-7d37dc83c287"
      },
      "execution_count": 5,
      "outputs": [
        {
          "output_type": "stream",
          "name": "stdout",
          "text": [
            "Looking in indexes: https://pypi.org/simple, https://us-python.pkg.dev/colab-wheels/public/simple/\n",
            "Collecting pytorch-ignite\n",
            "  Downloading pytorch_ignite-0.4.10-py3-none-any.whl (264 kB)\n",
            "\u001b[2K     \u001b[90m━━━━━━━━━━━━━━━━━━━━━━━━━━━━━━━━━━━━━━\u001b[0m \u001b[32m264.1/264.1 KB\u001b[0m \u001b[31m19.1 MB/s\u001b[0m eta \u001b[36m0:00:00\u001b[0m\n",
            "\u001b[?25hRequirement already satisfied: torch<2,>=1.3 in /usr/local/lib/python3.8/dist-packages (from pytorch-ignite) (1.13.0+cu116)\n",
            "Requirement already satisfied: packaging in /usr/local/lib/python3.8/dist-packages (from pytorch-ignite) (21.3)\n",
            "Requirement already satisfied: typing-extensions in /usr/local/lib/python3.8/dist-packages (from torch<2,>=1.3->pytorch-ignite) (4.4.0)\n",
            "Requirement already satisfied: pyparsing!=3.0.5,>=2.0.2 in /usr/local/lib/python3.8/dist-packages (from packaging->pytorch-ignite) (3.0.9)\n",
            "Installing collected packages: pytorch-ignite\n",
            "Successfully installed pytorch-ignite-0.4.10\n"
          ]
        }
      ]
    },
    {
      "cell_type": "code",
      "source": [
        "!python /content/Schiz_Detector/trainer/train.py --epoch=30 "
      ],
      "metadata": {
        "id": "SnzTcDdeJ5Cm",
        "colab": {
          "base_uri": "https://localhost:8080/"
        },
        "outputId": "d5174a60-28a1-4ea3-ea26-fc9c7a30d638"
      },
      "execution_count": null,
      "outputs": [
        {
          "output_type": "stream",
          "name": "stdout",
          "text": [
            "----------\n",
            "epoch 1/30\n",
            "epoch 1, training, average loss: 0.7233, accuracy: 0.5126, balanced_Acc:0.4980, precision: 0.5362, recall: 0.6916, F1: 0.6041, specificity: 0.3043, auc score: 0.49796830556684274\n",
            "/usr/local/lib/python3.8/dist-packages/sklearn/metrics/_classification.py:1318: UndefinedMetricWarning: Precision is ill-defined and being set to 0.0 due to no predicted samples. Use `zero_division` parameter to control this behavior.\n",
            "  _warn_prf(average, modifier, msg_start, len(result))\n",
            "/content/Schiz_Detector/trainer/train.py:183: RuntimeWarning: invalid value encountered in double_scalars\n",
            "  val_f1_score = (val_precision * val_recall * 2 )/ (val_precision + val_recall)\n",
            "saved new validation best metric model\n",
            "epoch 1, validation, confusion matrix:(80, 0, 92, 0) accuracy: 0.4651, balanced accuracy:0.5000 precision: 0.0000, recall: 0.0000, F1: 0.0000, specificity: 1.0000, auc score: 0.5\n",
            "----------\n",
            "epoch 2/30\n",
            "epoch 2, training, average loss: 0.7310, accuracy: 0.4799, balanced_Acc:0.4741, precision: 0.5153, recall: 0.5514, F1: 0.5327, specificity: 0.3967, auc score: 0.4740704997968305\n",
            "saved new validation best metric model\n",
            "epoch 2, validation, confusion matrix:(0, 80, 0, 92) accuracy: 0.5349, balanced accuracy:0.5000 precision: 0.5349, recall: 1.0000, F1: 0.6970, specificity: 0.0000, auc score: 0.5\n",
            "----------\n",
            "epoch 3/30\n",
            "epoch 3, training, average loss: 0.7186, accuracy: 0.5151, balanced_Acc:0.5022, precision: 0.5393, recall: 0.6729, F1: 0.5988, specificity: 0.3315, auc score: 0.5022094676960586\n",
            "epoch 3, validation, confusion matrix:(0, 80, 0, 92) accuracy: 0.5349, balanced accuracy:0.5000 precision: 0.5349, recall: 1.0000, F1: 0.6970, specificity: 0.0000, auc score: 0.5\n",
            "----------\n",
            "epoch 4/30\n",
            "epoch 4, training, average loss: 0.7109, accuracy: 0.4874, balanced_Acc:0.4780, precision: 0.5202, recall: 0.6028, F1: 0.5584, specificity: 0.3533, auc score: 0.4780323039414872\n",
            "/usr/local/lib/python3.8/dist-packages/sklearn/metrics/_classification.py:1318: UndefinedMetricWarning: Precision is ill-defined and being set to 0.0 due to no predicted samples. Use `zero_division` parameter to control this behavior.\n",
            "  _warn_prf(average, modifier, msg_start, len(result))\n",
            "/content/Schiz_Detector/trainer/train.py:183: RuntimeWarning: invalid value encountered in double_scalars\n",
            "  val_f1_score = (val_precision * val_recall * 2 )/ (val_precision + val_recall)\n",
            "epoch 4, validation, confusion matrix:(80, 0, 92, 0) accuracy: 0.4651, balanced accuracy:0.5000 precision: 0.0000, recall: 0.0000, F1: 0.0000, specificity: 1.0000, auc score: 0.5\n",
            "----------\n",
            "epoch 5/30\n",
            "epoch 5, training, average loss: 0.7172, accuracy: 0.5025, balanced_Acc:0.4943, precision: 0.5331, recall: 0.6028, F1: 0.5658, specificity: 0.3859, auc score: 0.4943366517675742\n",
            "epoch 5, validation, confusion matrix:(0, 80, 0, 92) accuracy: 0.5349, balanced accuracy:0.5000 precision: 0.5349, recall: 1.0000, F1: 0.6970, specificity: 0.0000, auc score: 0.5\n",
            "----------\n",
            "epoch 6/30\n",
            "epoch 6, training, average loss: 0.7058, accuracy: 0.5352, balanced_Acc:0.5217, precision: 0.5535, recall: 0.7009, F1: 0.6186, specificity: 0.3424, auc score: 0.5216629418935392\n",
            "epoch 6, validation, confusion matrix:(0, 80, 0, 92) accuracy: 0.5349, balanced accuracy:0.5000 precision: 0.5349, recall: 1.0000, F1: 0.6970, specificity: 0.0000, auc score: 0.5\n",
            "----------\n",
            "epoch 7/30\n",
            "epoch 7, training, average loss: 0.6992, accuracy: 0.5477, balanced_Acc:0.5406, precision: 0.5714, recall: 0.6355, F1: 0.6018, specificity: 0.4457, auc score: 0.5405830963023162\n",
            "epoch 7, validation, confusion matrix:(0, 80, 0, 92) accuracy: 0.5349, balanced accuracy:0.5000 precision: 0.5349, recall: 1.0000, F1: 0.6970, specificity: 0.0000, auc score: 0.5\n",
            "----------\n",
            "epoch 8/30\n",
            "epoch 8, training, average loss: 0.7174, accuracy: 0.5075, balanced_Acc:0.4929, precision: 0.5326, recall: 0.6869, F1: 0.6000, specificity: 0.2989, auc score: 0.4929144656643641\n",
            "epoch 8, validation, confusion matrix:(0, 80, 0, 92) accuracy: 0.5349, balanced accuracy:0.5000 precision: 0.5349, recall: 1.0000, F1: 0.6970, specificity: 0.0000, auc score: 0.5\n",
            "----------\n",
            "epoch 9/30\n",
            "epoch 9, training, average loss: 0.7023, accuracy: 0.5302, balanced_Acc:0.5181, precision: 0.5513, recall: 0.6776, F1: 0.6080, specificity: 0.3587, auc score: 0.5181328728159285\n",
            "epoch 9, validation, confusion matrix:(0, 80, 0, 92) accuracy: 0.5349, balanced accuracy:0.5000 precision: 0.5349, recall: 1.0000, F1: 0.6970, specificity: 0.0000, auc score: 0.5\n",
            "----------\n",
            "epoch 10/30\n",
            "epoch 10, training, average loss: 0.7103, accuracy: 0.5101, balanced_Acc:0.5010, precision: 0.5385, recall: 0.6215, F1: 0.5770, specificity: 0.3804, auc score: 0.5009650548557497\n",
            "epoch 10, validation, confusion matrix:(0, 80, 0, 92) accuracy: 0.5349, balanced accuracy:0.5000 precision: 0.5349, recall: 1.0000, F1: 0.6970, specificity: 0.0000, auc score: 0.5\n",
            "----------\n",
            "epoch 11/30\n",
            "epoch 11, training, average loss: 0.7141, accuracy: 0.4799, balanced_Acc:0.4619, precision: 0.5119, recall: 0.7009, F1: 0.5917, specificity: 0.2228, auc score: 0.461880333197887\n",
            "epoch 11, validation, confusion matrix:(0, 80, 0, 92) accuracy: 0.5349, balanced accuracy:0.5000 precision: 0.5349, recall: 1.0000, F1: 0.6970, specificity: 0.0000, auc score: 0.5\n",
            "----------\n",
            "epoch 12/30\n"
          ]
        }
      ]
    },
    {
      "cell_type": "code",
      "source": [],
      "metadata": {
        "id": "zQvS3TKZrUg-"
      },
      "execution_count": 6,
      "outputs": []
    },
    {
      "cell_type": "code",
      "source": [
        "#!python /content/Schiz_Detector/test/view_heatmap.py --visualize='2d' --view='axial' --image_path='/content/drive/MyDrive/schizophrenia_data/MCIC_/MCICShare/sub-A00036136/ses-20050101/anat/sub-A00036136_ses-20050101_acq-mprage_run-01_T1w.nii' --image_label=0 --state_dict_path='/content/best_metric_model_classification3d_array.pth' "
      ],
      "metadata": {
        "id": "L1IJ-TphjAQ0"
      },
      "execution_count": 7,
      "outputs": []
    }
  ]
}