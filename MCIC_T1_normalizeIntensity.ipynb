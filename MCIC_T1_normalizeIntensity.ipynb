{
  "nbformat": 4,
  "nbformat_minor": 0,
  "metadata": {
    "colab": {
      "provenance": [],
      "include_colab_link": true
    },
    "kernelspec": {
      "name": "python3",
      "display_name": "Python 3"
    },
    "language_info": {
      "name": "python"
    },
    "accelerator": "GPU",
    "gpuClass": "standard"
  },
  "cells": [
    {
      "cell_type": "markdown",
      "metadata": {
        "id": "view-in-github",
        "colab_type": "text"
      },
      "source": [
        "<a href=\"https://colab.research.google.com/github/ZenaPoudel/Schiz_Detector/blob/main/MCIC_T1_normalizeIntensity.ipynb\" target=\"_parent\"><img src=\"https://colab.research.google.com/assets/colab-badge.svg\" alt=\"Open In Colab\"/></a>"
      ]
    },
    {
      "cell_type": "code",
      "execution_count": 1,
      "metadata": {
        "colab": {
          "base_uri": "https://localhost:8080/"
        },
        "id": "kWXAfYP3Ewa9",
        "outputId": "0610bd8d-8fb4-40d3-8223-0335fe670c39"
      },
      "outputs": [
        {
          "output_type": "stream",
          "name": "stdout",
          "text": [
            "Cloning into 'Schiz_Detector'...\n",
            "remote: Enumerating objects: 613, done.\u001b[K\n",
            "remote: Counting objects: 100% (87/87), done.\u001b[K\n",
            "remote: Compressing objects: 100% (86/86), done.\u001b[K\n",
            "remote: Total 613 (delta 55), reused 1 (delta 1), pack-reused 526\u001b[K\n",
            "Receiving objects: 100% (613/613), 614.78 KiB | 8.09 MiB/s, done.\n",
            "Resolving deltas: 100% (416/416), done.\n"
          ]
        }
      ],
      "source": [
        "!git clone https://github.com/ZenaPoudel/Schiz_Detector"
      ]
    },
    {
      "cell_type": "code",
      "source": [
        "pip install monai"
      ],
      "metadata": {
        "colab": {
          "base_uri": "https://localhost:8080/"
        },
        "id": "O58eQzh15QsG",
        "outputId": "e69e98a3-2450-4eb0-fa8d-20a5b7316ab3"
      },
      "execution_count": 2,
      "outputs": [
        {
          "output_type": "stream",
          "name": "stdout",
          "text": [
            "Looking in indexes: https://pypi.org/simple, https://us-python.pkg.dev/colab-wheels/public/simple/\n",
            "Collecting monai\n",
            "  Downloading monai-1.1.0-202212191849-py3-none-any.whl (1.2 MB)\n",
            "\u001b[2K     \u001b[90m━━━━━━━━━━━━━━━━━━━━━━━━━━━━━━━━━━━━━━━━\u001b[0m \u001b[32m1.2/1.2 MB\u001b[0m \u001b[31m21.6 MB/s\u001b[0m eta \u001b[36m0:00:00\u001b[0m\n",
            "\u001b[?25hRequirement already satisfied: numpy>=1.17 in /usr/local/lib/python3.8/dist-packages (from monai) (1.21.6)\n",
            "Requirement already satisfied: torch>=1.8 in /usr/local/lib/python3.8/dist-packages (from monai) (1.13.0+cu116)\n",
            "Requirement already satisfied: typing-extensions in /usr/local/lib/python3.8/dist-packages (from torch>=1.8->monai) (4.4.0)\n",
            "Installing collected packages: monai\n",
            "Successfully installed monai-1.1.0\n"
          ]
        }
      ]
    },
    {
      "cell_type": "code",
      "source": [
        "from google.colab import drive\n",
        "drive.mount('/content/drive')"
      ],
      "metadata": {
        "id": "YO7nMIQG47nK",
        "colab": {
          "base_uri": "https://localhost:8080/"
        },
        "outputId": "6ad68ec0-54e4-4ef6-bdc9-c095deeb47db"
      },
      "execution_count": 3,
      "outputs": [
        {
          "output_type": "stream",
          "name": "stdout",
          "text": [
            "Mounted at /content/drive\n"
          ]
        }
      ]
    },
    {
      "cell_type": "code",
      "source": [
        "pip install nibabel"
      ],
      "metadata": {
        "id": "oQ7a5hGcFvtR",
        "colab": {
          "base_uri": "https://localhost:8080/"
        },
        "outputId": "fe7d45cd-cc5d-484a-9106-91b41a282bd5"
      },
      "execution_count": 4,
      "outputs": [
        {
          "output_type": "stream",
          "name": "stdout",
          "text": [
            "Looking in indexes: https://pypi.org/simple, https://us-python.pkg.dev/colab-wheels/public/simple/\n",
            "Requirement already satisfied: nibabel in /usr/local/lib/python3.8/dist-packages (3.0.2)\n",
            "Requirement already satisfied: numpy>=1.12 in /usr/local/lib/python3.8/dist-packages (from nibabel) (1.21.6)\n"
          ]
        }
      ]
    },
    {
      "cell_type": "code",
      "source": [
        "pip install pytorch-ignite"
      ],
      "metadata": {
        "colab": {
          "base_uri": "https://localhost:8080/"
        },
        "id": "MpUWv-KDjNxp",
        "outputId": "bc5b19b8-0da7-4f0b-eeaf-97d663b5d18b"
      },
      "execution_count": 5,
      "outputs": [
        {
          "output_type": "stream",
          "name": "stdout",
          "text": [
            "Looking in indexes: https://pypi.org/simple, https://us-python.pkg.dev/colab-wheels/public/simple/\n",
            "Collecting pytorch-ignite\n",
            "  Downloading pytorch_ignite-0.4.10-py3-none-any.whl (264 kB)\n",
            "\u001b[2K     \u001b[90m━━━━━━━━━━━━━━━━━━━━━━━━━━━━━━━━━━━━━━━\u001b[0m \u001b[32m264.1/264.1 KB\u001b[0m \u001b[31m9.1 MB/s\u001b[0m eta \u001b[36m0:00:00\u001b[0m\n",
            "\u001b[?25hRequirement already satisfied: torch<2,>=1.3 in /usr/local/lib/python3.8/dist-packages (from pytorch-ignite) (1.13.0+cu116)\n",
            "Requirement already satisfied: packaging in /usr/local/lib/python3.8/dist-packages (from pytorch-ignite) (21.3)\n",
            "Requirement already satisfied: typing-extensions in /usr/local/lib/python3.8/dist-packages (from torch<2,>=1.3->pytorch-ignite) (4.4.0)\n",
            "Requirement already satisfied: pyparsing!=3.0.5,>=2.0.2 in /usr/local/lib/python3.8/dist-packages (from packaging->pytorch-ignite) (3.0.9)\n",
            "Installing collected packages: pytorch-ignite\n",
            "Successfully installed pytorch-ignite-0.4.10\n"
          ]
        }
      ]
    },
    {
      "cell_type": "code",
      "source": [
        "!python /content/Schiz_Detector/trainer/train.py --epoch=30 "
      ],
      "metadata": {
        "id": "SnzTcDdeJ5Cm",
        "colab": {
          "base_uri": "https://localhost:8080/"
        },
        "outputId": "8302ea1b-8075-443e-ad93-51c9f5b4e491"
      },
      "execution_count": 6,
      "outputs": [
        {
          "output_type": "stream",
          "name": "stdout",
          "text": [
            "----------\n",
            "epoch 1/30\n",
            "epoch 1, training, average loss: 0.7215, accuracy: 0.4925, balanced_Acc:0.5086, precision: 0.5526, recall: 0.2944, F1: 0.3841, specificity: 0.7228, auc score: 0.5086093051605038\n",
            "/usr/local/lib/python3.8/dist-packages/sklearn/metrics/_classification.py:1318: UndefinedMetricWarning: Precision is ill-defined and being set to 0.0 due to no predicted samples. Use `zero_division` parameter to control this behavior.\n",
            "  _warn_prf(average, modifier, msg_start, len(result))\n",
            "/content/Schiz_Detector/trainer/train.py:183: RuntimeWarning: invalid value encountered in double_scalars\n",
            "  val_f1_score = (val_precision * val_recall * 2 )/ (val_precision + val_recall)\n",
            "saved new validation best metric model\n",
            "epoch 1, validation, confusion matrix:(80, 0, 92, 0) accuracy: 0.4651, balanced accuracy:0.5000 precision: 0.0000, recall: 0.0000, F1: 0.0000, specificity: 1.0000, auc score: 0.5\n",
            "----------\n",
            "epoch 2/30\n",
            "epoch 2, training, average loss: 0.6951, accuracy: 0.5000, balanced_Acc:0.5171, precision: 0.5688, recall: 0.2897, F1: 0.3839, specificity: 0.7446, auc score: 0.5171424217797642\n",
            "saved new validation best metric model\n",
            "epoch 2, validation, confusion matrix:(71, 9, 83, 9) accuracy: 0.4651, balanced accuracy:0.4927 precision: 0.5000, recall: 0.0978, F1: 0.1636, specificity: 0.8875, auc score: 0.49266304347826084\n",
            "----------\n",
            "epoch 3/30\n",
            "epoch 3, training, average loss: 0.6828, accuracy: 0.6131, balanced_Acc:0.6002, precision: 0.6111, recall: 0.7710, F1: 0.6818, specificity: 0.4293, auc score: 0.6001879317350671\n",
            "saved new validation best metric model\n",
            "epoch 3, validation, confusion matrix:(54, 26, 31, 61) accuracy: 0.6686, balanced accuracy:0.6690 precision: 0.7011, recall: 0.6630, F1: 0.6816, specificity: 0.6750, auc score: 0.6690217391304348\n",
            "----------\n",
            "epoch 4/30\n",
            "epoch 4, training, average loss: 0.6564, accuracy: 0.6281, balanced_Acc:0.6180, precision: 0.6289, recall: 0.7523, F1: 0.6851, specificity: 0.4837, auc score: 0.6180160503860219\n",
            "epoch 4, validation, confusion matrix:(56, 24, 43, 49) accuracy: 0.6105, balanced accuracy:0.6163 precision: 0.6712, recall: 0.5326, F1: 0.5939, specificity: 0.7000, auc score: 0.6163043478260869\n",
            "----------\n",
            "epoch 5/30\n",
            "epoch 5, training, average loss: 0.5930, accuracy: 0.6784, balanced_Acc:0.6758, precision: 0.6972, recall: 0.7103, F1: 0.7037, specificity: 0.6413, auc score: 0.6757923608289313\n",
            "saved new validation best metric model\n",
            "epoch 5, validation, confusion matrix:(51, 29, 21, 71) accuracy: 0.7093, balanced accuracy:0.7046 precision: 0.7100, recall: 0.7717, F1: 0.7396, specificity: 0.6375, auc score: 0.7046195652173912\n",
            "----------\n",
            "epoch 6/30\n",
            "epoch 6, training, average loss: 0.5788, accuracy: 0.6759, balanced_Acc:0.6735, precision: 0.6959, recall: 0.7056, F1: 0.7007, specificity: 0.6413, auc score: 0.6734559122308005\n",
            "epoch 6, validation, confusion matrix:(68, 12, 58, 34) accuracy: 0.5930, balanced accuracy:0.6098 precision: 0.7391, recall: 0.3696, F1: 0.4928, specificity: 0.8500, auc score: 0.609782608695652\n",
            "----------\n",
            "epoch 7/30\n",
            "epoch 7, training, average loss: 0.4513, accuracy: 0.7889, balanced_Acc:0.7904, precision: 0.8250, recall: 0.7710, F1: 0.7971, specificity: 0.8098, auc score: 0.7904053230394149\n",
            "epoch 7, validation, confusion matrix:(52, 28, 39, 53) accuracy: 0.6105, balanced accuracy:0.6130 precision: 0.6543, recall: 0.5761, F1: 0.6127, specificity: 0.6500, auc score: 0.6130434782608697\n",
            "----------\n",
            "epoch 8/30\n",
            "epoch 8, training, average loss: 0.3999, accuracy: 0.8065, balanced_Acc:0.8056, precision: 0.8216, recall: 0.8178, F1: 0.8197, specificity: 0.7935, auc score: 0.8056176351076798\n",
            "epoch 8, validation, confusion matrix:(66, 14, 60, 32) accuracy: 0.5698, balanced accuracy:0.5864 precision: 0.6957, recall: 0.3478, F1: 0.4638, specificity: 0.8250, auc score: 0.5864130434782608\n",
            "----------\n",
            "epoch 9/30\n",
            "epoch 9, training, average loss: 0.2934, accuracy: 0.8744, balanced_Acc:0.8725, precision: 0.8727, recall: 0.8972, F1: 0.8848, specificity: 0.8478, auc score: 0.8725111743193824\n",
            "epoch 9, validation, confusion matrix:(55, 25, 42, 50) accuracy: 0.6105, balanced accuracy:0.6155 precision: 0.6667, recall: 0.5435, F1: 0.5988, specificity: 0.6875, auc score: 0.6154891304347827\n",
            "----------\n",
            "epoch 10/30\n",
            "epoch 10, training, average loss: 0.2236, accuracy: 0.9095, balanced_Acc:0.9094, precision: 0.9198, recall: 0.9112, F1: 0.9155, specificity: 0.9076, auc score: 0.909411824461601\n",
            "epoch 10, validation, confusion matrix:(42, 38, 29, 63) accuracy: 0.6105, balanced accuracy:0.6049 precision: 0.6238, recall: 0.6848, F1: 0.6528, specificity: 0.5250, auc score: 0.6048913043478261\n",
            "----------\n",
            "epoch 11/30\n",
            "epoch 11, training, average loss: 0.1723, accuracy: 0.9296, balanced_Acc:0.9296, precision: 0.9387, recall: 0.9299, F1: 0.9343, specificity: 0.9293, auc score: 0.9296271840715157\n",
            "epoch 11, validation, confusion matrix:(67, 13, 55, 37) accuracy: 0.6047, balanced accuracy:0.6198 precision: 0.7400, recall: 0.4022, F1: 0.5211, specificity: 0.8375, auc score: 0.6198369565217392\n",
            "----------\n",
            "epoch 12/30\n",
            "epoch 12, training, average loss: 0.0937, accuracy: 0.9698, balanced_Acc:0.9704, precision: 0.9810, recall: 0.9626, F1: 0.9717, specificity: 0.9783, auc score: 0.9704388459975619\n",
            "epoch 12, validation, confusion matrix:(32, 48, 14, 78) accuracy: 0.6395, balanced accuracy:0.6239 precision: 0.6190, recall: 0.8478, F1: 0.7156, specificity: 0.4000, auc score: 0.6239130434782609\n",
            "----------\n",
            "epoch 13/30\n",
            "epoch 13, training, average loss: 0.0984, accuracy: 0.9623, balanced_Acc:0.9615, precision: 0.9585, recall: 0.9720, F1: 0.9652, specificity: 0.9511, auc score: 0.9615247866720846\n",
            "epoch 13, validation, confusion matrix:(66, 14, 56, 36) accuracy: 0.5930, balanced accuracy:0.6082 precision: 0.7200, recall: 0.3913, F1: 0.5070, specificity: 0.8250, auc score: 0.6081521739130433\n",
            "----------\n",
            "epoch 14/30\n",
            "epoch 14, training, average loss: 0.0812, accuracy: 0.9598, balanced_Acc:0.9596, precision: 0.9626, recall: 0.9626, F1: 0.9626, specificity: 0.9565, auc score: 0.9595692807801707\n",
            "epoch 14, validation, confusion matrix:(52, 28, 37, 55) accuracy: 0.6221, balanced accuracy:0.6239 precision: 0.6627, recall: 0.5978, F1: 0.6286, specificity: 0.6500, auc score: 0.6239130434782609\n",
            "----------\n",
            "epoch 15/30\n",
            "epoch 15, training, average loss: 0.1564, accuracy: 0.9397, balanced_Acc:0.9401, precision: 0.9524, recall: 0.9346, F1: 0.9434, specificity: 0.9457, auc score: 0.94011580658269\n",
            "epoch 15, validation, confusion matrix:(36, 44, 27, 65) accuracy: 0.5872, balanced accuracy:0.5783 precision: 0.5963, recall: 0.7065, F1: 0.6468, specificity: 0.4500, auc score: 0.5782608695652174\n",
            "----------\n",
            "epoch 16/30\n",
            "epoch 16, training, average loss: 0.0515, accuracy: 0.9874, balanced_Acc:0.9876, precision: 0.9906, recall: 0.9860, F1: 0.9883, specificity: 0.9891, auc score: 0.9875558715969117\n",
            "epoch 16, validation, confusion matrix:(57, 23, 45, 47) accuracy: 0.6047, balanced accuracy:0.6117 precision: 0.6714, recall: 0.5109, F1: 0.5802, specificity: 0.7125, auc score: 0.6116847826086957\n",
            "----------\n",
            "epoch 17/30\n",
            "epoch 17, training, average loss: 0.0227, accuracy: 0.9925, balanced_Acc:0.9922, precision: 0.9907, recall: 0.9953, F1: 0.9930, specificity: 0.9891, auc score: 0.9922287687931735\n",
            "epoch 17, validation, confusion matrix:(56, 24, 46, 46) accuracy: 0.5930, balanced accuracy:0.6000 precision: 0.6571, recall: 0.5000, F1: 0.5679, specificity: 0.7000, auc score: 0.5999999999999999\n",
            "----------\n",
            "epoch 18/30\n",
            "epoch 18, training, average loss: 0.0139, accuracy: 1.0000, balanced_Acc:1.0000, precision: 1.0000, recall: 1.0000, F1: 1.0000, specificity: 1.0000, auc score: 1.0\n",
            "epoch 18, validation, confusion matrix:(46, 34, 36, 56) accuracy: 0.5930, balanced accuracy:0.5918 precision: 0.6222, recall: 0.6087, F1: 0.6154, specificity: 0.5750, auc score: 0.5918478260869565\n",
            "----------\n",
            "epoch 19/30\n",
            "epoch 19, training, average loss: 0.0213, accuracy: 0.9899, balanced_Acc:0.9899, precision: 0.9907, recall: 0.9907, F1: 0.9907, specificity: 0.9891, auc score: 0.9898923201950426\n",
            "epoch 19, validation, confusion matrix:(44, 36, 29, 63) accuracy: 0.6221, balanced accuracy:0.6174 precision: 0.6364, recall: 0.6848, F1: 0.6597, specificity: 0.5500, auc score: 0.6173913043478262\n",
            "----------\n",
            "epoch 20/30\n",
            "epoch 20, training, average loss: 0.0392, accuracy: 0.9849, balanced_Acc:0.9852, precision: 0.9906, recall: 0.9813, F1: 0.9859, specificity: 0.9891, auc score: 0.985219422998781\n",
            "epoch 20, validation, confusion matrix:(53, 27, 43, 49) accuracy: 0.5930, balanced accuracy:0.5976 precision: 0.6447, recall: 0.5326, F1: 0.5833, specificity: 0.6625, auc score: 0.597554347826087\n",
            "----------\n",
            "epoch 21/30\n",
            "epoch 21, training, average loss: 0.0261, accuracy: 0.9925, balanced_Acc:0.9930, precision: 1.0000, recall: 0.9860, F1: 0.9929, specificity: 1.0000, auc score: 0.9929906542056075\n",
            "epoch 21, validation, confusion matrix:(51, 29, 36, 56) accuracy: 0.6221, balanced accuracy:0.6231 precision: 0.6588, recall: 0.6087, F1: 0.6328, specificity: 0.6375, auc score: 0.6230978260869564\n",
            "----------\n",
            "epoch 22/30\n",
            "epoch 22, training, average loss: 0.0122, accuracy: 0.9950, balanced_Acc:0.9946, precision: 0.9907, recall: 1.0000, F1: 0.9953, specificity: 0.9891, auc score: 0.9945652173913043\n",
            "epoch 22, validation, confusion matrix:(56, 24, 43, 49) accuracy: 0.6105, balanced accuracy:0.6163 precision: 0.6712, recall: 0.5326, F1: 0.5939, specificity: 0.7000, auc score: 0.6163043478260869\n",
            "----------\n",
            "epoch 23/30\n",
            "epoch 23, training, average loss: 0.0199, accuracy: 0.9899, balanced_Acc:0.9895, precision: 0.9861, recall: 0.9953, F1: 0.9907, specificity: 0.9837, auc score: 0.9895113774888259\n",
            "epoch 23, validation, confusion matrix:(48, 32, 40, 52) accuracy: 0.5814, balanced accuracy:0.5826 precision: 0.6190, recall: 0.5652, F1: 0.5909, specificity: 0.6000, auc score: 0.5826086956521739\n",
            "----------\n",
            "epoch 24/30\n",
            "epoch 24, training, average loss: 0.0253, accuracy: 0.9849, balanced_Acc:0.9845, precision: 0.9815, recall: 0.9907, F1: 0.9860, specificity: 0.9783, auc score: 0.984457537586347\n",
            "epoch 24, validation, confusion matrix:(49, 31, 39, 53) accuracy: 0.5930, balanced accuracy:0.5943 precision: 0.6310, recall: 0.5761, F1: 0.6023, specificity: 0.6125, auc score: 0.5942934782608696\n",
            "----------\n",
            "epoch 25/30\n",
            "epoch 25, training, average loss: 0.0146, accuracy: 0.9950, balanced_Acc:0.9953, precision: 1.0000, recall: 0.9907, F1: 0.9953, specificity: 1.0000, auc score: 0.9953271028037383\n",
            "epoch 25, validation, confusion matrix:(44, 36, 31, 61) accuracy: 0.6105, balanced accuracy:0.6065 precision: 0.6289, recall: 0.6630, F1: 0.6455, specificity: 0.5500, auc score: 0.6065217391304348\n",
            "----------\n",
            "epoch 26/30\n",
            "epoch 26, training, average loss: 0.0094, accuracy: 0.9975, balanced_Acc:0.9973, precision: 0.9953, recall: 1.0000, F1: 0.9977, specificity: 0.9946, auc score: 0.9972826086956521\n",
            "epoch 26, validation, confusion matrix:(51, 29, 47, 45) accuracy: 0.5581, balanced accuracy:0.5633 precision: 0.6081, recall: 0.4891, F1: 0.5422, specificity: 0.6375, auc score: 0.5633152173913043\n",
            "----------\n",
            "epoch 27/30\n",
            "epoch 27, training, average loss: 0.0088, accuracy: 1.0000, balanced_Acc:1.0000, precision: 1.0000, recall: 1.0000, F1: 1.0000, specificity: 1.0000, auc score: 1.0\n",
            "epoch 27, validation, confusion matrix:(46, 34, 43, 49) accuracy: 0.5523, balanced accuracy:0.5538 precision: 0.5904, recall: 0.5326, F1: 0.5600, specificity: 0.5750, auc score: 0.5538043478260869\n",
            "----------\n",
            "epoch 28/30\n",
            "epoch 28, training, average loss: 0.0144, accuracy: 0.9950, balanced_Acc:0.9949, precision: 0.9953, recall: 0.9953, F1: 0.9953, specificity: 0.9946, auc score: 0.9949461600975213\n",
            "epoch 28, validation, confusion matrix:(50, 30, 37, 55) accuracy: 0.6105, balanced accuracy:0.6114 precision: 0.6471, recall: 0.5978, F1: 0.6215, specificity: 0.6250, auc score: 0.6114130434782609\n",
            "----------\n",
            "epoch 29/30\n",
            "epoch 29, training, average loss: 0.0501, accuracy: 0.9824, balanced_Acc:0.9821, precision: 0.9814, recall: 0.9860, F1: 0.9837, specificity: 0.9783, auc score: 0.9821210889882163\n",
            "epoch 29, validation, confusion matrix:(66, 14, 64, 28) accuracy: 0.5465, balanced accuracy:0.5647 precision: 0.6667, recall: 0.3043, F1: 0.4179, specificity: 0.8250, auc score: 0.5646739130434782\n",
            "----------\n",
            "epoch 30/30\n",
            "epoch 30, training, average loss: 0.0437, accuracy: 0.9824, balanced_Acc:0.9817, precision: 0.9770, recall: 0.9907, F1: 0.9838, specificity: 0.9728, auc score: 0.9817401462819991\n",
            "epoch 30, validation, confusion matrix:(45, 35, 24, 68) accuracy: 0.6570, balanced accuracy:0.6508 precision: 0.6602, recall: 0.7391, F1: 0.6974, specificity: 0.5625, auc score: 0.6508152173913043\n",
            "Training completed, validation best_metric: 0.7396 at epoch: 5\n"
          ]
        }
      ]
    },
    {
      "cell_type": "code",
      "source": [],
      "metadata": {
        "id": "zQvS3TKZrUg-"
      },
      "execution_count": 6,
      "outputs": []
    },
    {
      "cell_type": "code",
      "source": [
        "#!python /content/Schiz_Detector/test/view_heatmap.py --visualize='2d' --view='axial' --image_path='/content/drive/MyDrive/schizophrenia_data/MCIC_/MCICShare/sub-A00036136/ses-20050101/anat/sub-A00036136_ses-20050101_acq-mprage_run-01_T1w.nii' --image_label=0 --state_dict_path='/content/best_metric_model_classification3d_array.pth' "
      ],
      "metadata": {
        "id": "L1IJ-TphjAQ0"
      },
      "execution_count": 7,
      "outputs": []
    }
  ]
}