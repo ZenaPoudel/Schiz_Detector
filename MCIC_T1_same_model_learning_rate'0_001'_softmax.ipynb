{
  "nbformat": 4,
  "nbformat_minor": 0,
  "metadata": {
    "colab": {
      "provenance": [],
      "include_colab_link": true
    },
    "kernelspec": {
      "name": "python3",
      "display_name": "Python 3"
    },
    "language_info": {
      "name": "python"
    },
    "accelerator": "GPU",
    "gpuClass": "standard"
  },
  "cells": [
    {
      "cell_type": "markdown",
      "metadata": {
        "id": "view-in-github",
        "colab_type": "text"
      },
      "source": [
        "<a href=\"https://colab.research.google.com/github/ZenaPoudel/Schiz_Detector/blob/main/MCIC_T1_same_model_learning_rate'0_001'_softmax.ipynb\" target=\"_parent\"><img src=\"https://colab.research.google.com/assets/colab-badge.svg\" alt=\"Open In Colab\"/></a>"
      ]
    },
    {
      "cell_type": "code",
      "execution_count": 1,
      "metadata": {
        "colab": {
          "base_uri": "https://localhost:8080/"
        },
        "id": "kWXAfYP3Ewa9",
        "outputId": "229e45d4-d219-4d1f-c0da-586c80e28acf"
      },
      "outputs": [
        {
          "output_type": "stream",
          "name": "stdout",
          "text": [
            "Cloning into 'Schiz_Detector'...\n",
            "remote: Enumerating objects: 572, done.\u001b[K\n",
            "remote: Counting objects: 100% (46/46), done.\u001b[K\n",
            "remote: Compressing objects: 100% (45/45), done.\u001b[K\n",
            "remote: Total 572 (delta 29), reused 1 (delta 1), pack-reused 526\u001b[K\n",
            "Receiving objects: 100% (572/572), 468.68 KiB | 16.74 MiB/s, done.\n",
            "Resolving deltas: 100% (390/390), done.\n"
          ]
        }
      ],
      "source": [
        "!git clone https://github.com/ZenaPoudel/Schiz_Detector"
      ]
    },
    {
      "cell_type": "code",
      "source": [
        "pip install monai"
      ],
      "metadata": {
        "colab": {
          "base_uri": "https://localhost:8080/"
        },
        "id": "O58eQzh15QsG",
        "outputId": "27a09b32-80f9-4bd6-f7ae-995bdebf57d3"
      },
      "execution_count": 2,
      "outputs": [
        {
          "output_type": "stream",
          "name": "stdout",
          "text": [
            "Looking in indexes: https://pypi.org/simple, https://us-python.pkg.dev/colab-wheels/public/simple/\n",
            "Collecting monai\n",
            "  Downloading monai-1.1.0-202212191849-py3-none-any.whl (1.2 MB)\n",
            "\u001b[2K     \u001b[90m━━━━━━━━━━━━━━━━━━━━━━━━━━━━━━━━━━━━━━━━\u001b[0m \u001b[32m1.2/1.2 MB\u001b[0m \u001b[31m54.0 MB/s\u001b[0m eta \u001b[36m0:00:00\u001b[0m\n",
            "\u001b[?25hRequirement already satisfied: numpy>=1.17 in /usr/local/lib/python3.8/dist-packages (from monai) (1.21.6)\n",
            "Requirement already satisfied: torch>=1.8 in /usr/local/lib/python3.8/dist-packages (from monai) (1.13.0+cu116)\n",
            "Requirement already satisfied: typing-extensions in /usr/local/lib/python3.8/dist-packages (from torch>=1.8->monai) (4.4.0)\n",
            "Installing collected packages: monai\n",
            "Successfully installed monai-1.1.0\n"
          ]
        }
      ]
    },
    {
      "cell_type": "code",
      "source": [
        "from google.colab import drive\n",
        "drive.mount('/content/drive')"
      ],
      "metadata": {
        "id": "YO7nMIQG47nK",
        "colab": {
          "base_uri": "https://localhost:8080/"
        },
        "outputId": "ec601fe3-9664-40aa-a5bf-bb7241d18ea5"
      },
      "execution_count": 3,
      "outputs": [
        {
          "output_type": "stream",
          "name": "stdout",
          "text": [
            "Mounted at /content/drive\n"
          ]
        }
      ]
    },
    {
      "cell_type": "code",
      "source": [
        "pip install nibabel"
      ],
      "metadata": {
        "id": "oQ7a5hGcFvtR",
        "colab": {
          "base_uri": "https://localhost:8080/"
        },
        "outputId": "c99ec57f-162d-477c-d8c0-6592057f6094"
      },
      "execution_count": 4,
      "outputs": [
        {
          "output_type": "stream",
          "name": "stdout",
          "text": [
            "Looking in indexes: https://pypi.org/simple, https://us-python.pkg.dev/colab-wheels/public/simple/\n",
            "Requirement already satisfied: nibabel in /usr/local/lib/python3.8/dist-packages (3.0.2)\n",
            "Requirement already satisfied: numpy>=1.12 in /usr/local/lib/python3.8/dist-packages (from nibabel) (1.21.6)\n"
          ]
        }
      ]
    },
    {
      "cell_type": "code",
      "source": [
        "pip install pytorch-ignite"
      ],
      "metadata": {
        "colab": {
          "base_uri": "https://localhost:8080/"
        },
        "id": "MpUWv-KDjNxp",
        "outputId": "623f1589-cb21-4eb9-e727-7d37dc83c287"
      },
      "execution_count": 5,
      "outputs": [
        {
          "output_type": "stream",
          "name": "stdout",
          "text": [
            "Looking in indexes: https://pypi.org/simple, https://us-python.pkg.dev/colab-wheels/public/simple/\n",
            "Collecting pytorch-ignite\n",
            "  Downloading pytorch_ignite-0.4.10-py3-none-any.whl (264 kB)\n",
            "\u001b[2K     \u001b[90m━━━━━━━━━━━━━━━━━━━━━━━━━━━━━━━━━━━━━━\u001b[0m \u001b[32m264.1/264.1 KB\u001b[0m \u001b[31m19.1 MB/s\u001b[0m eta \u001b[36m0:00:00\u001b[0m\n",
            "\u001b[?25hRequirement already satisfied: torch<2,>=1.3 in /usr/local/lib/python3.8/dist-packages (from pytorch-ignite) (1.13.0+cu116)\n",
            "Requirement already satisfied: packaging in /usr/local/lib/python3.8/dist-packages (from pytorch-ignite) (21.3)\n",
            "Requirement already satisfied: typing-extensions in /usr/local/lib/python3.8/dist-packages (from torch<2,>=1.3->pytorch-ignite) (4.4.0)\n",
            "Requirement already satisfied: pyparsing!=3.0.5,>=2.0.2 in /usr/local/lib/python3.8/dist-packages (from packaging->pytorch-ignite) (3.0.9)\n",
            "Installing collected packages: pytorch-ignite\n",
            "Successfully installed pytorch-ignite-0.4.10\n"
          ]
        }
      ]
    },
    {
      "cell_type": "code",
      "source": [
        "!python /content/Schiz_Detector/trainer/train.py --epoch=30 --learning_rate=0.001 --batch=16"
      ],
      "metadata": {
        "id": "SnzTcDdeJ5Cm",
        "colab": {
          "base_uri": "https://localhost:8080/"
        },
        "outputId": "a401c180-19d0-4025-ada9-b6f507f60993"
      },
      "execution_count": null,
      "outputs": [
        {
          "output_type": "stream",
          "name": "stdout",
          "text": [
            "----------\n",
            "epoch 1/30\n",
            "epoch 1, training, average loss: 0.6949, accuracy: 0.4523, balanced_Acc:0.4484, precision: 0.4908, recall: 0.5000, F1: 0.4954, specificity: 0.3967, auc score: 0.44836956521739124\n",
            "saved new validation best metric model\n",
            "epoch 1, validation, confusion matrix:(0, 80, 0, 92) accuracy: 0.5349, balanced accuracy:0.5000 precision: 0.5349, recall: 1.0000, F1: 0.6970, specificity: 0.0000, auc score: 0.5\n",
            "----------\n",
            "epoch 2/30\n",
            "epoch 2, training, average loss: 0.6939, accuracy: 0.4950, balanced_Acc:0.4915, precision: 0.5300, recall: 0.5374, F1: 0.5336, specificity: 0.4457, auc score: 0.49151767574156846\n",
            "epoch 2, validation, confusion matrix:(0, 80, 0, 92) accuracy: 0.5349, balanced accuracy:0.5000 precision: 0.5349, recall: 1.0000, F1: 0.6970, specificity: 0.0000, auc score: 0.5\n",
            "----------\n",
            "epoch 3/30\n",
            "epoch 3, training, average loss: 0.6892, accuracy: 0.5377, balanced_Acc:0.5274, precision: 0.5591, recall: 0.6636, F1: 0.6068, specificity: 0.3913, auc score: 0.5274278748476229\n",
            "epoch 3, validation, confusion matrix:(0, 80, 0, 92) accuracy: 0.5349, balanced accuracy:0.5000 precision: 0.5349, recall: 1.0000, F1: 0.6970, specificity: 0.0000, auc score: 0.5\n",
            "----------\n",
            "epoch 4/30\n",
            "epoch 4, training, average loss: 0.7004, accuracy: 0.4322, balanced_Acc:0.4320, precision: 0.4697, recall: 0.4346, F1: 0.4515, specificity: 0.4293, auc score: 0.43196363266964655\n",
            "epoch 4, validation, confusion matrix:(0, 80, 0, 92) accuracy: 0.5349, balanced accuracy:0.5000 precision: 0.5349, recall: 1.0000, F1: 0.6970, specificity: 0.0000, auc score: 0.5\n",
            "----------\n",
            "epoch 5/30\n",
            "epoch 5, training, average loss: 0.6925, accuracy: 0.4975, balanced_Acc:0.4954, precision: 0.5333, recall: 0.5234, F1: 0.5283, specificity: 0.4674, auc score: 0.4953778951645672\n",
            "epoch 5, validation, confusion matrix:(0, 80, 0, 92) accuracy: 0.5349, balanced accuracy:0.5000 precision: 0.5349, recall: 1.0000, F1: 0.6970, specificity: 0.0000, auc score: 0.5\n",
            "----------\n",
            "epoch 6/30\n",
            "epoch 6, training, average loss: 0.6897, accuracy: 0.5302, balanced_Acc:0.5277, precision: 0.5634, recall: 0.5607, F1: 0.5621, specificity: 0.4946, auc score: 0.5276564404713531\n",
            "epoch 6, validation, confusion matrix:(0, 80, 0, 92) accuracy: 0.5349, balanced accuracy:0.5000 precision: 0.5349, recall: 1.0000, F1: 0.6970, specificity: 0.0000, auc score: 0.5\n",
            "----------\n",
            "epoch 7/30\n",
            "epoch 7, training, average loss: 0.6896, accuracy: 0.5276, balanced_Acc:0.5261, precision: 0.5625, recall: 0.5467, F1: 0.5545, specificity: 0.5054, auc score: 0.5260818772856563\n",
            "epoch 7, validation, confusion matrix:(0, 80, 0, 92) accuracy: 0.5349, balanced accuracy:0.5000 precision: 0.5349, recall: 1.0000, F1: 0.6970, specificity: 0.0000, auc score: 0.5\n",
            "----------\n",
            "epoch 8/30\n",
            "epoch 8, training, average loss: 0.6893, accuracy: 0.5302, balanced_Acc:0.5296, precision: 0.5665, recall: 0.5374, F1: 0.5516, specificity: 0.5217, auc score: 0.5295611540024381\n",
            "epoch 8, validation, confusion matrix:(0, 80, 0, 92) accuracy: 0.5349, balanced accuracy:0.5000 precision: 0.5349, recall: 1.0000, F1: 0.6970, specificity: 0.0000, auc score: 0.5\n",
            "----------\n",
            "epoch 9/30\n",
            "epoch 9, training, average loss: 0.6904, accuracy: 0.5251, balanced_Acc:0.4967, precision: 0.5358, recall: 0.8738, F1: 0.6643, specificity: 0.1196, auc score: 0.4966984965461195\n",
            "epoch 9, validation, confusion matrix:(0, 80, 0, 92) accuracy: 0.5349, balanced accuracy:0.5000 precision: 0.5349, recall: 1.0000, F1: 0.6970, specificity: 0.0000, auc score: 0.5\n",
            "----------\n",
            "epoch 10/30\n",
            "epoch 10, training, average loss: 0.6903, accuracy: 0.5377, balanced_Acc:0.5000, precision: 0.5377, recall: 1.0000, F1: 0.6993, specificity: 0.0000, auc score: 0.5\n",
            "epoch 10, validation, confusion matrix:(0, 80, 0, 92) accuracy: 0.5349, balanced accuracy:0.5000 precision: 0.5349, recall: 1.0000, F1: 0.6970, specificity: 0.0000, auc score: 0.5\n",
            "----------\n",
            "epoch 11/30\n",
            "epoch 11, training, average loss: 0.6936, accuracy: 0.5377, balanced_Acc:0.5000, precision: 0.5377, recall: 1.0000, F1: 0.6993, specificity: 0.0000, auc score: 0.5\n",
            "epoch 11, validation, confusion matrix:(0, 80, 0, 92) accuracy: 0.5349, balanced accuracy:0.5000 precision: 0.5349, recall: 1.0000, F1: 0.6970, specificity: 0.0000, auc score: 0.5\n",
            "----------\n",
            "epoch 12/30\n",
            "epoch 12, training, average loss: 0.6910, accuracy: 0.5377, balanced_Acc:0.5000, precision: 0.5377, recall: 1.0000, F1: 0.6993, specificity: 0.0000, auc score: 0.5\n",
            "epoch 12, validation, confusion matrix:(0, 80, 0, 92) accuracy: 0.5349, balanced accuracy:0.5000 precision: 0.5349, recall: 1.0000, F1: 0.6970, specificity: 0.0000, auc score: 0.5\n",
            "----------\n",
            "epoch 13/30\n"
          ]
        }
      ]
    },
    {
      "cell_type": "code",
      "source": [],
      "metadata": {
        "id": "zQvS3TKZrUg-"
      },
      "execution_count": 6,
      "outputs": []
    },
    {
      "cell_type": "code",
      "source": [
        "#!python /content/Schiz_Detector/test/view_heatmap.py --visualize='2d' --view='axial' --image_path='/content/drive/MyDrive/schizophrenia_data/MCIC_/MCICShare/sub-A00036136/ses-20050101/anat/sub-A00036136_ses-20050101_acq-mprage_run-01_T1w.nii' --image_label=0 --state_dict_path='/content/best_metric_model_classification3d_array.pth' "
      ],
      "metadata": {
        "id": "L1IJ-TphjAQ0"
      },
      "execution_count": 7,
      "outputs": []
    }
  ]
}