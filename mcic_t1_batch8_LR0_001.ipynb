{
  "nbformat": 4,
  "nbformat_minor": 0,
  "metadata": {
    "colab": {
      "provenance": [],
      "include_colab_link": true
    },
    "kernelspec": {
      "name": "python3",
      "display_name": "Python 3"
    },
    "language_info": {
      "name": "python"
    },
    "accelerator": "GPU",
    "gpuClass": "standard"
  },
  "cells": [
    {
      "cell_type": "markdown",
      "metadata": {
        "id": "view-in-github",
        "colab_type": "text"
      },
      "source": [
        "<a href=\"https://colab.research.google.com/github/ZenaPoudel/Schiz_Detector/blob/main/mcic_t1_batch8_LR0_001.ipynb\" target=\"_parent\"><img src=\"https://colab.research.google.com/assets/colab-badge.svg\" alt=\"Open In Colab\"/></a>"
      ]
    },
    {
      "cell_type": "code",
      "execution_count": 1,
      "metadata": {
        "colab": {
          "base_uri": "https://localhost:8080/"
        },
        "id": "kWXAfYP3Ewa9",
        "outputId": "6123bf8a-5469-48bb-976c-133937ff2e9b"
      },
      "outputs": [
        {
          "output_type": "stream",
          "name": "stdout",
          "text": [
            "Cloning into 'Schiz_Detector'...\n",
            "remote: Enumerating objects: 585, done.\u001b[K\n",
            "remote: Counting objects: 100% (59/59), done.\u001b[K\n",
            "remote: Compressing objects: 100% (58/58), done.\u001b[K\n",
            "remote: Total 585 (delta 38), reused 1 (delta 1), pack-reused 526\u001b[K\n",
            "Receiving objects: 100% (585/585), 475.23 KiB | 22.63 MiB/s, done.\n",
            "Resolving deltas: 100% (399/399), done.\n"
          ]
        }
      ],
      "source": [
        "!git clone https://github.com/ZenaPoudel/Schiz_Detector"
      ]
    },
    {
      "cell_type": "code",
      "source": [
        "pip install monai"
      ],
      "metadata": {
        "colab": {
          "base_uri": "https://localhost:8080/"
        },
        "id": "O58eQzh15QsG",
        "outputId": "a2de0b09-2c86-45d0-9c4b-343d95743e33"
      },
      "execution_count": 2,
      "outputs": [
        {
          "output_type": "stream",
          "name": "stdout",
          "text": [
            "Looking in indexes: https://pypi.org/simple, https://us-python.pkg.dev/colab-wheels/public/simple/\n",
            "Collecting monai\n",
            "  Downloading monai-1.1.0-202212191849-py3-none-any.whl (1.2 MB)\n",
            "\u001b[2K     \u001b[90m━━━━━━━━━━━━━━━━━━━━━━━━━━━━━━━━━━━━━━━━\u001b[0m \u001b[32m1.2/1.2 MB\u001b[0m \u001b[31m23.4 MB/s\u001b[0m eta \u001b[36m0:00:00\u001b[0m\n",
            "\u001b[?25hRequirement already satisfied: torch>=1.8 in /usr/local/lib/python3.8/dist-packages (from monai) (1.13.0+cu116)\n",
            "Requirement already satisfied: numpy>=1.17 in /usr/local/lib/python3.8/dist-packages (from monai) (1.21.6)\n",
            "Requirement already satisfied: typing-extensions in /usr/local/lib/python3.8/dist-packages (from torch>=1.8->monai) (4.4.0)\n",
            "Installing collected packages: monai\n",
            "Successfully installed monai-1.1.0\n"
          ]
        }
      ]
    },
    {
      "cell_type": "code",
      "source": [
        "from google.colab import drive\n",
        "drive.mount('/content/drive')"
      ],
      "metadata": {
        "colab": {
          "base_uri": "https://localhost:8080/"
        },
        "id": "YO7nMIQG47nK",
        "outputId": "8aa10d00-326c-4314-a07d-949f78088421"
      },
      "execution_count": 3,
      "outputs": [
        {
          "output_type": "stream",
          "name": "stdout",
          "text": [
            "Mounted at /content/drive\n"
          ]
        }
      ]
    },
    {
      "cell_type": "code",
      "source": [
        "pip install nibabel"
      ],
      "metadata": {
        "colab": {
          "base_uri": "https://localhost:8080/"
        },
        "id": "oQ7a5hGcFvtR",
        "outputId": "074287e0-e97d-4a6d-a4b5-a3e7504b5300"
      },
      "execution_count": 4,
      "outputs": [
        {
          "output_type": "stream",
          "name": "stdout",
          "text": [
            "Looking in indexes: https://pypi.org/simple, https://us-python.pkg.dev/colab-wheels/public/simple/\n",
            "Requirement already satisfied: nibabel in /usr/local/lib/python3.8/dist-packages (3.0.2)\n",
            "Requirement already satisfied: numpy>=1.12 in /usr/local/lib/python3.8/dist-packages (from nibabel) (1.21.6)\n"
          ]
        }
      ]
    },
    {
      "cell_type": "code",
      "source": [
        "pip install pytorch-ignite"
      ],
      "metadata": {
        "colab": {
          "base_uri": "https://localhost:8080/"
        },
        "id": "MpUWv-KDjNxp",
        "outputId": "41f4894e-408d-4ff8-91bf-8cc069f6dfdc"
      },
      "execution_count": 5,
      "outputs": [
        {
          "output_type": "stream",
          "name": "stdout",
          "text": [
            "Looking in indexes: https://pypi.org/simple, https://us-python.pkg.dev/colab-wheels/public/simple/\n",
            "Collecting pytorch-ignite\n",
            "  Downloading pytorch_ignite-0.4.10-py3-none-any.whl (264 kB)\n",
            "\u001b[2K     \u001b[90m━━━━━━━━━━━━━━━━━━━━━━━━━━━━━━━━━━━━━━━\u001b[0m \u001b[32m264.1/264.1 KB\u001b[0m \u001b[31m7.7 MB/s\u001b[0m eta \u001b[36m0:00:00\u001b[0m\n",
            "\u001b[?25hRequirement already satisfied: packaging in /usr/local/lib/python3.8/dist-packages (from pytorch-ignite) (21.3)\n",
            "Requirement already satisfied: torch<2,>=1.3 in /usr/local/lib/python3.8/dist-packages (from pytorch-ignite) (1.13.0+cu116)\n",
            "Requirement already satisfied: typing-extensions in /usr/local/lib/python3.8/dist-packages (from torch<2,>=1.3->pytorch-ignite) (4.4.0)\n",
            "Requirement already satisfied: pyparsing!=3.0.5,>=2.0.2 in /usr/local/lib/python3.8/dist-packages (from packaging->pytorch-ignite) (3.0.9)\n",
            "Installing collected packages: pytorch-ignite\n",
            "Successfully installed pytorch-ignite-0.4.10\n"
          ]
        }
      ]
    },
    {
      "cell_type": "code",
      "source": [
        "!python /content/Schiz_Detector/trainer/train.py --epoch=30 --learning_rate=0.001"
      ],
      "metadata": {
        "id": "SnzTcDdeJ5Cm",
        "colab": {
          "base_uri": "https://localhost:8080/"
        },
        "outputId": "a3c65f1a-9fbf-447f-916c-d934de9d03ca"
      },
      "execution_count": 8,
      "outputs": [
        {
          "output_type": "stream",
          "name": "stdout",
          "text": [
            "----------\n",
            "epoch 1/30\n",
            "epoch 1, training, average loss: 0.7139, accuracy: 0.5075, balanced_Acc:0.5302, precision: 0.6125, recall: 0.2290, F1: 0.3333, specificity: 0.8315, auc score: 0.5302468508736287\n",
            "/usr/local/lib/python3.8/dist-packages/sklearn/metrics/_classification.py:1318: UndefinedMetricWarning: Precision is ill-defined and being set to 0.0 due to no predicted samples. Use `zero_division` parameter to control this behavior.\n",
            "  _warn_prf(average, modifier, msg_start, len(result))\n",
            "/content/Schiz_Detector/trainer/train.py:183: RuntimeWarning: invalid value encountered in double_scalars\n",
            "  val_f1_score = (val_precision * val_recall * 2 )/ (val_precision + val_recall)\n",
            "saved new validation best metric model\n",
            "epoch 1, validation, confusion matrix:(80, 0, 92, 0) accuracy: 0.4651, balanced accuracy:0.5000 precision: 0.0000, recall: 0.0000, F1: 0.0000, specificity: 1.0000, auc score: 0.5\n",
            "----------\n",
            "epoch 2/30\n",
            "epoch 2, training, average loss: 0.6933, accuracy: 0.5226, balanced_Acc:0.5180, precision: 0.5536, recall: 0.5794, F1: 0.5662, specificity: 0.4565, auc score: 0.5179804957334416\n",
            "saved new validation best metric model\n",
            "epoch 2, validation, confusion matrix:(0, 80, 0, 92) accuracy: 0.5349, balanced accuracy:0.5000 precision: 0.5349, recall: 1.0000, F1: 0.6970, specificity: 0.0000, auc score: 0.5\n",
            "----------\n",
            "epoch 3/30\n",
            "epoch 3, training, average loss: 0.6916, accuracy: 0.5377, balanced_Acc:0.5000, precision: 0.5377, recall: 1.0000, F1: 0.6993, specificity: 0.0000, auc score: 0.5\n",
            "epoch 3, validation, confusion matrix:(0, 80, 0, 92) accuracy: 0.5349, balanced accuracy:0.5000 precision: 0.5349, recall: 1.0000, F1: 0.6970, specificity: 0.0000, auc score: 0.5\n",
            "----------\n",
            "epoch 4/30\n",
            "epoch 4, training, average loss: 0.6914, accuracy: 0.5377, balanced_Acc:0.5000, precision: 0.5377, recall: 1.0000, F1: 0.6993, specificity: 0.0000, auc score: 0.5\n",
            "epoch 4, validation, confusion matrix:(0, 80, 0, 92) accuracy: 0.5349, balanced accuracy:0.5000 precision: 0.5349, recall: 1.0000, F1: 0.6970, specificity: 0.0000, auc score: 0.5\n",
            "----------\n",
            "epoch 5/30\n",
            "epoch 5, training, average loss: 0.6916, accuracy: 0.5377, balanced_Acc:0.5000, precision: 0.5377, recall: 1.0000, F1: 0.6993, specificity: 0.0000, auc score: 0.5\n",
            "epoch 5, validation, confusion matrix:(0, 80, 0, 92) accuracy: 0.5349, balanced accuracy:0.5000 precision: 0.5349, recall: 1.0000, F1: 0.6970, specificity: 0.0000, auc score: 0.5\n",
            "----------\n",
            "epoch 6/30\n",
            "epoch 6, training, average loss: 0.6917, accuracy: 0.5377, balanced_Acc:0.5000, precision: 0.5377, recall: 1.0000, F1: 0.6993, specificity: 0.0000, auc score: 0.5\n",
            "epoch 6, validation, confusion matrix:(0, 80, 0, 92) accuracy: 0.5349, balanced accuracy:0.5000 precision: 0.5349, recall: 1.0000, F1: 0.6970, specificity: 0.0000, auc score: 0.5\n",
            "----------\n",
            "epoch 7/30\n",
            "epoch 7, training, average loss: 0.6915, accuracy: 0.5377, balanced_Acc:0.5000, precision: 0.5377, recall: 1.0000, F1: 0.6993, specificity: 0.0000, auc score: 0.5\n",
            "epoch 7, validation, confusion matrix:(0, 80, 0, 92) accuracy: 0.5349, balanced accuracy:0.5000 precision: 0.5349, recall: 1.0000, F1: 0.6970, specificity: 0.0000, auc score: 0.5\n",
            "----------\n",
            "epoch 8/30\n",
            "epoch 8, training, average loss: 0.6918, accuracy: 0.5377, balanced_Acc:0.5000, precision: 0.5377, recall: 1.0000, F1: 0.6993, specificity: 0.0000, auc score: 0.5\n",
            "epoch 8, validation, confusion matrix:(0, 80, 0, 92) accuracy: 0.5349, balanced accuracy:0.5000 precision: 0.5349, recall: 1.0000, F1: 0.6970, specificity: 0.0000, auc score: 0.5\n",
            "----------\n",
            "epoch 9/30\n",
            "epoch 9, training, average loss: 0.6913, accuracy: 0.5377, balanced_Acc:0.5000, precision: 0.5377, recall: 1.0000, F1: 0.6993, specificity: 0.0000, auc score: 0.5\n",
            "epoch 9, validation, confusion matrix:(0, 80, 0, 92) accuracy: 0.5349, balanced accuracy:0.5000 precision: 0.5349, recall: 1.0000, F1: 0.6970, specificity: 0.0000, auc score: 0.5\n",
            "----------\n",
            "epoch 10/30\n",
            "epoch 10, training, average loss: 0.6912, accuracy: 0.5377, balanced_Acc:0.5000, precision: 0.5377, recall: 1.0000, F1: 0.6993, specificity: 0.0000, auc score: 0.5\n",
            "epoch 10, validation, confusion matrix:(0, 80, 0, 92) accuracy: 0.5349, balanced accuracy:0.5000 precision: 0.5349, recall: 1.0000, F1: 0.6970, specificity: 0.0000, auc score: 0.5\n",
            "----------\n",
            "epoch 11/30\n",
            "epoch 11, training, average loss: 0.6919, accuracy: 0.5377, balanced_Acc:0.5000, precision: 0.5377, recall: 1.0000, F1: 0.6993, specificity: 0.0000, auc score: 0.5\n",
            "epoch 11, validation, confusion matrix:(0, 80, 0, 92) accuracy: 0.5349, balanced accuracy:0.5000 precision: 0.5349, recall: 1.0000, F1: 0.6970, specificity: 0.0000, auc score: 0.5\n",
            "----------\n",
            "epoch 12/30\n",
            "epoch 12, training, average loss: 0.6916, accuracy: 0.5377, balanced_Acc:0.5000, precision: 0.5377, recall: 1.0000, F1: 0.6993, specificity: 0.0000, auc score: 0.5\n",
            "epoch 12, validation, confusion matrix:(0, 80, 0, 92) accuracy: 0.5349, balanced accuracy:0.5000 precision: 0.5349, recall: 1.0000, F1: 0.6970, specificity: 0.0000, auc score: 0.5\n",
            "----------\n",
            "epoch 13/30\n",
            "epoch 13, training, average loss: 0.6911, accuracy: 0.5377, balanced_Acc:0.5000, precision: 0.5377, recall: 1.0000, F1: 0.6993, specificity: 0.0000, auc score: 0.5\n",
            "epoch 13, validation, confusion matrix:(0, 80, 0, 92) accuracy: 0.5349, balanced accuracy:0.5000 precision: 0.5349, recall: 1.0000, F1: 0.6970, specificity: 0.0000, auc score: 0.5\n",
            "----------\n",
            "epoch 14/30\n",
            "epoch 14, training, average loss: 0.6912, accuracy: 0.5377, balanced_Acc:0.5000, precision: 0.5377, recall: 1.0000, F1: 0.6993, specificity: 0.0000, auc score: 0.5\n",
            "epoch 14, validation, confusion matrix:(0, 80, 0, 92) accuracy: 0.5349, balanced accuracy:0.5000 precision: 0.5349, recall: 1.0000, F1: 0.6970, specificity: 0.0000, auc score: 0.5\n",
            "----------\n",
            "epoch 15/30\n",
            "epoch 15, training, average loss: 0.6916, accuracy: 0.5377, balanced_Acc:0.5000, precision: 0.5377, recall: 1.0000, F1: 0.6993, specificity: 0.0000, auc score: 0.5\n",
            "epoch 15, validation, confusion matrix:(0, 80, 0, 92) accuracy: 0.5349, balanced accuracy:0.5000 precision: 0.5349, recall: 1.0000, F1: 0.6970, specificity: 0.0000, auc score: 0.5\n",
            "----------\n",
            "epoch 16/30\n",
            "epoch 16, training, average loss: 0.6909, accuracy: 0.5377, balanced_Acc:0.5000, precision: 0.5377, recall: 1.0000, F1: 0.6993, specificity: 0.0000, auc score: 0.5\n",
            "epoch 16, validation, confusion matrix:(0, 80, 0, 92) accuracy: 0.5349, balanced accuracy:0.5000 precision: 0.5349, recall: 1.0000, F1: 0.6970, specificity: 0.0000, auc score: 0.5\n",
            "----------\n",
            "epoch 17/30\n",
            "epoch 17, training, average loss: 0.6913, accuracy: 0.5377, balanced_Acc:0.5000, precision: 0.5377, recall: 1.0000, F1: 0.6993, specificity: 0.0000, auc score: 0.5\n",
            "epoch 17, validation, confusion matrix:(0, 80, 0, 92) accuracy: 0.5349, balanced accuracy:0.5000 precision: 0.5349, recall: 1.0000, F1: 0.6970, specificity: 0.0000, auc score: 0.5\n",
            "----------\n",
            "epoch 18/30\n",
            "epoch 18, training, average loss: 0.6907, accuracy: 0.5377, balanced_Acc:0.5000, precision: 0.5377, recall: 1.0000, F1: 0.6993, specificity: 0.0000, auc score: 0.5\n",
            "epoch 18, validation, confusion matrix:(0, 80, 0, 92) accuracy: 0.5349, balanced accuracy:0.5000 precision: 0.5349, recall: 1.0000, F1: 0.6970, specificity: 0.0000, auc score: 0.5\n",
            "----------\n",
            "epoch 19/30\n",
            "epoch 19, training, average loss: 0.6902, accuracy: 0.5377, balanced_Acc:0.5000, precision: 0.5377, recall: 1.0000, F1: 0.6993, specificity: 0.0000, auc score: 0.5\n",
            "epoch 19, validation, confusion matrix:(0, 80, 0, 92) accuracy: 0.5349, balanced accuracy:0.5000 precision: 0.5349, recall: 1.0000, F1: 0.6970, specificity: 0.0000, auc score: 0.5\n",
            "----------\n",
            "epoch 20/30\n",
            "epoch 20, training, average loss: 0.6913, accuracy: 0.5377, balanced_Acc:0.5000, precision: 0.5377, recall: 1.0000, F1: 0.6993, specificity: 0.0000, auc score: 0.5\n",
            "epoch 20, validation, confusion matrix:(0, 80, 0, 92) accuracy: 0.5349, balanced accuracy:0.5000 precision: 0.5349, recall: 1.0000, F1: 0.6970, specificity: 0.0000, auc score: 0.5\n",
            "----------\n",
            "epoch 21/30\n",
            "epoch 21, training, average loss: 0.6908, accuracy: 0.5377, balanced_Acc:0.5000, precision: 0.5377, recall: 1.0000, F1: 0.6993, specificity: 0.0000, auc score: 0.5\n",
            "epoch 21, validation, confusion matrix:(0, 80, 0, 92) accuracy: 0.5349, balanced accuracy:0.5000 precision: 0.5349, recall: 1.0000, F1: 0.6970, specificity: 0.0000, auc score: 0.5\n",
            "----------\n",
            "epoch 22/30\n",
            "epoch 22, training, average loss: 0.6912, accuracy: 0.5377, balanced_Acc:0.5000, precision: 0.5377, recall: 1.0000, F1: 0.6993, specificity: 0.0000, auc score: 0.5\n",
            "epoch 22, validation, confusion matrix:(0, 80, 0, 92) accuracy: 0.5349, balanced accuracy:0.5000 precision: 0.5349, recall: 1.0000, F1: 0.6970, specificity: 0.0000, auc score: 0.5\n",
            "----------\n",
            "epoch 23/30\n",
            "epoch 23, training, average loss: 0.6911, accuracy: 0.5377, balanced_Acc:0.5000, precision: 0.5377, recall: 1.0000, F1: 0.6993, specificity: 0.0000, auc score: 0.5\n",
            "epoch 23, validation, confusion matrix:(0, 80, 0, 92) accuracy: 0.5349, balanced accuracy:0.5000 precision: 0.5349, recall: 1.0000, F1: 0.6970, specificity: 0.0000, auc score: 0.5\n",
            "----------\n",
            "epoch 24/30\n",
            "epoch 24, training, average loss: 0.6916, accuracy: 0.5377, balanced_Acc:0.5000, precision: 0.5377, recall: 1.0000, F1: 0.6993, specificity: 0.0000, auc score: 0.5\n",
            "epoch 24, validation, confusion matrix:(0, 80, 0, 92) accuracy: 0.5349, balanced accuracy:0.5000 precision: 0.5349, recall: 1.0000, F1: 0.6970, specificity: 0.0000, auc score: 0.5\n",
            "----------\n",
            "epoch 25/30\n",
            "epoch 25, training, average loss: 0.6921, accuracy: 0.5377, balanced_Acc:0.5000, precision: 0.5377, recall: 1.0000, F1: 0.6993, specificity: 0.0000, auc score: 0.5\n",
            "epoch 25, validation, confusion matrix:(0, 80, 0, 92) accuracy: 0.5349, balanced accuracy:0.5000 precision: 0.5349, recall: 1.0000, F1: 0.6970, specificity: 0.0000, auc score: 0.5\n",
            "----------\n",
            "epoch 26/30\n",
            "epoch 26, training, average loss: 0.6930, accuracy: 0.5377, balanced_Acc:0.5000, precision: 0.5377, recall: 1.0000, F1: 0.6993, specificity: 0.0000, auc score: 0.5\n",
            "epoch 26, validation, confusion matrix:(0, 80, 0, 92) accuracy: 0.5349, balanced accuracy:0.5000 precision: 0.5349, recall: 1.0000, F1: 0.6970, specificity: 0.0000, auc score: 0.5\n",
            "----------\n",
            "epoch 27/30\n",
            "epoch 27, training, average loss: 0.6902, accuracy: 0.5377, balanced_Acc:0.5000, precision: 0.5377, recall: 1.0000, F1: 0.6993, specificity: 0.0000, auc score: 0.5\n",
            "epoch 27, validation, confusion matrix:(0, 80, 0, 92) accuracy: 0.5349, balanced accuracy:0.5000 precision: 0.5349, recall: 1.0000, F1: 0.6970, specificity: 0.0000, auc score: 0.5\n",
            "----------\n",
            "epoch 28/30\n",
            "epoch 28, training, average loss: 0.6908, accuracy: 0.5377, balanced_Acc:0.5000, precision: 0.5377, recall: 1.0000, F1: 0.6993, specificity: 0.0000, auc score: 0.5\n",
            "epoch 28, validation, confusion matrix:(0, 80, 0, 92) accuracy: 0.5349, balanced accuracy:0.5000 precision: 0.5349, recall: 1.0000, F1: 0.6970, specificity: 0.0000, auc score: 0.5\n",
            "----------\n",
            "epoch 29/30\n",
            "epoch 29, training, average loss: 0.6906, accuracy: 0.5377, balanced_Acc:0.5000, precision: 0.5377, recall: 1.0000, F1: 0.6993, specificity: 0.0000, auc score: 0.5\n",
            "epoch 29, validation, confusion matrix:(0, 80, 0, 92) accuracy: 0.5349, balanced accuracy:0.5000 precision: 0.5349, recall: 1.0000, F1: 0.6970, specificity: 0.0000, auc score: 0.5\n",
            "----------\n",
            "epoch 30/30\n",
            "epoch 30, training, average loss: 0.6903, accuracy: 0.5377, balanced_Acc:0.5000, precision: 0.5377, recall: 1.0000, F1: 0.6993, specificity: 0.0000, auc score: 0.5\n",
            "epoch 30, validation, confusion matrix:(0, 80, 0, 92) accuracy: 0.5349, balanced accuracy:0.5000 precision: 0.5349, recall: 1.0000, F1: 0.6970, specificity: 0.0000, auc score: 0.5\n",
            "Training completed, validation best_metric: 0.6970 at epoch: 2\n"
          ]
        }
      ]
    },
    {
      "cell_type": "code",
      "source": [
        "#!python /content/Schiz_Detector/test/view_heatmap.py --visualize='2d' --view='axial' --image_path='/content/drive/MyDrive/schizophrenia_data/MCIC_/MCICShare/sub-A00036136/ses-20050101/anat/sub-A00036136_ses-20050101_acq-mprage_run-01_T1w.nii' --image_label=0 --state_dict_path='/content/best_metric_model_classification3d_array.pth' "
      ],
      "metadata": {
        "id": "L1IJ-TphjAQ0"
      },
      "execution_count": 7,
      "outputs": []
    }
  ]
}