{
  "cells": [
    {
      "cell_type": "markdown",
      "metadata": {
        "id": "view-in-github",
        "colab_type": "text"
      },
      "source": [
        "<a href=\"https://colab.research.google.com/github/ZenaPoudel/Schiz_Detector/blob/main/mcic_t1_batch_8_0_3.ipynb\" target=\"_parent\"><img src=\"https://colab.research.google.com/assets/colab-badge.svg\" alt=\"Open In Colab\"/></a>"
      ]
    },
    {
      "cell_type": "code",
      "execution_count": null,
      "metadata": {
        "colab": {
          "base_uri": "https://localhost:8080/"
        },
        "id": "kWXAfYP3Ewa9",
        "outputId": "ea3e80b0-429c-4bb1-ec27-3750ef0be1c8"
      },
      "outputs": [
        {
          "name": "stdout",
          "output_type": "stream",
          "text": [
            "Cloning into 'Schiz_Detector'...\n",
            "remote: Enumerating objects: 562, done.\u001b[K\n",
            "remote: Counting objects: 100% (36/36), done.\u001b[K\n",
            "remote: Compressing objects: 100% (35/35), done.\u001b[K\n",
            "remote: Total 562 (delta 24), reused 1 (delta 1), pack-reused 526\u001b[K\n",
            "Receiving objects: 100% (562/562), 459.04 KiB | 9.77 MiB/s, done.\n",
            "Resolving deltas: 100% (385/385), done.\n"
          ]
        }
      ],
      "source": [
        "!git clone https://github.com/ZenaPoudel/Schiz_Detector"
      ]
    },
    {
      "cell_type": "code",
      "execution_count": null,
      "metadata": {
        "colab": {
          "base_uri": "https://localhost:8080/"
        },
        "id": "O58eQzh15QsG",
        "outputId": "837e95dd-c2b9-49d3-b225-f06019a3feff"
      },
      "outputs": [
        {
          "name": "stdout",
          "output_type": "stream",
          "text": [
            "Looking in indexes: https://pypi.org/simple, https://us-python.pkg.dev/colab-wheels/public/simple/\n",
            "Collecting monai\n",
            "  Downloading monai-1.1.0-202212191849-py3-none-any.whl (1.2 MB)\n",
            "\u001b[2K     \u001b[90m━━━━━━━━━━━━━━━━━━━━━━━━━━━━━━━━━━━━━━━━\u001b[0m \u001b[32m1.2/1.2 MB\u001b[0m \u001b[31m17.8 MB/s\u001b[0m eta \u001b[36m0:00:00\u001b[0m\n",
            "\u001b[?25hRequirement already satisfied: numpy>=1.17 in /usr/local/lib/python3.8/dist-packages (from monai) (1.21.6)\n",
            "Requirement already satisfied: torch>=1.8 in /usr/local/lib/python3.8/dist-packages (from monai) (1.13.0+cu116)\n",
            "Requirement already satisfied: typing-extensions in /usr/local/lib/python3.8/dist-packages (from torch>=1.8->monai) (4.4.0)\n",
            "Installing collected packages: monai\n",
            "Successfully installed monai-1.1.0\n"
          ]
        }
      ],
      "source": [
        "pip install monai"
      ]
    },
    {
      "cell_type": "code",
      "execution_count": null,
      "metadata": {
        "colab": {
          "base_uri": "https://localhost:8080/"
        },
        "id": "YO7nMIQG47nK",
        "outputId": "47f0159f-cbad-40ff-d893-8133516b38ca"
      },
      "outputs": [
        {
          "name": "stdout",
          "output_type": "stream",
          "text": [
            "Mounted at /content/drive\n"
          ]
        }
      ],
      "source": [
        "from google.colab import drive\n",
        "drive.mount('/content/drive')"
      ]
    },
    {
      "cell_type": "code",
      "execution_count": null,
      "metadata": {
        "colab": {
          "base_uri": "https://localhost:8080/"
        },
        "id": "0cxaQhkcoPNG",
        "outputId": "c8412507-f8ef-4124-a141-fc119b781840"
      },
      "outputs": [
        {
          "name": "stdout",
          "output_type": "stream",
          "text": [
            "Looking in indexes: https://pypi.org/simple, https://us-python.pkg.dev/colab-wheels/public/simple/\n",
            "Requirement already satisfied: numpy in /usr/local/lib/python3.8/dist-packages (1.21.6)\n"
          ]
        }
      ],
      "source": [
        "pip install numpy"
      ]
    },
    {
      "cell_type": "code",
      "execution_count": null,
      "metadata": {
        "colab": {
          "base_uri": "https://localhost:8080/"
        },
        "id": "oQ7a5hGcFvtR",
        "outputId": "8cad8ccc-b994-4c24-d494-5718dd84c557"
      },
      "outputs": [
        {
          "name": "stdout",
          "output_type": "stream",
          "text": [
            "Looking in indexes: https://pypi.org/simple, https://us-python.pkg.dev/colab-wheels/public/simple/\n",
            "Requirement already satisfied: nibabel in /usr/local/lib/python3.8/dist-packages (3.0.2)\n",
            "Requirement already satisfied: numpy>=1.12 in /usr/local/lib/python3.8/dist-packages (from nibabel) (1.21.6)\n"
          ]
        }
      ],
      "source": [
        "pip install nibabel"
      ]
    },
    {
      "cell_type": "code",
      "execution_count": null,
      "metadata": {
        "colab": {
          "background_save": true,
          "base_uri": "https://localhost:8080/"
        },
        "id": "BxfnM6lJekvh",
        "outputId": "1ce55ffc-6eed-419b-f507-823ac3d3e14f"
      },
      "outputs": [
        {
          "name": "stdout",
          "output_type": "stream",
          "text": [
            "----------\n",
            "epoch 1/30\n",
            "epoch 1, training, average loss: 0.6953, accuracy: 0.5176, balanced_Acc:0.4878, precision: 0.5309, recall: 0.8832, F1: 0.6632, specificity: 0.0924, auc score: 0.487784437220642\n",
            "saved new validation best metric model\n",
            "epoch 1, validation, confusion matrix:(71, 9, 87, 5) accuracy: 0.4419, balanced accuracy:0.4709 precision: 0.3571, recall: 0.0543, F1: 0.0943, specificity: 0.8875, auc score: 0.47092391304347825\n",
            "----------\n",
            "epoch 2/30\n",
            "epoch 2, training, average loss: 0.6896, accuracy: 0.5327, balanced_Acc:0.5292, precision: 0.5642, recall: 0.5748, F1: 0.5694, specificity: 0.4837, auc score: 0.52923100365705\n",
            "epoch 2, validation, confusion matrix:(71, 9, 88, 4) accuracy: 0.4360, balanced accuracy:0.4655 precision: 0.3077, recall: 0.0435, F1: 0.0762, specificity: 0.8875, auc score: 0.4654891304347826\n",
            "----------\n",
            "epoch 3/30\n",
            "epoch 3, training, average loss: 0.6774, accuracy: 0.5804, balanced_Acc:0.5740, precision: 0.6000, recall: 0.6589, F1: 0.6281, specificity: 0.4891, auc score: 0.574004469727753\n",
            "saved new validation best metric model\n",
            "epoch 3, validation, confusion matrix:(29, 51, 11, 81) accuracy: 0.6395, balanced accuracy:0.6215 precision: 0.6136, recall: 0.8804, F1: 0.7232, specificity: 0.3625, auc score: 0.6214673913043478\n",
            "----------\n",
            "epoch 4/30\n",
            "epoch 4, training, average loss: 0.6599, accuracy: 0.5930, balanced_Acc:0.5807, precision: 0.5977, recall: 0.7430, F1: 0.6625, specificity: 0.4185, auc score: 0.5807344575375863\n",
            "epoch 4, validation, confusion matrix:(56, 24, 29, 63) accuracy: 0.6919, balanced accuracy:0.6924 precision: 0.7241, recall: 0.6848, F1: 0.7039, specificity: 0.7000, auc score: 0.6923913043478261\n",
            "----------\n",
            "epoch 5/30\n",
            "epoch 5, training, average loss: 0.6196, accuracy: 0.6583, balanced_Acc:0.6544, precision: 0.6741, recall: 0.7056, F1: 0.6895, specificity: 0.6033, auc score: 0.6544341731003657\n",
            "epoch 5, validation, confusion matrix:(41, 39, 18, 74) accuracy: 0.6686, balanced accuracy:0.6584 precision: 0.6549, recall: 0.8043, F1: 0.7220, specificity: 0.5125, auc score: 0.6584239130434782\n",
            "----------\n",
            "epoch 6/30\n",
            "epoch 6, training, average loss: 0.6305, accuracy: 0.5980, balanced_Acc:0.5972, precision: 0.6311, recall: 0.6075, F1: 0.6190, specificity: 0.5870, auc score: 0.5972165786265745\n",
            "saved new validation best metric model\n",
            "epoch 6, validation, confusion matrix:(51, 29, 20, 72) accuracy: 0.7151, balanced accuracy:0.7101 precision: 0.7129, recall: 0.7826, F1: 0.7461, specificity: 0.6375, auc score: 0.7100543478260869\n",
            "----------\n",
            "epoch 7/30\n",
            "epoch 7, training, average loss: 0.5813, accuracy: 0.6784, balanced_Acc:0.6785, precision: 0.7108, recall: 0.6776, F1: 0.6938, specificity: 0.6793, auc score: 0.6784589597724502\n",
            "epoch 7, validation, confusion matrix:(40, 40, 17, 75) accuracy: 0.6686, balanced accuracy:0.6576 precision: 0.6522, recall: 0.8152, F1: 0.7246, specificity: 0.5000, auc score: 0.6576086956521738\n",
            "----------\n",
            "epoch 8/30\n",
            "epoch 8, training, average loss: 0.5296, accuracy: 0.7261, balanced_Acc:0.7267, precision: 0.7586, recall: 0.7196, F1: 0.7386, specificity: 0.7337, auc score: 0.7266609101991061\n",
            "epoch 8, validation, confusion matrix:(64, 16, 44, 48) accuracy: 0.6512, balanced accuracy:0.6609 precision: 0.7500, recall: 0.5217, F1: 0.6154, specificity: 0.8000, auc score: 0.6608695652173914\n",
            "----------\n",
            "epoch 9/30\n",
            "epoch 9, training, average loss: 0.4556, accuracy: 0.7789, balanced_Acc:0.7773, precision: 0.7917, recall: 0.7991, F1: 0.7953, specificity: 0.7554, auc score: 0.7772501015847216\n",
            "epoch 9, validation, confusion matrix:(51, 29, 31, 61) accuracy: 0.6512, balanced accuracy:0.6503 precision: 0.6778, recall: 0.6630, F1: 0.6703, specificity: 0.6375, auc score: 0.6502717391304347\n",
            "----------\n",
            "epoch 10/30\n",
            "epoch 10, training, average loss: 0.3428, accuracy: 0.8417, balanced_Acc:0.8425, precision: 0.8683, recall: 0.8318, F1: 0.8496, specificity: 0.8533, auc score: 0.8425182852498984\n",
            "epoch 10, validation, confusion matrix:(48, 32, 40, 52) accuracy: 0.5814, balanced accuracy:0.5826 precision: 0.6190, recall: 0.5652, F1: 0.5909, specificity: 0.6000, auc score: 0.5826086956521739\n",
            "----------\n",
            "epoch 11/30\n",
            "epoch 11, training, average loss: 0.3073, accuracy: 0.8643, balanced_Acc:0.8643, precision: 0.8810, recall: 0.8645, F1: 0.8726, specificity: 0.8641, auc score: 0.8643082080455099\n",
            "epoch 11, validation, confusion matrix:(52, 28, 39, 53) accuracy: 0.6105, balanced accuracy:0.6130 precision: 0.6543, recall: 0.5761, F1: 0.6127, specificity: 0.6500, auc score: 0.6130434782608697\n",
            "----------\n",
            "epoch 12/30\n",
            "epoch 12, training, average loss: 0.1680, accuracy: 0.9372, balanced_Acc:0.9370, precision: 0.9437, recall: 0.9393, F1: 0.9415, specificity: 0.9348, auc score: 0.9370174725721252\n",
            "epoch 12, validation, confusion matrix:(62, 18, 53, 39) accuracy: 0.5872, balanced accuracy:0.5995 precision: 0.6842, recall: 0.4239, F1: 0.5235, specificity: 0.7750, auc score: 0.5994565217391303\n",
            "----------\n",
            "epoch 13/30\n",
            "epoch 13, training, average loss: 0.1782, accuracy: 0.9372, balanced_Acc:0.9378, precision: 0.9522, recall: 0.9299, F1: 0.9409, specificity: 0.9457, auc score: 0.9377793579845591\n",
            "epoch 13, validation, confusion matrix:(44, 36, 30, 62) accuracy: 0.6163, balanced accuracy:0.6120 precision: 0.6327, recall: 0.6739, F1: 0.6526, specificity: 0.5500, auc score: 0.6119565217391304\n",
            "----------\n",
            "epoch 14/30\n",
            "epoch 14, training, average loss: 0.1058, accuracy: 0.9673, balanced_Acc:0.9670, precision: 0.9674, recall: 0.9720, F1: 0.9697, specificity: 0.9620, auc score: 0.9669595692807801\n",
            "epoch 14, validation, confusion matrix:(46, 34, 38, 54) accuracy: 0.5814, balanced accuracy:0.5810 precision: 0.6136, recall: 0.5870, F1: 0.6000, specificity: 0.5750, auc score: 0.5809782608695652\n",
            "----------\n",
            "epoch 15/30\n",
            "epoch 15, training, average loss: 0.1840, accuracy: 0.9322, balanced_Acc:0.9316, precision: 0.9349, recall: 0.9393, F1: 0.9371, specificity: 0.9239, auc score: 0.9315826899634294\n",
            "epoch 15, validation, confusion matrix:(44, 36, 24, 68) accuracy: 0.6512, balanced accuracy:0.6446 precision: 0.6538, recall: 0.7391, F1: 0.6939, specificity: 0.5500, auc score: 0.6445652173913043\n",
            "----------\n",
            "epoch 16/30\n",
            "epoch 16, training, average loss: 0.1085, accuracy: 0.9698, balanced_Acc:0.9689, precision: 0.9633, recall: 0.9813, F1: 0.9722, specificity: 0.9565, auc score: 0.968915075172694\n",
            "epoch 16, validation, confusion matrix:(53, 27, 39, 53) accuracy: 0.6163, balanced accuracy:0.6193 precision: 0.6625, recall: 0.5761, F1: 0.6163, specificity: 0.6625, auc score: 0.6192934782608696\n",
            "----------\n",
            "epoch 17/30\n",
            "epoch 17, training, average loss: 0.0490, accuracy: 0.9925, balanced_Acc:0.9922, precision: 0.9907, recall: 0.9953, F1: 0.9930, specificity: 0.9891, auc score: 0.9922287687931735\n",
            "epoch 17, validation, confusion matrix:(50, 30, 34, 58) accuracy: 0.6279, balanced accuracy:0.6277 precision: 0.6591, recall: 0.6304, F1: 0.6444, specificity: 0.6250, auc score: 0.6277173913043479\n",
            "----------\n",
            "epoch 18/30\n",
            "epoch 18, training, average loss: 0.0654, accuracy: 0.9824, balanced_Acc:0.9825, precision: 0.9859, recall: 0.9813, F1: 0.9836, specificity: 0.9837, auc score: 0.9825020316944333\n",
            "epoch 18, validation, confusion matrix:(50, 30, 39, 53) accuracy: 0.5988, balanced accuracy:0.6005 precision: 0.6386, recall: 0.5761, F1: 0.6057, specificity: 0.6250, auc score: 0.6005434782608696\n",
            "----------\n",
            "epoch 19/30\n",
            "epoch 19, training, average loss: 0.0242, accuracy: 0.9975, balanced_Acc:0.9973, precision: 0.9953, recall: 1.0000, F1: 0.9977, specificity: 0.9946, auc score: 0.9972826086956521\n",
            "epoch 19, validation, confusion matrix:(52, 28, 40, 52) accuracy: 0.6047, balanced accuracy:0.6076 precision: 0.6500, recall: 0.5652, F1: 0.6047, specificity: 0.6500, auc score: 0.6076086956521738\n",
            "----------\n",
            "epoch 20/30\n",
            "epoch 20, training, average loss: 0.0095, accuracy: 1.0000, balanced_Acc:1.0000, precision: 1.0000, recall: 1.0000, F1: 1.0000, specificity: 1.0000, auc score: 1.0\n",
            "epoch 20, validation, confusion matrix:(55, 25, 44, 48) accuracy: 0.5988, balanced accuracy:0.6046 precision: 0.6575, recall: 0.5217, F1: 0.5818, specificity: 0.6875, auc score: 0.6046195652173914\n",
            "----------\n",
            "epoch 21/30\n",
            "epoch 21, training, average loss: 0.0209, accuracy: 0.9950, balanced_Acc:0.9949, precision: 0.9953, recall: 0.9953, F1: 0.9953, specificity: 0.9946, auc score: 0.9949461600975213\n",
            "epoch 21, validation, confusion matrix:(53, 27, 42, 50) accuracy: 0.5988, balanced accuracy:0.6030 precision: 0.6494, recall: 0.5435, F1: 0.5917, specificity: 0.6625, auc score: 0.6029891304347826\n",
            "----------\n",
            "epoch 22/30\n",
            "epoch 22, training, average loss: 0.0272, accuracy: 0.9950, balanced_Acc:0.9949, precision: 0.9953, recall: 0.9953, F1: 0.9953, specificity: 0.9946, auc score: 0.9949461600975213\n",
            "epoch 22, validation, confusion matrix:(43, 37, 29, 63) accuracy: 0.6163, balanced accuracy:0.6111 precision: 0.6300, recall: 0.6848, F1: 0.6563, specificity: 0.5375, auc score: 0.6111413043478261\n",
            "----------\n",
            "epoch 23/30\n",
            "epoch 23, training, average loss: 0.0233, accuracy: 0.9899, balanced_Acc:0.9899, precision: 0.9907, recall: 0.9907, F1: 0.9907, specificity: 0.9891, auc score: 0.9898923201950426\n",
            "epoch 23, validation, confusion matrix:(53, 27, 38, 54) accuracy: 0.6221, balanced accuracy:0.6247 precision: 0.6667, recall: 0.5870, F1: 0.6243, specificity: 0.6625, auc score: 0.6247282608695652\n",
            "----------\n",
            "epoch 24/30\n",
            "epoch 24, training, average loss: 0.0129, accuracy: 1.0000, balanced_Acc:1.0000, precision: 1.0000, recall: 1.0000, F1: 1.0000, specificity: 1.0000, auc score: 1.0\n",
            "epoch 24, validation, confusion matrix:(50, 30, 35, 57) accuracy: 0.6221, balanced accuracy:0.6223 precision: 0.6552, recall: 0.6196, F1: 0.6369, specificity: 0.6250, auc score: 0.6222826086956521\n",
            "----------\n",
            "epoch 25/30\n",
            "epoch 25, training, average loss: 0.0046, accuracy: 1.0000, balanced_Acc:1.0000, precision: 1.0000, recall: 1.0000, F1: 1.0000, specificity: 1.0000, auc score: 1.0\n",
            "epoch 25, validation, confusion matrix:(51, 29, 35, 57) accuracy: 0.6279, balanced accuracy:0.6285 precision: 0.6628, recall: 0.6196, F1: 0.6404, specificity: 0.6375, auc score: 0.6285326086956521\n",
            "----------\n",
            "epoch 26/30\n",
            "epoch 26, training, average loss: 0.0037, accuracy: 1.0000, balanced_Acc:1.0000, precision: 1.0000, recall: 1.0000, F1: 1.0000, specificity: 1.0000, auc score: 1.0\n",
            "epoch 26, validation, confusion matrix:(52, 28, 38, 54) accuracy: 0.6163, balanced accuracy:0.6185 precision: 0.6585, recall: 0.5870, F1: 0.6207, specificity: 0.6500, auc score: 0.6184782608695653\n",
            "----------\n",
            "epoch 27/30\n",
            "epoch 27, training, average loss: 0.0026, accuracy: 1.0000, balanced_Acc:1.0000, precision: 1.0000, recall: 1.0000, F1: 1.0000, specificity: 1.0000, auc score: 1.0\n",
            "epoch 27, validation, confusion matrix:(52, 28, 34, 58) accuracy: 0.6395, balanced accuracy:0.6402 precision: 0.6744, recall: 0.6304, F1: 0.6517, specificity: 0.6500, auc score: 0.6402173913043478\n",
            "----------\n",
            "epoch 28/30\n",
            "epoch 28, training, average loss: 0.0044, accuracy: 1.0000, balanced_Acc:1.0000, precision: 1.0000, recall: 1.0000, F1: 1.0000, specificity: 1.0000, auc score: 1.0\n",
            "epoch 28, validation, confusion matrix:(53, 27, 36, 56) accuracy: 0.6337, balanced accuracy:0.6356 precision: 0.6747, recall: 0.6087, F1: 0.6400, specificity: 0.6625, auc score: 0.6355978260869566\n",
            "----------\n",
            "epoch 29/30\n",
            "epoch 29, training, average loss: 0.0021, accuracy: 1.0000, balanced_Acc:1.0000, precision: 1.0000, recall: 1.0000, F1: 1.0000, specificity: 1.0000, auc score: 1.0\n",
            "epoch 29, validation, confusion matrix:(48, 32, 33, 59) accuracy: 0.6221, balanced accuracy:0.6207 precision: 0.6484, recall: 0.6413, F1: 0.6448, specificity: 0.6000, auc score: 0.6206521739130435\n",
            "----------\n",
            "epoch 30/30\n",
            "epoch 30, training, average loss: 0.0023, accuracy: 1.0000, balanced_Acc:1.0000, precision: 1.0000, recall: 1.0000, F1: 1.0000, specificity: 1.0000, auc score: 1.0\n",
            "epoch 30, validation, confusion matrix:(51, 29, 36, 56) accuracy: 0.6221, balanced accuracy:0.6231 precision: 0.6588, recall: 0.6087, F1: 0.6328, specificity: 0.6375, auc score: 0.6230978260869564\n",
            "Training completed, validation best_metric: 0.7461 at epoch: 6\n"
          ]
        }
      ],
      "source": [
        "!python /content/Schiz_Detector/trainer/train.py --epoch=30 "
      ]
    },
    {
      "cell_type": "code",
      "execution_count": null,
      "metadata": {
        "colab": {
          "background_save": true
        },
        "id": "L1IJ-TphjAQ0"
      },
      "outputs": [],
      "source": [
        "# !python /content/Schiz_Detector/test/view_heatmap.py --visualize='3d' --view='axial' --image_path='/content/drive/MyDrive/schizophrenia_data/MCIC_/MCICShare/sub-A00036136/ses-20050101/anat/sub-A00036136_ses-20050101_acq-mprage_run-01_T1w.nii' --image_label=0 --state_dict_path='/content/best_metric_model_classification3d_array_t1.pth' "
      ]
    }
  ],
  "metadata": {
    "accelerator": "GPU",
    "colab": {
      "provenance": [],
      "include_colab_link": true
    },
    "gpuClass": "standard",
    "kernelspec": {
      "display_name": "Python 3",
      "name": "python3"
    },
    "language_info": {
      "name": "python"
    }
  },
  "nbformat": 4,
  "nbformat_minor": 0
}